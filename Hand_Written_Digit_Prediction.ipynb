{
  "nbformat": 4,
  "nbformat_minor": 0,
  "metadata": {
    "colab": {
      "provenance": []
    },
    "kernelspec": {
      "name": "python3",
      "display_name": "Python 3"
    },
    "language_info": {
      "name": "python"
    }
  },
  "cells": [
    {
      "cell_type": "markdown",
      "source": [
        "Project- Hand Written Digit Prediction"
      ],
      "metadata": {
        "id": "qZp5k74l8f_z"
      }
    },
    {
      "cell_type": "markdown",
      "source": [
        "Import Library"
      ],
      "metadata": {
        "id": "7pXBPRcB8xKQ"
      }
    },
    {
      "cell_type": "code",
      "execution_count": 22,
      "metadata": {
        "id": "LMvWIXdK8E-I"
      },
      "outputs": [],
      "source": [
        "import pandas as ps"
      ]
    },
    {
      "cell_type": "code",
      "source": [
        "import numpy as np"
      ],
      "metadata": {
        "id": "FPpsCQv_8O3t"
      },
      "execution_count": 23,
      "outputs": []
    },
    {
      "cell_type": "code",
      "source": [
        "import matplotlib.pyplot as plt"
      ],
      "metadata": {
        "id": "1lx4AyyE8RrO"
      },
      "execution_count": 24,
      "outputs": []
    },
    {
      "cell_type": "markdown",
      "source": [
        "Import Data"
      ],
      "metadata": {
        "id": "lH6aKk2V8zeW"
      }
    },
    {
      "cell_type": "code",
      "source": [
        "from sklearn.datasets import load_digits"
      ],
      "metadata": {
        "id": "9nHNlx2T8bKa"
      },
      "execution_count": 25,
      "outputs": []
    },
    {
      "cell_type": "code",
      "source": [
        "df=load_digits()"
      ],
      "metadata": {
        "id": "CdFAHDcM8_UL"
      },
      "execution_count": 28,
      "outputs": []
    },
    {
      "cell_type": "code",
      "source": [
        "_,axes=plt.subplots(nrows=1,ncols=4,figsize=(10,3))\n",
        "for ax,image,label in zip(axes,df.images,df.target):\n",
        "  ax.set_axis_off()\n",
        "  ax.imshow(image,cmap=plt.cm.gray_r, interpolation=\"nearest\")\n",
        "  ax.set_title(\"Training: %i\" % label)"
      ],
      "metadata": {
        "colab": {
          "base_uri": "https://localhost:8080/",
          "height": 227
        },
        "id": "EkqyUc_O9D69",
        "outputId": "ab7131de-d5dd-43b0-b6fb-00535926b9b5"
      },
      "execution_count": 29,
      "outputs": [
        {
          "output_type": "display_data",
          "data": {
            "text/plain": [
              "<Figure size 1000x300 with 4 Axes>"
            ],
            "image/png": "[encoded data removed]"
          },
          "metadata": {}
        }
      ]
    },
    {
      "cell_type": "markdown",
      "source": [
        "Data Preprocessing"
      ],
      "metadata": {
        "id": "wDMGOQTx_tVN"
      }
    },
    {
      "cell_type": "code",
      "source": [
        "df.images.shape"
      ],
      "metadata": {
        "colab": {
          "base_uri": "https://localhost:8080/"
        },
        "id": "PeNquhFS_vs7",
        "outputId": "5b6b6322-9e71-45e4-9b34-16e7508ed622"
      },
      "execution_count": 30,
      "outputs": [
        {
          "output_type": "execute_result",
          "data": {
            "text/plain": [
              "(1797, 8, 8)"
            ]
          },
          "metadata": {},
          "execution_count": 30
        }
      ]
    },
    {
      "cell_type": "code",
      "source": [
        "df.images[0]"
      ],
      "metadata": {
        "colab": {
          "base_uri": "https://localhost:8080/"
        },
        "id": "HIOZOxoX_0CQ",
        "outputId": "722397c5-1096-4257-e42b-b4fa2e98ce11"
      },
      "execution_count": 31,
      "outputs": [
        {
          "output_type": "execute_result",
          "data": {
            "text/plain": [
              "array([[ 0.,  0.,  5., 13.,  9.,  1.,  0.,  0.],\n",
              "       [ 0.,  0., 13., 15., 10., 15.,  5.,  0.],\n",
              "       [ 0.,  3., 15.,  2.,  0., 11.,  8.,  0.],\n",
              "       [ 0.,  4., 12.,  0.,  0.,  8.,  8.,  0.],\n",
              "       [ 0.,  5.,  8.,  0.,  0.,  9.,  8.,  0.],\n",
              "       [ 0.,  4., 11.,  0.,  1., 12.,  7.,  0.],\n",
              "       [ 0.,  2., 14.,  5., 10., 12.,  0.,  0.],\n",
              "       [ 0.,  0.,  6., 13., 10.,  0.,  0.,  0.]])"
            ]
          },
          "metadata": {},
          "execution_count": 31
        }
      ]
    },
    {
      "cell_type": "code",
      "source": [
        "df.images[0].shape"
      ],
      "metadata": {
        "colab": {
          "base_uri": "https://localhost:8080/"
        },
        "id": "JAxWDusP_3uN",
        "outputId": "634b5651-451d-4bd6-b467-681d8c30e0f7"
      },
      "execution_count": 32,
      "outputs": [
        {
          "output_type": "execute_result",
          "data": {
            "text/plain": [
              "(8, 8)"
            ]
          },
          "metadata": {},
          "execution_count": 32
        }
      ]
    },
    {
      "cell_type": "code",
      "source": [
        "len(df.images)"
      ],
      "metadata": {
        "colab": {
          "base_uri": "https://localhost:8080/"
        },
        "id": "gAX0CIQoAANT",
        "outputId": "f645d70f-f143-4521-a87a-d1973f29efef"
      },
      "execution_count": 33,
      "outputs": [
        {
          "output_type": "execute_result",
          "data": {
            "text/plain": [
              "1797"
            ]
          },
          "metadata": {},
          "execution_count": 33
        }
      ]
    },
    {
      "cell_type": "code",
      "source": [
        "n_samples=len(df.images)\n",
        "data=df.images.reshape(n_samples,-1)"
      ],
      "metadata": {
        "id": "dbtu8UEuAGTS"
      },
      "execution_count": 35,
      "outputs": []
    },
    {
      "cell_type": "code",
      "source": [
        "data[0]"
      ],
      "metadata": {
        "colab": {
          "base_uri": "https://localhost:8080/"
        },
        "id": "_1pTPm5vAeNO",
        "outputId": "f94957dc-de60-4fbb-c32d-355f73fbfee7"
      },
      "execution_count": 36,
      "outputs": [
        {
          "output_type": "execute_result",
          "data": {
            "text/plain": [
              "array([ 0.,  0.,  5., 13.,  9.,  1.,  0.,  0.,  0.,  0., 13., 15., 10.,\n",
              "       15.,  5.,  0.,  0.,  3., 15.,  2.,  0., 11.,  8.,  0.,  0.,  4.,\n",
              "       12.,  0.,  0.,  8.,  8.,  0.,  0.,  5.,  8.,  0.,  0.,  9.,  8.,\n",
              "        0.,  0.,  4., 11.,  0.,  1., 12.,  7.,  0.,  0.,  2., 14.,  5.,\n",
              "       10., 12.,  0.,  0.,  0.,  0.,  6., 13., 10.,  0.,  0.,  0.])"
            ]
          },
          "metadata": {},
          "execution_count": 36
        }
      ]
    },
    {
      "cell_type": "code",
      "source": [
        "data[0].shape"
      ],
      "metadata": {
        "colab": {
          "base_uri": "https://localhost:8080/"
        },
        "id": "4rhkhwswAgjR",
        "outputId": "268cc75b-6546-4cb2-8581-ce57fd40a098"
      },
      "execution_count": 37,
      "outputs": [
        {
          "output_type": "execute_result",
          "data": {
            "text/plain": [
              "(64,)"
            ]
          },
          "metadata": {},
          "execution_count": 37
        }
      ]
    },
    {
      "cell_type": "code",
      "source": [
        "data.shape"
      ],
      "metadata": {
        "colab": {
          "base_uri": "https://localhost:8080/"
        },
        "id": "YmK0A-plAkxX",
        "outputId": "a3e17585-b879-4cf1-c30f-1d3a99723303"
      },
      "execution_count": 38,
      "outputs": [
        {
          "output_type": "execute_result",
          "data": {
            "text/plain": [
              "(1797, 64)"
            ]
          },
          "metadata": {},
          "execution_count": 38
        }
      ]
    },
    {
      "cell_type": "markdown",
      "source": [
        "Scaling Image Data"
      ],
      "metadata": {
        "id": "VCfL4Kt7An37"
      }
    },
    {
      "cell_type": "code",
      "source": [
        "data.min()"
      ],
      "metadata": {
        "colab": {
          "base_uri": "https://localhost:8080/"
        },
        "id": "guJHDUORAsQu",
        "outputId": "710081e6-4c16-4ec4-eac2-08f678bea620"
      },
      "execution_count": 39,
      "outputs": [
        {
          "output_type": "execute_result",
          "data": {
            "text/plain": [
              "0.0"
            ]
          },
          "metadata": {},
          "execution_count": 39
        }
      ]
    },
    {
      "cell_type": "code",
      "source": [
        "data.max()"
      ],
      "metadata": {
        "colab": {
          "base_uri": "https://localhost:8080/"
        },
        "id": "p12i71oDAvZI",
        "outputId": "497684e4-2070-4b43-db7e-cd501772c4bd"
      },
      "execution_count": 40,
      "outputs": [
        {
          "output_type": "execute_result",
          "data": {
            "text/plain": [
              "16.0"
            ]
          },
          "metadata": {},
          "execution_count": 40
        }
      ]
    },
    {
      "cell_type": "code",
      "source": [
        "data=data/16"
      ],
      "metadata": {
        "id": "8_jOZDx-AyRJ"
      },
      "execution_count": 41,
      "outputs": []
    },
    {
      "cell_type": "code",
      "source": [
        "data.min()"
      ],
      "metadata": {
        "colab": {
          "base_uri": "https://localhost:8080/"
        },
        "id": "Kcx-7RKOA3Js",
        "outputId": "56775fb1-f41d-44bc-8461-35154999234b"
      },
      "execution_count": 42,
      "outputs": [
        {
          "output_type": "execute_result",
          "data": {
            "text/plain": [
              "0.0"
            ]
          },
          "metadata": {},
          "execution_count": 42
        }
      ]
    },
    {
      "cell_type": "code",
      "source": [
        "data.max()"
      ],
      "metadata": {
        "colab": {
          "base_uri": "https://localhost:8080/"
        },
        "id": "syRCitrQA7r7",
        "outputId": "1edd400a-b4d3-4fae-ba81-792a8d88f5c0"
      },
      "execution_count": 43,
      "outputs": [
        {
          "output_type": "execute_result",
          "data": {
            "text/plain": [
              "1.0"
            ]
          },
          "metadata": {},
          "execution_count": 43
        }
      ]
    },
    {
      "cell_type": "code",
      "source": [
        "data[0]"
      ],
      "metadata": {
        "colab": {
          "base_uri": "https://localhost:8080/"
        },
        "id": "tnB5cA9xA_at",
        "outputId": "ea851290-d81d-4408-d469-644f689a409d"
      },
      "execution_count": 44,
      "outputs": [
        {
          "output_type": "execute_result",
          "data": {
            "text/plain": [
              "array([0.    , 0.    , 0.3125, 0.8125, 0.5625, 0.0625, 0.    , 0.    ,\n",
              "       0.    , 0.    , 0.8125, 0.9375, 0.625 , 0.9375, 0.3125, 0.    ,\n",
              "       0.    , 0.1875, 0.9375, 0.125 , 0.    , 0.6875, 0.5   , 0.    ,\n",
              "       0.    , 0.25  , 0.75  , 0.    , 0.    , 0.5   , 0.5   , 0.    ,\n",
              "       0.    , 0.3125, 0.5   , 0.    , 0.    , 0.5625, 0.5   , 0.    ,\n",
              "       0.    , 0.25  , 0.6875, 0.    , 0.0625, 0.75  , 0.4375, 0.    ,\n",
              "       0.    , 0.125 , 0.875 , 0.3125, 0.625 , 0.75  , 0.    , 0.    ,\n",
              "       0.    , 0.    , 0.375 , 0.8125, 0.625 , 0.    , 0.    , 0.    ])"
            ]
          },
          "metadata": {},
          "execution_count": 44
        }
      ]
    },
    {
      "cell_type": "markdown",
      "source": [
        "Train Test Split Data"
      ],
      "metadata": {
        "id": "aX2BCBj_BBo-"
      }
    },
    {
      "cell_type": "code",
      "source": [
        "from sklearn.model_selection import train_test_split"
      ],
      "metadata": {
        "id": "ecTLyXqJBE-G"
      },
      "execution_count": 46,
      "outputs": []
    },
    {
      "cell_type": "code",
      "source": [
        "x_train,x_test,y_train,y_test=train_test_split(data,df.target,test_size=0.3)"
      ],
      "metadata": {
        "id": "nd3swvJMBNik"
      },
      "execution_count": 47,
      "outputs": []
    },
    {
      "cell_type": "code",
      "source": [
        "x_train.shape,x_test.shape,y_train.shape,y_test.shape"
      ],
      "metadata": {
        "colab": {
          "base_uri": "https://localhost:8080/"
        },
        "id": "GvtK6zeMBzMn",
        "outputId": "dad117b5-80bc-448c-9a1b-334ec4223648"
      },
      "execution_count": 48,
      "outputs": [
        {
          "output_type": "execute_result",
          "data": {
            "text/plain": [
              "((1257, 64), (540, 64), (1257,), (540,))"
            ]
          },
          "metadata": {},
          "execution_count": 48
        }
      ]
    },
    {
      "cell_type": "markdown",
      "source": [
        "Random Forest Model"
      ],
      "metadata": {
        "id": "i_tURh_DCApg"
      }
    },
    {
      "cell_type": "code",
      "source": [
        "from sklearn.ensemble import RandomForestClassifier"
      ],
      "metadata": {
        "id": "DRBRTb4_CDzw"
      },
      "execution_count": 49,
      "outputs": []
    },
    {
      "cell_type": "code",
      "source": [
        "rf= RandomForestClassifier()"
      ],
      "metadata": {
        "id": "IXHsfGaHCMlH"
      },
      "execution_count": 50,
      "outputs": []
    },
    {
      "cell_type": "code",
      "source": [
        "rf.fit(x_train,y_train)"
      ],
      "metadata": {
        "id": "lwOLWlKKCTTj"
      },
      "execution_count": null,
      "outputs": []
    },
    {
      "cell_type": "markdown",
      "source": [
        "Predict Test Data"
      ],
      "metadata": {
        "id": "rmnFifSBCbSl"
      }
    },
    {
      "cell_type": "code",
      "source": [
        "y_pred=rf.predict(x_test)"
      ],
      "metadata": {
        "id": "ApQ-5lMPCZM8"
      },
      "execution_count": 52,
      "outputs": []
    },
    {
      "cell_type": "code",
      "source": [
        "y_pred"
      ],
      "metadata": {
        "colab": {
          "base_uri": "https://localhost:8080/"
        },
        "id": "r9dJs-vOCnOQ",
        "outputId": "f1076b09-8321-4033-d32c-c25e9129313e"
      },
      "execution_count": 53,
      "outputs": [
        {
          "output_type": "execute_result",
          "data": {
            "text/plain": [
              "array([9, 9, 4, 8, 1, 1, 1, 9, 0, 3, 3, 7, 4, 4, 5, 1, 7, 8, 8, 1, 3, 8,\n",
              "       6, 2, 9, 6, 1, 8, 5, 5, 3, 7, 5, 4, 0, 3, 8, 9, 9, 9, 8, 6, 9, 3,\n",
              "       9, 6, 8, 6, 1, 7, 2, 1, 4, 1, 4, 9, 9, 8, 3, 9, 7, 6, 0, 0, 1, 4,\n",
              "       4, 0, 2, 1, 1, 2, 8, 8, 3, 8, 3, 6, 6, 3, 4, 3, 4, 2, 4, 9, 1, 8,\n",
              "       6, 1, 8, 2, 7, 4, 1, 5, 5, 2, 8, 2, 4, 9, 6, 3, 8, 5, 5, 6, 8, 2,\n",
              "       4, 1, 3, 5, 5, 7, 8, 6, 8, 2, 2, 4, 0, 9, 9, 5, 2, 1, 8, 8, 5, 4,\n",
              "       0, 5, 0, 1, 6, 8, 2, 2, 4, 3, 4, 0, 0, 4, 9, 1, 5, 6, 8, 5, 1, 1,\n",
              "       0, 1, 7, 0, 4, 0, 9, 3, 4, 3, 5, 2, 4, 3, 1, 7, 0, 9, 2, 0, 3, 2,\n",
              "       5, 5, 9, 8, 2, 0, 8, 8, 2, 2, 0, 7, 6, 9, 7, 6, 7, 6, 8, 2, 1, 9,\n",
              "       2, 5, 5, 8, 1, 2, 9, 7, 9, 7, 2, 1, 9, 4, 9, 8, 6, 2, 3, 7, 2, 7,\n",
              "       3, 7, 7, 4, 2, 5, 9, 8, 0, 7, 0, 6, 5, 9, 6, 4, 7, 2, 7, 9, 7, 3,\n",
              "       0, 2, 5, 7, 3, 4, 5, 8, 5, 1, 3, 1, 7, 0, 3, 3, 2, 3, 4, 0, 9, 5,\n",
              "       2, 2, 4, 3, 4, 6, 7, 4, 3, 3, 8, 0, 6, 1, 7, 6, 0, 1, 1, 8, 8, 7,\n",
              "       5, 4, 9, 4, 0, 6, 2, 9, 4, 0, 9, 5, 3, 6, 9, 8, 1, 0, 5, 4, 2, 3,\n",
              "       7, 9, 2, 1, 3, 1, 2, 7, 8, 1, 0, 2, 5, 7, 0, 7, 0, 4, 2, 9, 9, 2,\n",
              "       4, 7, 8, 6, 2, 3, 1, 3, 5, 7, 1, 7, 2, 9, 6, 1, 0, 6, 6, 0, 6, 7,\n",
              "       8, 8, 0, 3, 2, 1, 6, 9, 8, 8, 0, 7, 8, 9, 2, 7, 6, 0, 1, 3, 4, 8,\n",
              "       7, 7, 9, 9, 7, 5, 8, 2, 3, 1, 4, 4, 7, 8, 0, 8, 3, 6, 5, 9, 8, 5,\n",
              "       7, 7, 1, 6, 5, 9, 0, 8, 7, 4, 5, 6, 8, 9, 4, 3, 3, 8, 2, 7, 0, 4,\n",
              "       7, 5, 5, 7, 5, 3, 3, 5, 2, 5, 9, 5, 9, 5, 8, 7, 8, 8, 1, 8, 7, 4,\n",
              "       5, 8, 5, 2, 9, 6, 7, 9, 9, 4, 2, 7, 5, 5, 0, 6, 7, 6, 5, 3, 8, 9,\n",
              "       1, 1, 7, 1, 7, 8, 3, 7, 9, 0, 5, 3, 3, 9, 3, 8, 2, 4, 2, 8, 2, 6,\n",
              "       3, 2, 0, 5, 4, 4, 5, 5, 0, 9, 6, 1, 0, 3, 5, 5, 1, 5, 3, 1, 6, 7,\n",
              "       4, 0, 3, 7, 2, 2, 2, 9, 6, 8, 9, 2, 5, 2, 1, 3, 8, 8, 9, 0, 7, 2,\n",
              "       4, 6, 0, 8, 9, 6, 0, 3, 1, 5, 4, 5])"
            ]
          },
          "metadata": {},
          "execution_count": 53
        }
      ]
    },
    {
      "cell_type": "markdown",
      "source": [
        "Model Accuracy"
      ],
      "metadata": {
        "id": "4JOS5SWCCsuZ"
      }
    },
    {
      "cell_type": "code",
      "source": [
        "from sklearn.metrics import confusion_matrix, classification_report"
      ],
      "metadata": {
        "id": "8ex65yh5CrLW"
      },
      "execution_count": 55,
      "outputs": []
    },
    {
      "cell_type": "code",
      "source": [
        "confusion_matrix(y_test,y_pred)"
      ],
      "metadata": {
        "colab": {
          "base_uri": "https://localhost:8080/"
        },
        "id": "mUi1620tC2oO",
        "outputId": "41556c89-6096-4daf-f346-55eb2cf440b3"
      },
      "execution_count": 56,
      "outputs": [
        {
          "output_type": "execute_result",
          "data": {
            "text/plain": [
              "array([[47,  0,  0,  0,  0,  0,  0,  0,  0,  0],\n",
              "       [ 0, 49,  0,  0,  0,  0,  0,  0,  0,  0],\n",
              "       [ 0,  0, 57,  0,  0,  0,  0,  0,  0,  0],\n",
              "       [ 0,  0,  0, 52,  0,  0,  0,  2,  2,  0],\n",
              "       [ 0,  0,  0,  0, 50,  0,  0,  0,  0,  0],\n",
              "       [ 0,  0,  0,  0,  0, 57,  1,  0,  0,  2],\n",
              "       [ 0,  0,  0,  0,  0,  0, 43,  0,  0,  0],\n",
              "       [ 0,  0,  0,  0,  0,  0,  0, 54,  0,  0],\n",
              "       [ 0,  2,  1,  1,  0,  0,  0,  0, 60,  0],\n",
              "       [ 0,  0,  0,  0,  0,  1,  0,  2,  1, 56]])"
            ]
          },
          "metadata": {},
          "execution_count": 56
        }
      ]
    },
    {
      "cell_type": "code",
      "source": [
        "print(classification_report(y_test,y_pred))"
      ],
      "metadata": {
        "colab": {
          "base_uri": "https://localhost:8080/"
        },
        "id": "USrPx_1ZDBXs",
        "outputId": "a5a53562-6311-4c82-9be5-581ec1c9b465"
      },
      "execution_count": 57,
      "outputs": [
        {
          "output_type": "stream",
          "name": "stdout",
          "text": [
            "              precision    recall  f1-score   support\n",
            "\n",
            "           0       1.00      1.00      1.00        47\n",
            "           1       0.96      1.00      0.98        49\n",
            "           2       0.98      1.00      0.99        57\n",
            "           3       0.98      0.93      0.95        56\n",
            "           4       1.00      1.00      1.00        50\n",
            "           5       0.98      0.95      0.97        60\n",
            "           6       0.98      1.00      0.99        43\n",
            "           7       0.93      1.00      0.96        54\n",
            "           8       0.95      0.94      0.94        64\n",
            "           9       0.97      0.93      0.95        60\n",
            "\n",
            "    accuracy                           0.97       540\n",
            "   macro avg       0.97      0.97      0.97       540\n",
            "weighted avg       0.97      0.97      0.97       540\n",
            "\n"
          ]
        }
      ]
    }
  ]
}