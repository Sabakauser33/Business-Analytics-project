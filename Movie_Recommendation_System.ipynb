{
  "nbformat": 4,
  "nbformat_minor": 0,
  "metadata": {
    "colab": {
      "provenance": []
    },
    "kernelspec": {
      "name": "python3",
      "display_name": "Python 3"
    },
    "language_info": {
      "name": "python"
    }
  },
  "cells": [
    {
      "cell_type": "markdown",
      "source": [
        "Project- Movie Recommendation System"
      ],
      "metadata": {
        "id": "_zQqcJDgC_cs"
      }
    },
    {
      "cell_type": "markdown",
      "source": [
        "Data Source - by Ybifoundation Gitbut('https://github.com/YBI-Foundation/Dataset/raw/refs/heads/main/Movies%20Recommendation.csv')"
      ],
      "metadata": {
        "id": "RpsTaByhDGg1"
      }
    },
    {
      "cell_type": "markdown",
      "source": [
        "Import Library"
      ],
      "metadata": {
        "id": "EuHUzInND0bD"
      }
    },
    {
      "cell_type": "code",
      "execution_count": 1,
      "metadata": {
        "id": "H8fNzWrMCzGH"
      },
      "outputs": [],
      "source": [
        "import pandas as pd"
      ]
    },
    {
      "cell_type": "code",
      "source": [
        "import numpy as np"
      ],
      "metadata": {
        "id": "pZNKIz-UDzXm"
      },
      "execution_count": 2,
      "outputs": []
    },
    {
      "cell_type": "markdown",
      "source": [
        "Import Dataset"
      ],
      "metadata": {
        "id": "hgU9BEsND_kJ"
      }
    },
    {
      "cell_type": "code",
      "source": [
        "df=pd.read_csv('https://github.com/YBI-Foundation/Dataset/raw/refs/heads/main/Movies%20Recommendation.csv')"
      ],
      "metadata": {
        "id": "gnlHdr19ED0_"
      },
      "execution_count": 3,
      "outputs": []
    },
    {
      "cell_type": "code",
      "source": [
        "df.head()"
      ],
      "metadata": {
        "colab": {
          "base_uri": "https://localhost:8080/",
          "height": 672
        },
        "id": "A1ISq80wEJOY",
        "outputId": "56cdbcbd-b900-4f10-8c2e-6323a77d81a3"
      },
      "execution_count": 4,
      "outputs": [
        {
          "output_type": "execute_result",
          "data": {
            "text/plain": [
              "   Movie_ID      Movie_Title                       Movie_Genre Movie_Language  \\\n",
              "0         1       Four Rooms                      Crime Comedy             en   \n",
              "1         2        Star Wars  Adventure Action Science Fiction             en   \n",
              "2         3     Finding Nemo                  Animation Family             en   \n",
              "3         4     Forrest Gump              Comedy Drama Romance             en   \n",
              "4         5  American Beauty                             Drama             en   \n",
              "\n",
              "   Movie_Budget  Movie_Popularity Movie_Release_Date  Movie_Revenue  \\\n",
              "0       4000000         22.876230         09-12-1995        4300000   \n",
              "1      11000000        126.393695         25-05-1977      775398007   \n",
              "2      94000000         85.688789         30-05-2003      940335536   \n",
              "3      55000000        138.133331         06-07-1994      677945399   \n",
              "4      15000000         80.878605         15-09-1999      356296601   \n",
              "\n",
              "   Movie_Runtime  Movie_Vote  ...  \\\n",
              "0           98.0         6.5  ...   \n",
              "1          121.0         8.1  ...   \n",
              "2          100.0         7.6  ...   \n",
              "3          142.0         8.2  ...   \n",
              "4          122.0         7.9  ...   \n",
              "\n",
              "                                      Movie_Homepage  \\\n",
              "0                                                NaN   \n",
              "1  http://www.starwars.com/films/star-wars-episod...   \n",
              "2              http://movies.disney.com/finding-nemo   \n",
              "3                                                NaN   \n",
              "4                      http://www.dreamworks.com/ab/   \n",
              "\n",
              "                                      Movie_Keywords  \\\n",
              "0          hotel new year's eve witch bet hotel room   \n",
              "1        android galaxy hermit death star lightsaber   \n",
              "2  father son relationship harbor underwater fish...   \n",
              "3  vietnam veteran hippie mentally disabled runni...   \n",
              "4  male nudity female nudity adultery midlife cri...   \n",
              "\n",
              "                                      Movie_Overview  \\\n",
              "0  It's Ted the Bellhop's first night on the job....   \n",
              "1  Princess Leia is captured and held hostage by ...   \n",
              "2  Nemo, an adventurous young clownfish, is unexp...   \n",
              "3  A man with a low IQ has accomplished great thi...   \n",
              "4  Lester Burnham, a depressed suburban father in...   \n",
              "\n",
              "                              Movie_Production_House  \\\n",
              "0  [{\"name\": \"Miramax Films\", \"id\": 14}, {\"name\":...   \n",
              "1  [{\"name\": \"Lucasfilm\", \"id\": 1}, {\"name\": \"Twe...   \n",
              "2     [{\"name\": \"Pixar Animation Studios\", \"id\": 3}]   \n",
              "3          [{\"name\": \"Paramount Pictures\", \"id\": 4}]   \n",
              "4  [{\"name\": \"DreamWorks SKG\", \"id\": 27}, {\"name\"...   \n",
              "\n",
              "                            Movie_Production_Country  \\\n",
              "0  [{\"iso_3166_1\": \"US\", \"name\": \"United States o...   \n",
              "1  [{\"iso_3166_1\": \"US\", \"name\": \"United States o...   \n",
              "2  [{\"iso_3166_1\": \"US\", \"name\": \"United States o...   \n",
              "3  [{\"iso_3166_1\": \"US\", \"name\": \"United States o...   \n",
              "4  [{\"iso_3166_1\": \"US\", \"name\": \"United States o...   \n",
              "\n",
              "                      Movie_Spoken_Language  \\\n",
              "0  [{\"iso_639_1\": \"en\", \"name\": \"English\"}]   \n",
              "1  [{\"iso_639_1\": \"en\", \"name\": \"English\"}]   \n",
              "2  [{\"iso_639_1\": \"en\", \"name\": \"English\"}]   \n",
              "3  [{\"iso_639_1\": \"en\", \"name\": \"English\"}]   \n",
              "4  [{\"iso_639_1\": \"en\", \"name\": \"English\"}]   \n",
              "\n",
              "                                       Movie_Tagline  \\\n",
              "0  Twelve outrageous guests. Four scandalous requ...   \n",
              "1       A long time ago in a galaxy far, far away...   \n",
              "2  There are 3.7 trillion fish in the ocean, they...   \n",
              "3  The world will never be the same, once you've ...   \n",
              "4                                       Look closer.   \n",
              "\n",
              "                                          Movie_Cast  \\\n",
              "0  Tim Roth Antonio Banderas Jennifer Beals Madon...   \n",
              "1  Mark Hamill Harrison Ford Carrie Fisher Peter ...   \n",
              "2  Albert Brooks Ellen DeGeneres Alexander Gould ...   \n",
              "3  Tom Hanks Robin Wright Gary Sinise Mykelti Wil...   \n",
              "4  Kevin Spacey Annette Bening Thora Birch Wes Be...   \n",
              "\n",
              "                                          Movie_Crew   Movie_Director  \n",
              "0  [{'name': 'Allison Anders', 'gender': 1, 'depa...   Allison Anders  \n",
              "1  [{'name': 'George Lucas', 'gender': 2, 'depart...     George Lucas  \n",
              "2  [{'name': 'Andrew Stanton', 'gender': 2, 'depa...   Andrew Stanton  \n",
              "3  [{'name': 'Alan Silvestri', 'gender': 2, 'depa...  Robert Zemeckis  \n",
              "4  [{'name': 'Thomas Newman', 'gender': 2, 'depar...       Sam Mendes  \n",
              "\n",
              "[5 rows x 21 columns]"
            ],
            "text/html": [
              "\n",
              "  <div id=\"df-a4e65e0d-afdb-4b5e-ad2d-dffe3b707e5d\" class=\"colab-df-container\">\n",
              "    <div>\n",
              "<style scoped>\n",
              "    .dataframe tbody tr th:only-of-type {\n",
              "        vertical-align: middle;\n",
              "    }\n",
              "\n",
              "    .dataframe tbody tr th {\n",
              "        vertical-align: top;\n",
              "    }\n",
              "\n",
              "    .dataframe thead th {\n",
              "        text-align: right;\n",
              "    }\n",
              "</style>\n",
              "<table border=\"1\" class=\"dataframe\">\n",
              "  <thead>\n",
              "    <tr style=\"text-align: right;\">\n",
              "      <th></th>\n",
              "      <th>Movie_ID</th>\n",
              "      <th>Movie_Title</th>\n",
              "      <th>Movie_Genre</th>\n",
              "      <th>Movie_Language</th>\n",
              "      <th>Movie_Budget</th>\n",
              "      <th>Movie_Popularity</th>\n",
              "      <th>Movie_Release_Date</th>\n",
              "      <th>Movie_Revenue</th>\n",
              "      <th>Movie_Runtime</th>\n",
              "      <th>Movie_Vote</th>\n",
              "      <th>...</th>\n",
              "      <th>Movie_Homepage</th>\n",
              "      <th>Movie_Keywords</th>\n",
              "      <th>Movie_Overview</th>\n",
              "      <th>Movie_Production_House</th>\n",
              "      <th>Movie_Production_Country</th>\n",
              "      <th>Movie_Spoken_Language</th>\n",
              "      <th>Movie_Tagline</th>\n",
              "      <th>Movie_Cast</th>\n",
              "      <th>Movie_Crew</th>\n",
              "      <th>Movie_Director</th>\n",
              "    </tr>\n",
              "  </thead>\n",
              "  <tbody>\n",
              "    <tr>\n",
              "      <th>0</th>\n",
              "      <td>1</td>\n",
              "      <td>Four Rooms</td>\n",
              "      <td>Crime Comedy</td>\n",
              "      <td>en</td>\n",
              "      <td>4000000</td>\n",
              "      <td>22.876230</td>\n",
              "      <td>09-12-1995</td>\n",
              "      <td>4300000</td>\n",
              "      <td>98.0</td>\n",
              "      <td>6.5</td>\n",
              "      <td>...</td>\n",
              "      <td>NaN</td>\n",
              "      <td>hotel new year's eve witch bet hotel room</td>\n",
              "      <td>It's Ted the Bellhop's first night on the job....</td>\n",
              "      <td>[{\"name\": \"Miramax Films\", \"id\": 14}, {\"name\":...</td>\n",
              "      <td>[{\"iso_3166_1\": \"US\", \"name\": \"United States o...</td>\n",
              "      <td>[{\"iso_639_1\": \"en\", \"name\": \"English\"}]</td>\n",
              "      <td>Twelve outrageous guests. Four scandalous requ...</td>\n",
              "      <td>Tim Roth Antonio Banderas Jennifer Beals Madon...</td>\n",
              "      <td>[{'name': 'Allison Anders', 'gender': 1, 'depa...</td>\n",
              "      <td>Allison Anders</td>\n",
              "    </tr>\n",
              "    <tr>\n",
              "      <th>1</th>\n",
              "      <td>2</td>\n",
              "      <td>Star Wars</td>\n",
              "      <td>Adventure Action Science Fiction</td>\n",
              "      <td>en</td>\n",
              "      <td>11000000</td>\n",
              "      <td>126.393695</td>\n",
              "      <td>25-05-1977</td>\n",
              "      <td>775398007</td>\n",
              "      <td>121.0</td>\n",
              "      <td>8.1</td>\n",
              "      <td>...</td>\n",
              "      <td>http://www.starwars.com/films/star-wars-episod...</td>\n",
              "      <td>android galaxy hermit death star lightsaber</td>\n",
              "      <td>Princess Leia is captured and held hostage by ...</td>\n",
              "      <td>[{\"name\": \"Lucasfilm\", \"id\": 1}, {\"name\": \"Twe...</td>\n",
              "      <td>[{\"iso_3166_1\": \"US\", \"name\": \"United States o...</td>\n",
              "      <td>[{\"iso_639_1\": \"en\", \"name\": \"English\"}]</td>\n",
              "      <td>A long time ago in a galaxy far, far away...</td>\n",
              "      <td>Mark Hamill Harrison Ford Carrie Fisher Peter ...</td>\n",
              "      <td>[{'name': 'George Lucas', 'gender': 2, 'depart...</td>\n",
              "      <td>George Lucas</td>\n",
              "    </tr>\n",
              "    <tr>\n",
              "      <th>2</th>\n",
              "      <td>3</td>\n",
              "      <td>Finding Nemo</td>\n",
              "      <td>Animation Family</td>\n",
              "      <td>en</td>\n",
              "      <td>94000000</td>\n",
              "      <td>85.688789</td>\n",
              "      <td>30-05-2003</td>\n",
              "      <td>940335536</td>\n",
              "      <td>100.0</td>\n",
              "      <td>7.6</td>\n",
              "      <td>...</td>\n",
              "      <td>http://movies.disney.com/finding-nemo</td>\n",
              "      <td>father son relationship harbor underwater fish...</td>\n",
              "      <td>Nemo, an adventurous young clownfish, is unexp...</td>\n",
              "      <td>[{\"name\": \"Pixar Animation Studios\", \"id\": 3}]</td>\n",
              "      <td>[{\"iso_3166_1\": \"US\", \"name\": \"United States o...</td>\n",
              "      <td>[{\"iso_639_1\": \"en\", \"name\": \"English\"}]</td>\n",
              "      <td>There are 3.7 trillion fish in the ocean, they...</td>\n",
              "      <td>Albert Brooks Ellen DeGeneres Alexander Gould ...</td>\n",
              "      <td>[{'name': 'Andrew Stanton', 'gender': 2, 'depa...</td>\n",
              "      <td>Andrew Stanton</td>\n",
              "    </tr>\n",
              "    <tr>\n",
              "      <th>3</th>\n",
              "      <td>4</td>\n",
              "      <td>Forrest Gump</td>\n",
              "      <td>Comedy Drama Romance</td>\n",
              "      <td>en</td>\n",
              "      <td>55000000</td>\n",
              "      <td>138.133331</td>\n",
              "      <td>06-07-1994</td>\n",
              "      <td>677945399</td>\n",
              "      <td>142.0</td>\n",
              "      <td>8.2</td>\n",
              "      <td>...</td>\n",
              "      <td>NaN</td>\n",
              "      <td>vietnam veteran hippie mentally disabled runni...</td>\n",
              "      <td>A man with a low IQ has accomplished great thi...</td>\n",
              "      <td>[{\"name\": \"Paramount Pictures\", \"id\": 4}]</td>\n",
              "      <td>[{\"iso_3166_1\": \"US\", \"name\": \"United States o...</td>\n",
              "      <td>[{\"iso_639_1\": \"en\", \"name\": \"English\"}]</td>\n",
              "      <td>The world will never be the same, once you've ...</td>\n",
              "      <td>Tom Hanks Robin Wright Gary Sinise Mykelti Wil...</td>\n",
              "      <td>[{'name': 'Alan Silvestri', 'gender': 2, 'depa...</td>\n",
              "      <td>Robert Zemeckis</td>\n",
              "    </tr>\n",
              "    <tr>\n",
              "      <th>4</th>\n",
              "      <td>5</td>\n",
              "      <td>American Beauty</td>\n",
              "      <td>Drama</td>\n",
              "      <td>en</td>\n",
              "      <td>15000000</td>\n",
              "      <td>80.878605</td>\n",
              "      <td>15-09-1999</td>\n",
              "      <td>356296601</td>\n",
              "      <td>122.0</td>\n",
              "      <td>7.9</td>\n",
              "      <td>...</td>\n",
              "      <td>http://www.dreamworks.com/ab/</td>\n",
              "      <td>male nudity female nudity adultery midlife cri...</td>\n",
              "      <td>Lester Burnham, a depressed suburban father in...</td>\n",
              "      <td>[{\"name\": \"DreamWorks SKG\", \"id\": 27}, {\"name\"...</td>\n",
              "      <td>[{\"iso_3166_1\": \"US\", \"name\": \"United States o...</td>\n",
              "      <td>[{\"iso_639_1\": \"en\", \"name\": \"English\"}]</td>\n",
              "      <td>Look closer.</td>\n",
              "      <td>Kevin Spacey Annette Bening Thora Birch Wes Be...</td>\n",
              "      <td>[{'name': 'Thomas Newman', 'gender': 2, 'depar...</td>\n",
              "      <td>Sam Mendes</td>\n",
              "    </tr>\n",
              "  </tbody>\n",
              "</table>\n",
              "<p>5 rows × 21 columns</p>\n",
              "</div>\n",
              "    <div class=\"colab-df-buttons\">\n",
              "\n",
              "  <div class=\"colab-df-container\">\n",
              "    <button class=\"colab-df-convert\" onclick=\"convertToInteractive('df-a4e65e0d-afdb-4b5e-ad2d-dffe3b707e5d')\"\n",
              "            title=\"Convert this dataframe to an interactive table.\"\n",
              "            style=\"display:none;\">\n",
              "\n",
              "  <svg xmlns=\"http://www.w3.org/2000/svg\" height=\"24px\" viewBox=\"0 -960 960 960\">\n",
              "    <path d=\"M120-120v-720h720v720H120Zm60-500h600v-160H180v160Zm220 220h160v-160H400v160Zm0 220h160v-160H400v160ZM180-400h160v-160H180v160Zm440 0h160v-160H620v160ZM180-180h160v-160H180v160Zm440 0h160v-160H620v160Z\"/>\n",
              "  </svg>\n",
              "    </button>\n",
              "\n",
              "  <style>\n",
              "    .colab-df-container {\n",
              "      display:flex;\n",
              "      gap: 12px;\n",
              "    }\n",
              "\n",
              "    .colab-df-convert {\n",
              "      background-color: #E8F0FE;\n",
              "      border: none;\n",
              "      border-radius: 50%;\n",
              "      cursor: pointer;\n",
              "      display: none;\n",
              "      fill: #1967D2;\n",
              "      height: 32px;\n",
              "      padding: 0 0 0 0;\n",
              "      width: 32px;\n",
              "    }\n",
              "\n",
              "    .colab-df-convert:hover {\n",
              "      background-color: #E2EBFA;\n",
              "      box-shadow: 0px 1px 2px rgba(60, 64, 67, 0.3), 0px 1px 3px 1px rgba(60, 64, 67, 0.15);\n",
              "      fill: #174EA6;\n",
              "    }\n",
              "\n",
              "    .colab-df-buttons div {\n",
              "      margin-bottom: 4px;\n",
              "    }\n",
              "\n",
              "    [theme=dark] .colab-df-convert {\n",
              "      background-color: #3B4455;\n",
              "      fill: #D2E3FC;\n",
              "    }\n",
              "\n",
              "    [theme=dark] .colab-df-convert:hover {\n",
              "      background-color: #434B5C;\n",
              "      box-shadow: 0px 1px 3px 1px rgba(0, 0, 0, 0.15);\n",
              "      filter: drop-shadow(0px 1px 2px rgba(0, 0, 0, 0.3));\n",
              "      fill: #FFFFFF;\n",
              "    }\n",
              "  </style>\n",
              "\n",
              "    <script>\n",
              "      const buttonEl =\n",
              "        document.querySelector('#df-a4e65e0d-afdb-4b5e-ad2d-dffe3b707e5d button.colab-df-convert');\n",
              "      buttonEl.style.display =\n",
              "        google.colab.kernel.accessAllowed ? 'block' : 'none';\n",
              "\n",
              "      async function convertToInteractive(key) {\n",
              "        const element = document.querySelector('#df-a4e65e0d-afdb-4b5e-ad2d-dffe3b707e5d');\n",
              "        const dataTable =\n",
              "          await google.colab.kernel.invokeFunction('convertToInteractive',\n",
              "                                                    [key], {});\n",
              "        if (!dataTable) return;\n",
              "\n",
              "        const docLinkHtml = 'Like what you see? Visit the ' +\n",
              "          '<a target=\"_blank\" href=https://colab.research.google.com/notebooks/data_table.ipynb>data table notebook</a>'\n",
              "          + ' to learn more about interactive tables.';\n",
              "        element.innerHTML = '';\n",
              "        dataTable['output_type'] = 'display_data';\n",
              "        await google.colab.output.renderOutput(dataTable, element);\n",
              "        const docLink = document.createElement('div');\n",
              "        docLink.innerHTML = docLinkHtml;\n",
              "        element.appendChild(docLink);\n",
              "      }\n",
              "    </script>\n",
              "  </div>\n",
              "\n",
              "\n",
              "<div id=\"df-bdebe17d-4218-4bcd-b520-235ff4d289ba\">\n",
              "  <button class=\"colab-df-quickchart\" onclick=\"quickchart('df-bdebe17d-4218-4bcd-b520-235ff4d289ba')\"\n",
              "            title=\"Suggest charts\"\n",
              "            style=\"display:none;\">\n",
              "\n",
              "<svg xmlns=\"http://www.w3.org/2000/svg\" height=\"24px\"viewBox=\"0 0 24 24\"\n",
              "     width=\"24px\">\n",
              "    <g>\n",
              "        <path d=\"M19 3H5c-1.1 0-2 .9-2 2v14c0 1.1.9 2 2 2h14c1.1 0 2-.9 2-2V5c0-1.1-.9-2-2-2zM9 17H7v-7h2v7zm4 0h-2V7h2v10zm4 0h-2v-4h2v4z\"/>\n",
              "    </g>\n",
              "</svg>\n",
              "  </button>\n",
              "\n",
              "<style>\n",
              "  .colab-df-quickchart {\n",
              "      --bg-color: #E8F0FE;\n",
              "      --fill-color: #1967D2;\n",
              "      --hover-bg-color: #E2EBFA;\n",
              "      --hover-fill-color: #174EA6;\n",
              "      --disabled-fill-color: #AAA;\n",
              "      --disabled-bg-color: #DDD;\n",
              "  }\n",
              "\n",
              "  [theme=dark] .colab-df-quickchart {\n",
              "      --bg-color: #3B4455;\n",
              "      --fill-color: #D2E3FC;\n",
              "      --hover-bg-color: #434B5C;\n",
              "      --hover-fill-color: #FFFFFF;\n",
              "      --disabled-bg-color: #3B4455;\n",
              "      --disabled-fill-color: #666;\n",
              "  }\n",
              "\n",
              "  .colab-df-quickchart {\n",
              "    background-color: var(--bg-color);\n",
              "    border: none;\n",
              "    border-radius: 50%;\n",
              "    cursor: pointer;\n",
              "    display: none;\n",
              "    fill: var(--fill-color);\n",
              "    height: 32px;\n",
              "    padding: 0;\n",
              "    width: 32px;\n",
              "  }\n",
              "\n",
              "  .colab-df-quickchart:hover {\n",
              "    background-color: var(--hover-bg-color);\n",
              "    box-shadow: 0 1px 2px rgba(60, 64, 67, 0.3), 0 1px 3px 1px rgba(60, 64, 67, 0.15);\n",
              "    fill: var(--button-hover-fill-color);\n",
              "  }\n",
              "\n",
              "  .colab-df-quickchart-complete:disabled,\n",
              "  .colab-df-quickchart-complete:disabled:hover {\n",
              "    background-color: var(--disabled-bg-color);\n",
              "    fill: var(--disabled-fill-color);\n",
              "    box-shadow: none;\n",
              "  }\n",
              "\n",
              "  .colab-df-spinner {\n",
              "    border: 2px solid var(--fill-color);\n",
              "    border-color: transparent;\n",
              "    border-bottom-color: var(--fill-color);\n",
              "    animation:\n",
              "      spin 1s steps(1) infinite;\n",
              "  }\n",
              "\n",
              "  @keyframes spin {\n",
              "    0% {\n",
              "      border-color: transparent;\n",
              "      border-bottom-color: var(--fill-color);\n",
              "      border-left-color: var(--fill-color);\n",
              "    }\n",
              "    20% {\n",
              "      border-color: transparent;\n",
              "      border-left-color: var(--fill-color);\n",
              "      border-top-color: var(--fill-color);\n",
              "    }\n",
              "    30% {\n",
              "      border-color: transparent;\n",
              "      border-left-color: var(--fill-color);\n",
              "      border-top-color: var(--fill-color);\n",
              "      border-right-color: var(--fill-color);\n",
              "    }\n",
              "    40% {\n",
              "      border-color: transparent;\n",
              "      border-right-color: var(--fill-color);\n",
              "      border-top-color: var(--fill-color);\n",
              "    }\n",
              "    60% {\n",
              "      border-color: transparent;\n",
              "      border-right-color: var(--fill-color);\n",
              "    }\n",
              "    80% {\n",
              "      border-color: transparent;\n",
              "      border-right-color: var(--fill-color);\n",
              "      border-bottom-color: var(--fill-color);\n",
              "    }\n",
              "    90% {\n",
              "      border-color: transparent;\n",
              "      border-bottom-color: var(--fill-color);\n",
              "    }\n",
              "  }\n",
              "</style>\n",
              "\n",
              "  <script>\n",
              "    async function quickchart(key) {\n",
              "      const quickchartButtonEl =\n",
              "        document.querySelector('#' + key + ' button');\n",
              "      quickchartButtonEl.disabled = true;  // To prevent multiple clicks.\n",
              "      quickchartButtonEl.classList.add('colab-df-spinner');\n",
              "      try {\n",
              "        const charts = await google.colab.kernel.invokeFunction(\n",
              "            'suggestCharts', [key], {});\n",
              "      } catch (error) {\n",
              "        console.error('Error during call to suggestCharts:', error);\n",
              "      }\n",
              "      quickchartButtonEl.classList.remove('colab-df-spinner');\n",
              "      quickchartButtonEl.classList.add('colab-df-quickchart-complete');\n",
              "    }\n",
              "    (() => {\n",
              "      let quickchartButtonEl =\n",
              "        document.querySelector('#df-bdebe17d-4218-4bcd-b520-235ff4d289ba button');\n",
              "      quickchartButtonEl.style.display =\n",
              "        google.colab.kernel.accessAllowed ? 'block' : 'none';\n",
              "    })();\n",
              "  </script>\n",
              "</div>\n",
              "\n",
              "    </div>\n",
              "  </div>\n"
            ],
            "application/vnd.google.colaboratory.intrinsic+json": {
              "type": "dataframe",
              "variable_name": "df"
            }
          },
          "metadata": {},
          "execution_count": 4
        }
      ]
    },
    {
      "cell_type": "code",
      "source": [
        "df.info()"
      ],
      "metadata": {
        "colab": {
          "base_uri": "https://localhost:8080/"
        },
        "id": "nErP93ywEPJR",
        "outputId": "4de2373d-01b3-49a1-9bf4-282fd4662324"
      },
      "execution_count": 5,
      "outputs": [
        {
          "output_type": "stream",
          "name": "stdout",
          "text": [
            "<class 'pandas.core.frame.DataFrame'>\n",
            "RangeIndex: 4760 entries, 0 to 4759\n",
            "Data columns (total 21 columns):\n",
            " #   Column                    Non-Null Count  Dtype  \n",
            "---  ------                    --------------  -----  \n",
            " 0   Movie_ID                  4760 non-null   int64  \n",
            " 1   Movie_Title               4760 non-null   object \n",
            " 2   Movie_Genre               4760 non-null   object \n",
            " 3   Movie_Language            4760 non-null   object \n",
            " 4   Movie_Budget              4760 non-null   int64  \n",
            " 5   Movie_Popularity          4760 non-null   float64\n",
            " 6   Movie_Release_Date        4760 non-null   object \n",
            " 7   Movie_Revenue             4760 non-null   int64  \n",
            " 8   Movie_Runtime             4758 non-null   float64\n",
            " 9   Movie_Vote                4760 non-null   float64\n",
            " 10  Movie_Vote_Count          4760 non-null   int64  \n",
            " 11  Movie_Homepage            1699 non-null   object \n",
            " 12  Movie_Keywords            4373 non-null   object \n",
            " 13  Movie_Overview            4757 non-null   object \n",
            " 14  Movie_Production_House    4760 non-null   object \n",
            " 15  Movie_Production_Country  4760 non-null   object \n",
            " 16  Movie_Spoken_Language     4760 non-null   object \n",
            " 17  Movie_Tagline             3942 non-null   object \n",
            " 18  Movie_Cast                4733 non-null   object \n",
            " 19  Movie_Crew                4760 non-null   object \n",
            " 20  Movie_Director            4738 non-null   object \n",
            "dtypes: float64(3), int64(4), object(14)\n",
            "memory usage: 781.1+ KB\n"
          ]
        }
      ]
    },
    {
      "cell_type": "code",
      "source": [
        "df.shape"
      ],
      "metadata": {
        "colab": {
          "base_uri": "https://localhost:8080/"
        },
        "id": "7Sh0WgkyESJq",
        "outputId": "1d325838-4879-47bc-ee61-1f70bc6866d2"
      },
      "execution_count": 6,
      "outputs": [
        {
          "output_type": "execute_result",
          "data": {
            "text/plain": [
              "(4760, 21)"
            ]
          },
          "metadata": {},
          "execution_count": 6
        }
      ]
    },
    {
      "cell_type": "code",
      "source": [
        "df.columns"
      ],
      "metadata": {
        "colab": {
          "base_uri": "https://localhost:8080/"
        },
        "id": "umtrnZWhEWS2",
        "outputId": "3d9d0b13-3330-4fca-f464-82b70da3fd7a"
      },
      "execution_count": 7,
      "outputs": [
        {
          "output_type": "execute_result",
          "data": {
            "text/plain": [
              "Index(['Movie_ID', 'Movie_Title', 'Movie_Genre', 'Movie_Language',\n",
              "       'Movie_Budget', 'Movie_Popularity', 'Movie_Release_Date',\n",
              "       'Movie_Revenue', 'Movie_Runtime', 'Movie_Vote', 'Movie_Vote_Count',\n",
              "       'Movie_Homepage', 'Movie_Keywords', 'Movie_Overview',\n",
              "       'Movie_Production_House', 'Movie_Production_Country',\n",
              "       'Movie_Spoken_Language', 'Movie_Tagline', 'Movie_Cast', 'Movie_Crew',\n",
              "       'Movie_Director'],\n",
              "      dtype='object')"
            ]
          },
          "metadata": {},
          "execution_count": 7
        }
      ]
    },
    {
      "cell_type": "markdown",
      "source": [
        "Get Feature Selection"
      ],
      "metadata": {
        "id": "WQ4LQGRyEa17"
      }
    },
    {
      "cell_type": "code",
      "source": [
        "df_features=df[['Movie_Genre','Movie_Keywords','Movie_Tagline','Movie_Cast','Movie_Director']].fillna('')"
      ],
      "metadata": {
        "id": "XWH1T_b_Eeg8"
      },
      "execution_count": 8,
      "outputs": []
    },
    {
      "cell_type": "code",
      "source": [
        "df_features.shape"
      ],
      "metadata": {
        "colab": {
          "base_uri": "https://localhost:8080/"
        },
        "id": "RJyhagTBFYO0",
        "outputId": "d51ee24a-f060-49cd-c494-70f3547ad235"
      },
      "execution_count": 9,
      "outputs": [
        {
          "output_type": "execute_result",
          "data": {
            "text/plain": [
              "(4760, 5)"
            ]
          },
          "metadata": {},
          "execution_count": 9
        }
      ]
    },
    {
      "cell_type": "code",
      "source": [
        "df_features"
      ],
      "metadata": {
        "colab": {
          "base_uri": "https://localhost:8080/",
          "height": 493
        },
        "id": "L4yY4jXxFb8E",
        "outputId": "7b1edece-dc98-4304-fe5d-15d85875f71c"
      },
      "execution_count": 10,
      "outputs": [
        {
          "output_type": "execute_result",
          "data": {
            "text/plain": [
              "                           Movie_Genre  \\\n",
              "0                         Crime Comedy   \n",
              "1     Adventure Action Science Fiction   \n",
              "2                     Animation Family   \n",
              "3                 Comedy Drama Romance   \n",
              "4                                Drama   \n",
              "...                                ...   \n",
              "4755                            Horror   \n",
              "4756               Comedy Family Drama   \n",
              "4757                    Thriller Drama   \n",
              "4758                            Family   \n",
              "4759                       Documentary   \n",
              "\n",
              "                                         Movie_Keywords  \\\n",
              "0             hotel new year's eve witch bet hotel room   \n",
              "1           android galaxy hermit death star lightsaber   \n",
              "2     father son relationship harbor underwater fish...   \n",
              "3     vietnam veteran hippie mentally disabled runni...   \n",
              "4     male nudity female nudity adultery midlife cri...   \n",
              "...                                                 ...   \n",
              "4755                                                      \n",
              "4756                                                      \n",
              "4757                     christian film sex trafficking   \n",
              "4758                                                      \n",
              "4759  music actors legendary perfomer classic hollyw...   \n",
              "\n",
              "                                          Movie_Tagline  \\\n",
              "0     Twelve outrageous guests. Four scandalous requ...   \n",
              "1          A long time ago in a galaxy far, far away...   \n",
              "2     There are 3.7 trillion fish in the ocean, they...   \n",
              "3     The world will never be the same, once you've ...   \n",
              "4                                          Look closer.   \n",
              "...                                                 ...   \n",
              "4755                The hot spot where Satan's waitin'.   \n",
              "4756           It’s better to stand out than to fit in.   \n",
              "4757           She never knew it could happen to her...   \n",
              "4758                                                      \n",
              "4759                                                      \n",
              "\n",
              "                                             Movie_Cast     Movie_Director  \n",
              "0     Tim Roth Antonio Banderas Jennifer Beals Madon...     Allison Anders  \n",
              "1     Mark Hamill Harrison Ford Carrie Fisher Peter ...       George Lucas  \n",
              "2     Albert Brooks Ellen DeGeneres Alexander Gould ...     Andrew Stanton  \n",
              "3     Tom Hanks Robin Wright Gary Sinise Mykelti Wil...    Robert Zemeckis  \n",
              "4     Kevin Spacey Annette Bening Thora Birch Wes Be...         Sam Mendes  \n",
              "...                                                 ...                ...  \n",
              "4755  Lisa Hart Carroll Michael Des Barres Paul Drak...         Pece Dingo  \n",
              "4756  Roni Akurati Brighton Sharbino Jason Lee Anjul...       Frank Lotito  \n",
              "4757  Nicole Smolen Kim Baldwin Ariana Stephens Brys...       Jaco Booyens  \n",
              "4758                                                                        \n",
              "4759                                    Tony Oppedisano  Simon Napier-Bell  \n",
              "\n",
              "[4760 rows x 5 columns]"
            ],
            "text/html": [
              "\n",
              "  <div id=\"df-c902dbb1-dd1b-4b1f-8a3d-6046f067a89c\" class=\"colab-df-container\">\n",
              "    <div>\n",
              "<style scoped>\n",
              "    .dataframe tbody tr th:only-of-type {\n",
              "        vertical-align: middle;\n",
              "    }\n",
              "\n",
              "    .dataframe tbody tr th {\n",
              "        vertical-align: top;\n",
              "    }\n",
              "\n",
              "    .dataframe thead th {\n",
              "        text-align: right;\n",
              "    }\n",
              "</style>\n",
              "<table border=\"1\" class=\"dataframe\">\n",
              "  <thead>\n",
              "    <tr style=\"text-align: right;\">\n",
              "      <th></th>\n",
              "      <th>Movie_Genre</th>\n",
              "      <th>Movie_Keywords</th>\n",
              "      <th>Movie_Tagline</th>\n",
              "      <th>Movie_Cast</th>\n",
              "      <th>Movie_Director</th>\n",
              "    </tr>\n",
              "  </thead>\n",
              "  <tbody>\n",
              "    <tr>\n",
              "      <th>0</th>\n",
              "      <td>Crime Comedy</td>\n",
              "      <td>hotel new year's eve witch bet hotel room</td>\n",
              "      <td>Twelve outrageous guests. Four scandalous requ...</td>\n",
              "      <td>Tim Roth Antonio Banderas Jennifer Beals Madon...</td>\n",
              "      <td>Allison Anders</td>\n",
              "    </tr>\n",
              "    <tr>\n",
              "      <th>1</th>\n",
              "      <td>Adventure Action Science Fiction</td>\n",
              "      <td>android galaxy hermit death star lightsaber</td>\n",
              "      <td>A long time ago in a galaxy far, far away...</td>\n",
              "      <td>Mark Hamill Harrison Ford Carrie Fisher Peter ...</td>\n",
              "      <td>George Lucas</td>\n",
              "    </tr>\n",
              "    <tr>\n",
              "      <th>2</th>\n",
              "      <td>Animation Family</td>\n",
              "      <td>father son relationship harbor underwater fish...</td>\n",
              "      <td>There are 3.7 trillion fish in the ocean, they...</td>\n",
              "      <td>Albert Brooks Ellen DeGeneres Alexander Gould ...</td>\n",
              "      <td>Andrew Stanton</td>\n",
              "    </tr>\n",
              "    <tr>\n",
              "      <th>3</th>\n",
              "      <td>Comedy Drama Romance</td>\n",
              "      <td>vietnam veteran hippie mentally disabled runni...</td>\n",
              "      <td>The world will never be the same, once you've ...</td>\n",
              "      <td>Tom Hanks Robin Wright Gary Sinise Mykelti Wil...</td>\n",
              "      <td>Robert Zemeckis</td>\n",
              "    </tr>\n",
              "    <tr>\n",
              "      <th>4</th>\n",
              "      <td>Drama</td>\n",
              "      <td>male nudity female nudity adultery midlife cri...</td>\n",
              "      <td>Look closer.</td>\n",
              "      <td>Kevin Spacey Annette Bening Thora Birch Wes Be...</td>\n",
              "      <td>Sam Mendes</td>\n",
              "    </tr>\n",
              "    <tr>\n",
              "      <th>...</th>\n",
              "      <td>...</td>\n",
              "      <td>...</td>\n",
              "      <td>...</td>\n",
              "      <td>...</td>\n",
              "      <td>...</td>\n",
              "    </tr>\n",
              "    <tr>\n",
              "      <th>4755</th>\n",
              "      <td>Horror</td>\n",
              "      <td></td>\n",
              "      <td>The hot spot where Satan's waitin'.</td>\n",
              "      <td>Lisa Hart Carroll Michael Des Barres Paul Drak...</td>\n",
              "      <td>Pece Dingo</td>\n",
              "    </tr>\n",
              "    <tr>\n",
              "      <th>4756</th>\n",
              "      <td>Comedy Family Drama</td>\n",
              "      <td></td>\n",
              "      <td>It’s better to stand out than to fit in.</td>\n",
              "      <td>Roni Akurati Brighton Sharbino Jason Lee Anjul...</td>\n",
              "      <td>Frank Lotito</td>\n",
              "    </tr>\n",
              "    <tr>\n",
              "      <th>4757</th>\n",
              "      <td>Thriller Drama</td>\n",
              "      <td>christian film sex trafficking</td>\n",
              "      <td>She never knew it could happen to her...</td>\n",
              "      <td>Nicole Smolen Kim Baldwin Ariana Stephens Brys...</td>\n",
              "      <td>Jaco Booyens</td>\n",
              "    </tr>\n",
              "    <tr>\n",
              "      <th>4758</th>\n",
              "      <td>Family</td>\n",
              "      <td></td>\n",
              "      <td></td>\n",
              "      <td></td>\n",
              "      <td></td>\n",
              "    </tr>\n",
              "    <tr>\n",
              "      <th>4759</th>\n",
              "      <td>Documentary</td>\n",
              "      <td>music actors legendary perfomer classic hollyw...</td>\n",
              "      <td></td>\n",
              "      <td>Tony Oppedisano</td>\n",
              "      <td>Simon Napier-Bell</td>\n",
              "    </tr>\n",
              "  </tbody>\n",
              "</table>\n",
              "<p>4760 rows × 5 columns</p>\n",
              "</div>\n",
              "    <div class=\"colab-df-buttons\">\n",
              "\n",
              "  <div class=\"colab-df-container\">\n",
              "    <button class=\"colab-df-convert\" onclick=\"convertToInteractive('df-c902dbb1-dd1b-4b1f-8a3d-6046f067a89c')\"\n",
              "            title=\"Convert this dataframe to an interactive table.\"\n",
              "            style=\"display:none;\">\n",
              "\n",
              "  <svg xmlns=\"http://www.w3.org/2000/svg\" height=\"24px\" viewBox=\"0 -960 960 960\">\n",
              "    <path d=\"M120-120v-720h720v720H120Zm60-500h600v-160H180v160Zm220 220h160v-160H400v160Zm0 220h160v-160H400v160ZM180-400h160v-160H180v160Zm440 0h160v-160H620v160ZM180-180h160v-160H180v160Zm440 0h160v-160H620v160Z\"/>\n",
              "  </svg>\n",
              "    </button>\n",
              "\n",
              "  <style>\n",
              "    .colab-df-container {\n",
              "      display:flex;\n",
              "      gap: 12px;\n",
              "    }\n",
              "\n",
              "    .colab-df-convert {\n",
              "      background-color: #E8F0FE;\n",
              "      border: none;\n",
              "      border-radius: 50%;\n",
              "      cursor: pointer;\n",
              "      display: none;\n",
              "      fill: #1967D2;\n",
              "      height: 32px;\n",
              "      padding: 0 0 0 0;\n",
              "      width: 32px;\n",
              "    }\n",
              "\n",
              "    .colab-df-convert:hover {\n",
              "      background-color: #E2EBFA;\n",
              "      box-shadow: 0px 1px 2px rgba(60, 64, 67, 0.3), 0px 1px 3px 1px rgba(60, 64, 67, 0.15);\n",
              "      fill: #174EA6;\n",
              "    }\n",
              "\n",
              "    .colab-df-buttons div {\n",
              "      margin-bottom: 4px;\n",
              "    }\n",
              "\n",
              "    [theme=dark] .colab-df-convert {\n",
              "      background-color: #3B4455;\n",
              "      fill: #D2E3FC;\n",
              "    }\n",
              "\n",
              "    [theme=dark] .colab-df-convert:hover {\n",
              "      background-color: #434B5C;\n",
              "      box-shadow: 0px 1px 3px 1px rgba(0, 0, 0, 0.15);\n",
              "      filter: drop-shadow(0px 1px 2px rgba(0, 0, 0, 0.3));\n",
              "      fill: #FFFFFF;\n",
              "    }\n",
              "  </style>\n",
              "\n",
              "    <script>\n",
              "      const buttonEl =\n",
              "        document.querySelector('#df-c902dbb1-dd1b-4b1f-8a3d-6046f067a89c button.colab-df-convert');\n",
              "      buttonEl.style.display =\n",
              "        google.colab.kernel.accessAllowed ? 'block' : 'none';\n",
              "\n",
              "      async function convertToInteractive(key) {\n",
              "        const element = document.querySelector('#df-c902dbb1-dd1b-4b1f-8a3d-6046f067a89c');\n",
              "        const dataTable =\n",
              "          await google.colab.kernel.invokeFunction('convertToInteractive',\n",
              "                                                    [key], {});\n",
              "        if (!dataTable) return;\n",
              "\n",
              "        const docLinkHtml = 'Like what you see? Visit the ' +\n",
              "          '<a target=\"_blank\" href=https://colab.research.google.com/notebooks/data_table.ipynb>data table notebook</a>'\n",
              "          + ' to learn more about interactive tables.';\n",
              "        element.innerHTML = '';\n",
              "        dataTable['output_type'] = 'display_data';\n",
              "        await google.colab.output.renderOutput(dataTable, element);\n",
              "        const docLink = document.createElement('div');\n",
              "        docLink.innerHTML = docLinkHtml;\n",
              "        element.appendChild(docLink);\n",
              "      }\n",
              "    </script>\n",
              "  </div>\n",
              "\n",
              "\n",
              "<div id=\"df-0faabe4b-1c72-4e00-9b1d-e5d7eb0089ac\">\n",
              "  <button class=\"colab-df-quickchart\" onclick=\"quickchart('df-0faabe4b-1c72-4e00-9b1d-e5d7eb0089ac')\"\n",
              "            title=\"Suggest charts\"\n",
              "            style=\"display:none;\">\n",
              "\n",
              "<svg xmlns=\"http://www.w3.org/2000/svg\" height=\"24px\"viewBox=\"0 0 24 24\"\n",
              "     width=\"24px\">\n",
              "    <g>\n",
              "        <path d=\"M19 3H5c-1.1 0-2 .9-2 2v14c0 1.1.9 2 2 2h14c1.1 0 2-.9 2-2V5c0-1.1-.9-2-2-2zM9 17H7v-7h2v7zm4 0h-2V7h2v10zm4 0h-2v-4h2v4z\"/>\n",
              "    </g>\n",
              "</svg>\n",
              "  </button>\n",
              "\n",
              "<style>\n",
              "  .colab-df-quickchart {\n",
              "      --bg-color: #E8F0FE;\n",
              "      --fill-color: #1967D2;\n",
              "      --hover-bg-color: #E2EBFA;\n",
              "      --hover-fill-color: #174EA6;\n",
              "      --disabled-fill-color: #AAA;\n",
              "      --disabled-bg-color: #DDD;\n",
              "  }\n",
              "\n",
              "  [theme=dark] .colab-df-quickchart {\n",
              "      --bg-color: #3B4455;\n",
              "      --fill-color: #D2E3FC;\n",
              "      --hover-bg-color: #434B5C;\n",
              "      --hover-fill-color: #FFFFFF;\n",
              "      --disabled-bg-color: #3B4455;\n",
              "      --disabled-fill-color: #666;\n",
              "  }\n",
              "\n",
              "  .colab-df-quickchart {\n",
              "    background-color: var(--bg-color);\n",
              "    border: none;\n",
              "    border-radius: 50%;\n",
              "    cursor: pointer;\n",
              "    display: none;\n",
              "    fill: var(--fill-color);\n",
              "    height: 32px;\n",
              "    padding: 0;\n",
              "    width: 32px;\n",
              "  }\n",
              "\n",
              "  .colab-df-quickchart:hover {\n",
              "    background-color: var(--hover-bg-color);\n",
              "    box-shadow: 0 1px 2px rgba(60, 64, 67, 0.3), 0 1px 3px 1px rgba(60, 64, 67, 0.15);\n",
              "    fill: var(--button-hover-fill-color);\n",
              "  }\n",
              "\n",
              "  .colab-df-quickchart-complete:disabled,\n",
              "  .colab-df-quickchart-complete:disabled:hover {\n",
              "    background-color: var(--disabled-bg-color);\n",
              "    fill: var(--disabled-fill-color);\n",
              "    box-shadow: none;\n",
              "  }\n",
              "\n",
              "  .colab-df-spinner {\n",
              "    border: 2px solid var(--fill-color);\n",
              "    border-color: transparent;\n",
              "    border-bottom-color: var(--fill-color);\n",
              "    animation:\n",
              "      spin 1s steps(1) infinite;\n",
              "  }\n",
              "\n",
              "  @keyframes spin {\n",
              "    0% {\n",
              "      border-color: transparent;\n",
              "      border-bottom-color: var(--fill-color);\n",
              "      border-left-color: var(--fill-color);\n",
              "    }\n",
              "    20% {\n",
              "      border-color: transparent;\n",
              "      border-left-color: var(--fill-color);\n",
              "      border-top-color: var(--fill-color);\n",
              "    }\n",
              "    30% {\n",
              "      border-color: transparent;\n",
              "      border-left-color: var(--fill-color);\n",
              "      border-top-color: var(--fill-color);\n",
              "      border-right-color: var(--fill-color);\n",
              "    }\n",
              "    40% {\n",
              "      border-color: transparent;\n",
              "      border-right-color: var(--fill-color);\n",
              "      border-top-color: var(--fill-color);\n",
              "    }\n",
              "    60% {\n",
              "      border-color: transparent;\n",
              "      border-right-color: var(--fill-color);\n",
              "    }\n",
              "    80% {\n",
              "      border-color: transparent;\n",
              "      border-right-color: var(--fill-color);\n",
              "      border-bottom-color: var(--fill-color);\n",
              "    }\n",
              "    90% {\n",
              "      border-color: transparent;\n",
              "      border-bottom-color: var(--fill-color);\n",
              "    }\n",
              "  }\n",
              "</style>\n",
              "\n",
              "  <script>\n",
              "    async function quickchart(key) {\n",
              "      const quickchartButtonEl =\n",
              "        document.querySelector('#' + key + ' button');\n",
              "      quickchartButtonEl.disabled = true;  // To prevent multiple clicks.\n",
              "      quickchartButtonEl.classList.add('colab-df-spinner');\n",
              "      try {\n",
              "        const charts = await google.colab.kernel.invokeFunction(\n",
              "            'suggestCharts', [key], {});\n",
              "      } catch (error) {\n",
              "        console.error('Error during call to suggestCharts:', error);\n",
              "      }\n",
              "      quickchartButtonEl.classList.remove('colab-df-spinner');\n",
              "      quickchartButtonEl.classList.add('colab-df-quickchart-complete');\n",
              "    }\n",
              "    (() => {\n",
              "      let quickchartButtonEl =\n",
              "        document.querySelector('#df-0faabe4b-1c72-4e00-9b1d-e5d7eb0089ac button');\n",
              "      quickchartButtonEl.style.display =\n",
              "        google.colab.kernel.accessAllowed ? 'block' : 'none';\n",
              "    })();\n",
              "  </script>\n",
              "</div>\n",
              "\n",
              "  <div id=\"id_85362860-b930-46ee-9d72-bdbdaff58107\">\n",
              "    <style>\n",
              "      .colab-df-generate {\n",
              "        background-color: #E8F0FE;\n",
              "        border: none;\n",
              "        border-radius: 50%;\n",
              "        cursor: pointer;\n",
              "        display: none;\n",
              "        fill: #1967D2;\n",
              "        height: 32px;\n",
              "        padding: 0 0 0 0;\n",
              "        width: 32px;\n",
              "      }\n",
              "\n",
              "      .colab-df-generate:hover {\n",
              "        background-color: #E2EBFA;\n",
              "        box-shadow: 0px 1px 2px rgba(60, 64, 67, 0.3), 0px 1px 3px 1px rgba(60, 64, 67, 0.15);\n",
              "        fill: #174EA6;\n",
              "      }\n",
              "\n",
              "      [theme=dark] .colab-df-generate {\n",
              "        background-color: #3B4455;\n",
              "        fill: #D2E3FC;\n",
              "      }\n",
              "\n",
              "      [theme=dark] .colab-df-generate:hover {\n",
              "        background-color: #434B5C;\n",
              "        box-shadow: 0px 1px 3px 1px rgba(0, 0, 0, 0.15);\n",
              "        filter: drop-shadow(0px 1px 2px rgba(0, 0, 0, 0.3));\n",
              "        fill: #FFFFFF;\n",
              "      }\n",
              "    </style>\n",
              "    <button class=\"colab-df-generate\" onclick=\"generateWithVariable('df_features')\"\n",
              "            title=\"Generate code using this dataframe.\"\n",
              "            style=\"display:none;\">\n",
              "\n",
              "  <svg xmlns=\"http://www.w3.org/2000/svg\" height=\"24px\"viewBox=\"0 0 24 24\"\n",
              "       width=\"24px\">\n",
              "    <path d=\"M7,19H8.4L18.45,9,17,7.55,7,17.6ZM5,21V16.75L18.45,3.32a2,2,0,0,1,2.83,0l1.4,1.43a1.91,1.91,0,0,1,.58,1.4,1.91,1.91,0,0,1-.58,1.4L9.25,21ZM18.45,9,17,7.55Zm-12,3A5.31,5.31,0,0,0,4.9,8.1,5.31,5.31,0,0,0,1,6.5,5.31,5.31,0,0,0,4.9,4.9,5.31,5.31,0,0,0,6.5,1,5.31,5.31,0,0,0,8.1,4.9,5.31,5.31,0,0,0,12,6.5,5.46,5.46,0,0,0,6.5,12Z\"/>\n",
              "  </svg>\n",
              "    </button>\n",
              "    <script>\n",
              "      (() => {\n",
              "      const buttonEl =\n",
              "        document.querySelector('#id_85362860-b930-46ee-9d72-bdbdaff58107 button.colab-df-generate');\n",
              "      buttonEl.style.display =\n",
              "        google.colab.kernel.accessAllowed ? 'block' : 'none';\n",
              "\n",
              "      buttonEl.onclick = () => {\n",
              "        google.colab.notebook.generateWithVariable('df_features');\n",
              "      }\n",
              "      })();\n",
              "    </script>\n",
              "  </div>\n",
              "\n",
              "    </div>\n",
              "  </div>\n"
            ],
            "application/vnd.google.colaboratory.intrinsic+json": {
              "type": "dataframe",
              "variable_name": "df_features",
              "summary": "{\n  \"name\": \"df_features\",\n  \"rows\": 4760,\n  \"fields\": [\n    {\n      \"column\": \"Movie_Genre\",\n      \"properties\": {\n        \"dtype\": \"category\",\n        \"num_unique_values\": 1164,\n        \"samples\": [\n          \"Family Animation Adventure\",\n          \"Adventure Science Fiction Action\",\n          \"Action Crime Drama Romance Thriller\"\n        ],\n        \"semantic_type\": \"\",\n        \"description\": \"\"\n      }\n    },\n    {\n      \"column\": \"Movie_Keywords\",\n      \"properties\": {\n        \"dtype\": \"string\",\n        \"num_unique_values\": 4203,\n        \"samples\": [\n          \"canada nazis sequel spin off ancient evil\",\n          \"sex professor wedding woman director columbia university\",\n          \"prophecy sea beach gold small town\"\n        ],\n        \"semantic_type\": \"\",\n        \"description\": \"\"\n      }\n    },\n    {\n      \"column\": \"Movie_Tagline\",\n      \"properties\": {\n        \"dtype\": \"string\",\n        \"num_unique_values\": 3928,\n        \"samples\": [\n          \"The messenger must be silenced.\",\n          \"It's not the house that's haunted.\",\n          \"The final hunt begins.\"\n        ],\n        \"semantic_type\": \"\",\n        \"description\": \"\"\n      }\n    },\n    {\n      \"column\": \"Movie_Cast\",\n      \"properties\": {\n        \"dtype\": \"string\",\n        \"num_unique_values\": 4715,\n        \"samples\": [\n          \"Robin Tunney Fairuza Balk Neve Campbell Rachel True Skeet Ulrich\",\n          \"Peter Sellers Christopher Plummer Herbert Lom Catherine Schell Peter Arne\",\n          \"John Wayne Laraine Day Cedric Hardwicke Judith Anderson Anthony Quinn\"\n        ],\n        \"semantic_type\": \"\",\n        \"description\": \"\"\n      }\n    },\n    {\n      \"column\": \"Movie_Director\",\n      \"properties\": {\n        \"dtype\": \"category\",\n        \"num_unique_values\": 2332,\n        \"samples\": [\n          \"Rob McKittrick\",\n          \"Terron R. Parsons\",\n          \"Cyrus Nowrasteh\"\n        ],\n        \"semantic_type\": \"\",\n        \"description\": \"\"\n      }\n    }\n  ]\n}"
            }
          },
          "metadata": {},
          "execution_count": 10
        }
      ]
    },
    {
      "cell_type": "code",
      "source": [
        "x=df_features['Movie_Keywords']+''+df_features['Movie_Tagline']+''+ df_features['Movie_Cast']+''+ df_features['Movie_Director']"
      ],
      "metadata": {
        "id": "gIjsVjn2FfvE"
      },
      "execution_count": 11,
      "outputs": []
    },
    {
      "cell_type": "code",
      "source": [
        "x"
      ],
      "metadata": {
        "colab": {
          "base_uri": "https://localhost:8080/",
          "height": 458
        },
        "id": "0uj4VdynFf27",
        "outputId": "57cb8c19-affa-44e3-9af3-dd04155d842b"
      },
      "execution_count": 12,
      "outputs": [
        {
          "output_type": "execute_result",
          "data": {
            "text/plain": [
              "0       hotel new year's eve witch bet hotel roomTwelv...\n",
              "1       android galaxy hermit death star lightsaberA l...\n",
              "2       father son relationship harbor underwater fish...\n",
              "3       vietnam veteran hippie mentally disabled runni...\n",
              "4       male nudity female nudity adultery midlife cri...\n",
              "                              ...                        \n",
              "4755    The hot spot where Satan's waitin'.Lisa Hart C...\n",
              "4756    It’s better to stand out than to fit in.Roni A...\n",
              "4757    christian film sex traffickingShe never knew i...\n",
              "4758                                                     \n",
              "4759    music actors legendary perfomer classic hollyw...\n",
              "Length: 4760, dtype: object"
            ],
            "text/html": [
              "<div>\n",
              "<style scoped>\n",
              "    .dataframe tbody tr th:only-of-type {\n",
              "        vertical-align: middle;\n",
              "    }\n",
              "\n",
              "    .dataframe tbody tr th {\n",
              "        vertical-align: top;\n",
              "    }\n",
              "\n",
              "    .dataframe thead th {\n",
              "        text-align: right;\n",
              "    }\n",
              "</style>\n",
              "<table border=\"1\" class=\"dataframe\">\n",
              "  <thead>\n",
              "    <tr style=\"text-align: right;\">\n",
              "      <th></th>\n",
              "      <th>0</th>\n",
              "    </tr>\n",
              "  </thead>\n",
              "  <tbody>\n",
              "    <tr>\n",
              "      <th>0</th>\n",
              "      <td>hotel new year's eve witch bet hotel roomTwelv...</td>\n",
              "    </tr>\n",
              "    <tr>\n",
              "      <th>1</th>\n",
              "      <td>android galaxy hermit death star lightsaberA l...</td>\n",
              "    </tr>\n",
              "    <tr>\n",
              "      <th>2</th>\n",
              "      <td>father son relationship harbor underwater fish...</td>\n",
              "    </tr>\n",
              "    <tr>\n",
              "      <th>3</th>\n",
              "      <td>vietnam veteran hippie mentally disabled runni...</td>\n",
              "    </tr>\n",
              "    <tr>\n",
              "      <th>4</th>\n",
              "      <td>male nudity female nudity adultery midlife cri...</td>\n",
              "    </tr>\n",
              "    <tr>\n",
              "      <th>...</th>\n",
              "      <td>...</td>\n",
              "    </tr>\n",
              "    <tr>\n",
              "      <th>4755</th>\n",
              "      <td>The hot spot where Satan's waitin'.Lisa Hart C...</td>\n",
              "    </tr>\n",
              "    <tr>\n",
              "      <th>4756</th>\n",
              "      <td>It’s better to stand out than to fit in.Roni A...</td>\n",
              "    </tr>\n",
              "    <tr>\n",
              "      <th>4757</th>\n",
              "      <td>christian film sex traffickingShe never knew i...</td>\n",
              "    </tr>\n",
              "    <tr>\n",
              "      <th>4758</th>\n",
              "      <td></td>\n",
              "    </tr>\n",
              "    <tr>\n",
              "      <th>4759</th>\n",
              "      <td>music actors legendary perfomer classic hollyw...</td>\n",
              "    </tr>\n",
              "  </tbody>\n",
              "</table>\n",
              "<p>4760 rows × 1 columns</p>\n",
              "</div><br><label><b>dtype:</b> object</label>"
            ]
          },
          "metadata": {},
          "execution_count": 12
        }
      ]
    },
    {
      "cell_type": "code",
      "source": [
        "x.shape"
      ],
      "metadata": {
        "colab": {
          "base_uri": "https://localhost:8080/"
        },
        "id": "57Sc8SbTGLUw",
        "outputId": "e5b14fcb-8ef1-4738-9df1-e79e60f637c7"
      },
      "execution_count": 13,
      "outputs": [
        {
          "output_type": "execute_result",
          "data": {
            "text/plain": [
              "(4760,)"
            ]
          },
          "metadata": {},
          "execution_count": 13
        }
      ]
    },
    {
      "cell_type": "markdown",
      "source": [
        "Get Feature Text Concversion to Tokens"
      ],
      "metadata": {
        "id": "UpyFizTOGSRi"
      }
    },
    {
      "cell_type": "code",
      "source": [
        "from sklearn.feature_extraction.text import TfidfVectorizer"
      ],
      "metadata": {
        "id": "9mH-YN29GRWM"
      },
      "execution_count": 14,
      "outputs": []
    },
    {
      "cell_type": "code",
      "source": [
        "tfidf= TfidfVectorizer()"
      ],
      "metadata": {
        "id": "SlhhbqIMGzt2"
      },
      "execution_count": 15,
      "outputs": []
    },
    {
      "cell_type": "code",
      "source": [
        "x=tfidf.fit_transform(x)"
      ],
      "metadata": {
        "id": "_KSj3PpAG-E3"
      },
      "execution_count": 16,
      "outputs": []
    },
    {
      "cell_type": "code",
      "source": [
        "x.shape"
      ],
      "metadata": {
        "colab": {
          "base_uri": "https://localhost:8080/"
        },
        "id": "a72bJVTfHExI",
        "outputId": "52d98074-2ba5-4620-a4ab-098595ae9cc5"
      },
      "execution_count": 17,
      "outputs": [
        {
          "output_type": "execute_result",
          "data": {
            "text/plain": [
              "(4760, 24774)"
            ]
          },
          "metadata": {},
          "execution_count": 17
        }
      ]
    },
    {
      "cell_type": "code",
      "source": [
        "print(x)"
      ],
      "metadata": {
        "colab": {
          "base_uri": "https://localhost:8080/"
        },
        "id": "iY4UDvQfHG-I",
        "outputId": "293d3704-01f6-4d51-df49-8bbcaa834766"
      },
      "execution_count": 18,
      "outputs": [
        {
          "output_type": "stream",
          "name": "stdout",
          "text": [
            "  (0, 10637)\t0.2504588624684244\n",
            "  (0, 15802)\t0.17590160938874036\n",
            "  (0, 24503)\t0.2609128171679251\n",
            "  (0, 7311)\t0.3025083182838377\n",
            "  (0, 24208)\t0.1271762530839157\n",
            "  (0, 2229)\t0.1581936699519488\n",
            "  (0, 18852)\t0.19633627783879612\n",
            "  (0, 16429)\t0.1872642649702785\n",
            "  (0, 9502)\t0.1872642649702785\n",
            "  (0, 8313)\t0.1498101525367464\n",
            "  (0, 19363)\t0.19633627783879612\n",
            "  (0, 18359)\t0.19633627783879612\n",
            "  (0, 847)\t0.07617181404398117\n",
            "  (0, 16275)\t0.08601132471076976\n",
            "  (0, 13406)\t0.15445594560650802\n",
            "  (0, 2100)\t0.19633627783879612\n",
            "  (0, 11024)\t0.15307808939247386\n",
            "  (0, 10384)\t0.20223953199754224\n",
            "  (0, 8053)\t0.11776777768326348\n",
            "  (0, 5518)\t0.12023674227388569\n",
            "  (0, 16271)\t0.07311270600155703\n",
            "  (0, 21903)\t0.10720847408758864\n",
            "  (0, 11631)\t0.13728912044778685\n",
            "  (0, 23976)\t0.11141472459554105\n",
            "  (0, 8219)\t0.08751464396767429\n",
            "  :\t:\n",
            "  (4757, 4144)\t0.1769509313903453\n",
            "  (4757, 7910)\t0.14403750856933836\n",
            "  (4757, 15866)\t0.19317947090612508\n",
            "  (4757, 19771)\t0.15482650223888297\n",
            "  (4757, 9771)\t0.22178088746010485\n",
            "  (4757, 4924)\t0.20279550535296154\n",
            "  (4757, 1645)\t0.19861181366907404\n",
            "  (4757, 20960)\t0.2626866922792176\n",
            "  (4757, 22313)\t0.29331454185609973\n",
            "  (4757, 20397)\t0.29331454185609973\n",
            "  (4757, 1131)\t0.29331454185609973\n",
            "  (4757, 3118)\t0.29331454185609973\n",
            "  (4757, 8545)\t0.29331454185609973\n",
            "  (4757, 2687)\t0.29331454185609973\n",
            "  (4759, 15492)\t0.21231248314963422\n",
            "  (4759, 2093)\t0.22264512006274445\n",
            "  (4759, 8363)\t0.22617012774190734\n",
            "  (4759, 15626)\t0.3202881449797158\n",
            "  (4759, 4282)\t0.2928185756451675\n",
            "  (4759, 10491)\t0.28815080903637463\n",
            "  (4759, 12975)\t0.3316890463425936\n",
            "  (4759, 259)\t0.3316890463425936\n",
            "  (4759, 16930)\t0.3477577143142641\n",
            "  (4759, 20193)\t0.3477577143142641\n",
            "  (4759, 16308)\t0.3477577143142641\n"
          ]
        }
      ]
    },
    {
      "cell_type": "markdown",
      "source": [
        " Get Similarity Score using Cosine Similarity\n"
      ],
      "metadata": {
        "id": "pV7XCJTXHMJE"
      }
    },
    {
      "cell_type": "code",
      "source": [
        "from sklearn.metrics.pairwise import cosine_similarity"
      ],
      "metadata": {
        "id": "MZTBSTzhHS8C"
      },
      "execution_count": 19,
      "outputs": []
    },
    {
      "cell_type": "code",
      "source": [
        "similarity_score=cosine_similarity(x)"
      ],
      "metadata": {
        "id": "xxqf2_V0HjIt"
      },
      "execution_count": 20,
      "outputs": []
    },
    {
      "cell_type": "code",
      "source": [
        "similarity_score"
      ],
      "metadata": {
        "colab": {
          "base_uri": "https://localhost:8080/"
        },
        "id": "Z0VAznLSHrJv",
        "outputId": "46ee6e7f-5ca9-41b6-b79d-b145e90b5396"
      },
      "execution_count": 21,
      "outputs": [
        {
          "output_type": "execute_result",
          "data": {
            "text/plain": [
              "array([[1.        , 0.01454089, 0.03904349, ..., 0.        , 0.        ,\n",
              "        0.        ],\n",
              "       [0.01454089, 1.        , 0.00872888, ..., 0.        , 0.        ,\n",
              "        0.        ],\n",
              "       [0.03904349, 0.00872888, 1.        , ..., 0.        , 0.        ,\n",
              "        0.        ],\n",
              "       ...,\n",
              "       [0.        , 0.        , 0.        , ..., 1.        , 0.        ,\n",
              "        0.        ],\n",
              "       [0.        , 0.        , 0.        , ..., 0.        , 0.        ,\n",
              "        0.        ],\n",
              "       [0.        , 0.        , 0.        , ..., 0.        , 0.        ,\n",
              "        1.        ]])"
            ]
          },
          "metadata": {},
          "execution_count": 21
        }
      ]
    },
    {
      "cell_type": "code",
      "source": [
        "similarity_score.shape"
      ],
      "metadata": {
        "colab": {
          "base_uri": "https://localhost:8080/"
        },
        "id": "0ynev5DAHuNB",
        "outputId": "0af555e4-30b7-45eb-f6f4-543cfde2a840"
      },
      "execution_count": 22,
      "outputs": [
        {
          "output_type": "execute_result",
          "data": {
            "text/plain": [
              "(4760, 4760)"
            ]
          },
          "metadata": {},
          "execution_count": 22
        }
      ]
    },
    {
      "cell_type": "markdown",
      "source": [
        "Get Movie Name as input from User and Validate for closest spelling"
      ],
      "metadata": {
        "id": "d3gZB_KFHzaY"
      }
    },
    {
      "cell_type": "code",
      "source": [
        "Favourite_Movie_Name= input ('Enter your Favourite Movie Name:')"
      ],
      "metadata": {
        "colab": {
          "base_uri": "https://localhost:8080/"
        },
        "id": "pqt0kbRvH8sf",
        "outputId": "6f6cf720-3f61-4f31-adfd-6299bfae5425"
      },
      "execution_count": 23,
      "outputs": [
        {
          "name": "stdout",
          "output_type": "stream",
          "text": [
            "Enter your Favourite Movie Name:avatar\n"
          ]
        }
      ]
    },
    {
      "cell_type": "code",
      "source": [
        "All_Movies_Title_List=df['Movie_Title'].tolist()"
      ],
      "metadata": {
        "id": "EFUS562aIR0g"
      },
      "execution_count": 24,
      "outputs": []
    },
    {
      "cell_type": "code",
      "source": [
        "import difflib"
      ],
      "metadata": {
        "id": "NqpTHopGKELS"
      },
      "execution_count": 25,
      "outputs": []
    },
    {
      "cell_type": "code",
      "source": [
        "Movie_Recommendation= difflib.get_close_matches (Favourite_Movie_Name, All_Movies_Title_List)\n",
        "print(Movie_Recommendation)"
      ],
      "metadata": {
        "colab": {
          "base_uri": "https://localhost:8080/"
        },
        "id": "1goBAEb-KHoX",
        "outputId": "daaf4fae-a3bc-443e-a626-b18223733a61"
      },
      "execution_count": 26,
      "outputs": [
        {
          "output_type": "stream",
          "name": "stdout",
          "text": [
            "['Avatar']\n"
          ]
        }
      ]
    },
    {
      "cell_type": "code",
      "source": [
        "Close_match= Movie_Recommendation[0]\n",
        "print(Close_match)"
      ],
      "metadata": {
        "colab": {
          "base_uri": "https://localhost:8080/"
        },
        "id": "7KHiVRWJKxTj",
        "outputId": "1576afbb-67ca-4b4d-e44d-684c119e9ddb"
      },
      "execution_count": 27,
      "outputs": [
        {
          "output_type": "stream",
          "name": "stdout",
          "text": [
            "Avatar\n"
          ]
        }
      ]
    },
    {
      "cell_type": "code",
      "source": [
        "Index_of_close_match_movie= df[df.Movie_Title==Close_match]['Movie_ID'].values[0]\n",
        "print(Index_of_close_match_movie)"
      ],
      "metadata": {
        "colab": {
          "base_uri": "https://localhost:8080/"
        },
        "id": "Y-jChy-OLAJN",
        "outputId": "6d2245ac-766b-4f61-ee2e-ae159414de02"
      },
      "execution_count": 28,
      "outputs": [
        {
          "output_type": "stream",
          "name": "stdout",
          "text": [
            "2692\n"
          ]
        }
      ]
    },
    {
      "cell_type": "code",
      "source": [
        "#getting a list of similar movie\n",
        "Recommendation_score= list(enumerate(similarity_score[Index_of_close_match_movie]))\n",
        "print(Recommendation_score)"
      ],
      "metadata": {
        "colab": {
          "base_uri": "https://localhost:8080/"
        },
        "id": "5PUXFm1ILnL7",
        "outputId": "e2d40a8e-8bcd-4db2-aa85-e6ecc917df36"
      },
      "execution_count": 29,
      "outputs": [
        {
          "output_type": "stream",
          "name": "stdout",
          "text": [
            "[(0, 0.004689979812955406), (1, 0.0), (2, 0.0), (3, 0.005577352718077865), (4, 0.0), (5, 0.0), (6, 0.0), (7, 0.011716189667886356), (8, 0.0), (9, 0.006170934723892417), (10, 0.0), (11, 0.0), (12, 0.0), (13, 0.013735131597368562), (14, 0.0), (15, 0.020101920904675906), (16, 0.0), (17, 0.0), (18, 0.0), (19, 0.006464068138624286), (20, 0.0), (21, 0.0), (22, 0.006385977858306483), (23, 0.0), (24, 0.0), (25, 0.025674836842076446), (26, 0.0), (27, 0.0), (28, 0.0), (29, 0.006218839287449653), (30, 0.0), (31, 0.0), (32, 0.006008587367146538), (33, 0.01637131246653511), (34, 0.0), (35, 0.0060779373846871565), (36, 0.0), (37, 0.0), (38, 0.0), (39, 0.0), (40, 0.00737349913760886), (41, 0.0), (42, 0.0), (43, 0.005784920913115707), (44, 0.03440668638358996), (45, 0.0913710498306596), (46, 0.014546777828742231), (47, 0.0), (48, 0.0), (49, 0.0), (50, 0.0), (51, 0.0), (52, 0.0), (53, 0.0), (54, 0.0), (55, 0.0), (56, 0.006618404596115818), (57, 0.011055758613955765), (58, 0.0), (59, 0.0), (60, 0.005678558371805362), (61, 0.01507638133963743), (62, 0.06717323166411966), (63, 0.005500781957064673), (64, 0.0), (65, 0.03121110500586089), (66, 0.0), (67, 0.04061505917045253), (68, 0.0), (69, 0.0), (70, 0.0), (71, 0.0), (72, 0.0), (73, 0.0), (74, 0.0), (75, 0.013601685911040407), (76, 0.0), (77, 0.0), (78, 0.005507171746685375), (79, 0.006469078965018723), (80, 0.0), (81, 0.0), (82, 0.009866299306574152), (83, 0.0066489380158489845), (84, 0.0578053224125676), (85, 0.0065068260017030755), (86, 0.005581401751429503), (87, 0.0), (88, 0.0129476545909671), (89, 0.029174484123774692), (90, 0.0), (91, 0.0), (92, 0.0), (93, 0.0), (94, 0.0), (95, 0.0), (96, 0.0), (97, 0.0), (98, 0.0), (99, 0.0), (100, 0.0), (101, 0.0), (102, 0.0), (103, 0.0), (104, 0.00635189674649004), (105, 0.0), (106, 0.01022200224369118), (107, 0.0), (108, 0.03132373570101582), (109, 0.02163319072130232), (110, 0.08540401051317664), (111, 0.0), (112, 0.015380418147485052), (113, 0.005352918316754221), (114, 0.0), (115, 0.0), (116, 0.017856409870434374), (117, 0.0), (118, 0.0), (119, 0.006190902567633727), (120, 0.0), (121, 0.0), (122, 0.0), (123, 0.0), (124, 0.011761069421900541), (125, 0.00784972139638598), (126, 0.029572778812015876), (127, 0.0), (128, 0.0), (129, 0.0), (130, 0.01171092788944934), (131, 0.006660624260681414), (132, 0.0), (133, 0.0), (134, 0.0), (135, 0.0), (136, 0.0), (137, 0.04154153793903826), (138, 0.023777691764375705), (139, 0.0), (140, 0.0), (141, 0.0), (142, 0.005555765293035247), (143, 0.0), (144, 0.006169943783801997), (145, 0.0), (146, 0.0), (147, 0.005762391800087306), (148, 0.0), (149, 0.0), (150, 0.0), (151, 0.0), (152, 0.0), (153, 0.0), (154, 0.0), (155, 0.00487069570302701), (156, 0.005272418502666634), (157, 0.0), (158, 0.0), (159, 0.005228242763337285), (160, 0.014234241673891049), (161, 0.04110394367656926), (162, 0.0), (163, 0.0), (164, 0.00625530732269466), (165, 0.0), (166, 0.013753300542826918), (167, 0.0), (168, 0.005185142160927056), (169, 0.0), (170, 0.0), (171, 0.0), (172, 0.031724764046056605), (173, 0.006748674472530438), (174, 0.031903107011643186), (175, 0.0210745433362545), (176, 0.02751440342636197), (177, 0.005566251610175086), (178, 0.0), (179, 0.03049544854116926), (180, 0.0), (181, 0.0), (182, 0.006564990480489699), (183, 0.005908787617864269), (184, 0.0), (185, 0.0415216391289106), (186, 0.0), (187, 0.0), (188, 0.0), (189, 0.0), (190, 0.0), (191, 0.0), (192, 0.0), (193, 0.025459426193985182), (194, 0.0), (195, 0.0), (196, 0.0), (197, 0.006367904752058186), (198, 0.0), (199, 0.00591513959083592), (200, 0.0), (201, 0.0), (202, 0.0), (203, 0.014676619961219117), (204, 0.01651359167728557), (205, 0.0), (206, 0.0), (207, 0.0), (208, 0.007363571778880094), (209, 0.006731742166663345), (210, 0.02670624725062599), (211, 0.0), (212, 0.0), (213, 0.047028703978553674), (214, 0.0), (215, 0.0), (216, 0.0), (217, 0.0), (218, 0.01440981881718212), (219, 0.0), (220, 0.0), (221, 0.0), (222, 0.011456613415775757), (223, 0.0), (224, 0.0), (225, 0.0), (226, 0.0), (227, 0.05083929007005679), (228, 0.0), (229, 0.0), (230, 0.006357336927882197), (231, 0.01334937733320171), (232, 0.006926450032543432), (233, 0.0), (234, 0.0), (235, 0.0), (236, 0.0), (237, 0.0), (238, 0.0), (239, 0.0), (240, 0.024852799568469842), (241, 0.0), (242, 0.005710436054547422), (243, 0.004623803507012492), (244, 0.0), (245, 0.0), (246, 0.0), (247, 0.0), (248, 0.006193572562235611), (249, 0.0), (250, 0.02751450502189151), (251, 0.0057619076231291465), (252, 0.01226414233904474), (253, 0.0), (254, 0.05483176235654081), (255, 0.0), (256, 0.0), (257, 0.0), (258, 0.0), (259, 0.0), (260, 0.0), (261, 0.018119570013376437), (262, 0.0), (263, 0.006328212738529645), (264, 0.0), (265, 0.0), (266, 0.005008448222247881), (267, 0.0), (268, 0.0), (269, 0.02269514267115087), (270, 0.0), (271, 0.005123487895372245), (272, 0.0), (273, 0.0064927588565170625), (274, 0.0), (275, 0.0), (276, 0.0), (277, 0.005714774256563184), (278, 0.0), (279, 0.0), (280, 0.006543734610171704), (281, 0.0), (282, 0.02470110362357537), (283, 0.004654861737852496), (284, 0.02458489339732529), (285, 0.0), (286, 0.0), (287, 0.006271076796114516), (288, 0.005525224571960498), (289, 0.0), (290, 0.0), (291, 0.0), (292, 0.05244349577183467), (293, 0.0), (294, 0.0), (295, 0.0), (296, 0.010113370139106763), (297, 0.0), (298, 0.0), (299, 0.0), (300, 0.006261315423313219), (301, 0.006907775017609604), (302, 0.0), (303, 0.0), (304, 0.0), (305, 0.0), (306, 0.0), (307, 0.006095427073176849), (308, 0.0), (309, 0.005238487985091844), (310, 0.0), (311, 0.0), (312, 0.0), (313, 0.006637794563167501), (314, 0.0), (315, 0.0), (316, 0.0), (317, 0.011494241469899196), (318, 0.0), (319, 0.0), (320, 0.0), (321, 0.006422527059791005), (322, 0.006381136682230259), (323, 0.0), (324, 0.0), (325, 0.0), (326, 0.0), (327, 0.005882461910986732), (328, 0.04492340393154359), (329, 0.012325088547454444), (330, 0.01832702591266805), (331, 0.0), (332, 0.009871058127629935), (333, 0.0), (334, 0.021896970734655685), (335, 0.0), (336, 0.004814524124801975), (337, 0.0), (338, 0.0), (339, 0.0), (340, 0.00710609958176061), (341, 0.007082501500967256), (342, 0.0069831728259879015), (343, 0.013037981358971794), (344, 0.0), (345, 0.01748934910657278), (346, 0.006302300195195631), (347, 0.0), (348, 0.0), (349, 0.0), (350, 0.0), (351, 0.0), (352, 0.0), (353, 0.006722348497812223), (354, 0.0058990648739205755), (355, 0.0), (356, 0.006223339323462634), (357, 0.0), (358, 0.012629128328656388), (359, 0.0), (360, 0.03219950918458378), (361, 0.0), (362, 0.0), (363, 0.007056220014880405), (364, 0.016102984991075434), (365, 0.0), (366, 0.0), (367, 0.0), (368, 0.0), (369, 0.0), (370, 0.0), (371, 0.0199129754853541), (372, 0.0), (373, 0.0), (374, 0.012721261472655244), (375, 0.0), (376, 0.0), (377, 0.0), (378, 0.0), (379, 0.0), (380, 0.0), (381, 0.02526842835612341), (382, 0.0), (383, 0.02235574705691127), (384, 0.028760668778621108), (385, 0.0), (386, 0.007216155504806723), (387, 0.030558369053821186), (388, 0.0), (389, 0.0), (390, 0.0), (391, 0.0), (392, 0.0), (393, 0.0), (394, 0.0), (395, 0.0), (396, 0.0), (397, 0.0), (398, 0.024672011095101785), (399, 0.0), (400, 0.0), (401, 0.0), (402, 0.007791326915337429), (403, 0.005647420225762069), (404, 0.0), (405, 0.0), (406, 0.006616467971066515), (407, 0.010453017092806459), (408, 0.034511152466473606), (409, 0.01735025678890114), (410, 0.0), (411, 0.0), (412, 0.04283077496215919), (413, 0.006784434718735877), (414, 0.004881421450242135), (415, 0.0), (416, 0.0), (417, 0.0), (418, 0.0), (419, 0.0), (420, 0.0), (421, 0.02976278986108177), (422, 0.0), (423, 0.0), (424, 0.02788739348899836), (425, 0.0), (426, 0.0), (427, 0.0), (428, 0.005924186057228969), (429, 0.0), (430, 0.02826264766038152), (431, 0.0), (432, 0.0), (433, 0.010535669018731916), (434, 0.0), (435, 0.0), (436, 0.0), (437, 0.012950078408568155), (438, 0.04139141587830103), (439, 0.0), (440, 0.0), (441, 0.005557408793593125), (442, 0.015532456815878152), (443, 0.0), (444, 0.0), (445, 0.005694090905356038), (446, 0.006389154166284724), (447, 0.0), (448, 0.0), (449, 0.006088971286431975), (450, 0.0), (451, 0.0), (452, 0.009998741282067639), (453, 0.0), (454, 0.0), (455, 0.019496760127337396), (456, 0.0), (457, 0.0), (458, 0.0), (459, 0.027472211529169847), (460, 0.0), (461, 0.0), (462, 0.0), (463, 0.005913576432004642), (464, 0.006501044453756947), (465, 0.026346414050698236), (466, 0.0), (467, 0.0), (468, 0.00612464341337891), (469, 0.0), (470, 0.006874760117114931), (471, 0.0), (472, 0.0069920373549658766), (473, 0.0), (474, 0.0), (475, 0.002306745255726792), (476, 0.0), (477, 0.005248377691519832), (478, 0.0), (479, 0.042319343543567096), (480, 0.0), (481, 0.0), (482, 0.006965005801725472), (483, 0.0), (484, 0.0), (485, 0.0), (486, 0.0), (487, 0.0), (488, 0.0), (489, 0.0), (490, 0.0), (491, 0.0), (492, 0.0), (493, 0.0), (494, 0.0), (495, 0.0), (496, 0.011344992287186719), (497, 0.0), (498, 0.0), (499, 0.0), (500, 0.0), (501, 0.0), (502, 0.0), (503, 0.0), (504, 0.0), (505, 0.0), (506, 0.0), (507, 0.0), (508, 0.0), (509, 0.0), (510, 0.012316281080413966), (511, 0.012095129381948153), (512, 0.0), (513, 0.0), (514, 0.0), (515, 0.014410517277014645), (516, 0.0), (517, 0.0), (518, 0.0), (519, 0.04416586436350947), (520, 0.0), (521, 0.006310756574303218), (522, 0.0), (523, 0.006701382554917523), (524, 0.0), (525, 0.0), (526, 0.0), (527, 0.01034734341163439), (528, 0.0), (529, 0.0), (530, 0.017852444458950116), (531, 0.0), (532, 0.0), (533, 0.0), (534, 0.0), (535, 0.0), (536, 0.0), (537, 0.00739920500844742), (538, 0.011383566627874195), (539, 0.0), (540, 0.03202742081680681), (541, 0.0), (542, 0.0), (543, 0.0), (544, 0.0), (545, 0.013599638225908428), (546, 0.0), (547, 0.005510830336184436), (548, 0.0), (549, 0.0), (550, 0.0), (551, 0.013603517377155643), (552, 0.0), (553, 0.018779189667425623), (554, 0.0), (555, 0.010590940737023513), (556, 0.0), (557, 0.0), (558, 0.0), (559, 0.0), (560, 0.0), (561, 0.004840767885043939), (562, 0.0), (563, 0.0), (564, 0.0), (565, 0.0), (566, 0.011101470695193334), (567, 0.0), (568, 0.006121126122983327), (569, 0.0), (570, 0.0), (571, 0.0), (572, 0.0), (573, 0.0), (574, 0.0), (575, 0.0), (576, 0.0), (577, 0.0), (578, 0.033011585248664224), (579, 0.0), (580, 0.0), (581, 0.0), (582, 0.007675775072278481), (583, 0.005858104443219101), (584, 0.0), (585, 0.0), (586, 0.015672274159109937), (587, 0.0), (588, 0.0), (589, 0.0), (590, 0.05773645493481342), (591, 0.0), (592, 0.0), (593, 0.0), (594, 0.0), (595, 0.0), (596, 0.0), (597, 0.005708058230006205), (598, 0.0), (599, 0.0), (600, 0.006700401235183385), (601, 0.0), (602, 0.0), (603, 0.0), (604, 0.0), (605, 0.0), (606, 0.0), (607, 0.0), (608, 0.0), (609, 0.010466927191798361), (610, 0.0), (611, 0.0), (612, 0.0), (613, 0.01520810429501271), (614, 0.0), (615, 0.043870185034981614), (616, 0.00540453492500186), (617, 0.0), (618, 0.03200570404481925), (619, 0.0), (620, 0.012415778608014232), (621, 0.0), (622, 0.0), (623, 0.0), (624, 0.0), (625, 0.0), (626, 0.0), (627, 0.0), (628, 0.0737042273768965), (629, 0.019616236184818565), (630, 0.0), (631, 0.006762674813641319), (632, 0.0348020774390716), (633, 0.0), (634, 0.0), (635, 0.0072613721939522174), (636, 0.0), (637, 0.03731279601903245), (638, 0.014235196467830877), (639, 0.0), (640, 0.0), (641, 0.004816731962855947), (642, 0.0), (643, 0.006195741467469185), (644, 0.0), (645, 0.0), (646, 0.0), (647, 0.0), (648, 0.011914479439083669), (649, 0.0), (650, 0.0), (651, 0.006431004183957822), (652, 0.0), (653, 0.0), (654, 0.0), (655, 0.0), (656, 0.0), (657, 0.016258802838114945), (658, 0.0), (659, 0.0), (660, 0.0), (661, 0.0), (662, 0.0), (663, 0.0), (664, 0.0058149949191733325), (665, 0.0), (666, 0.0), (667, 0.0), (668, 0.0), (669, 0.005873615844931455), (670, 0.018552815206584906), (671, 0.006588947515611657), (672, 0.02134800097946872), (673, 0.0), (674, 0.0), (675, 0.048222340417079616), (676, 0.0), (677, 0.016620003269178958), (678, 0.0), (679, 0.0), (680, 0.0), (681, 0.0), (682, 0.031079517208858258), (683, 0.0), (684, 0.004749456537091307), (685, 0.0), (686, 0.0), (687, 0.0), (688, 0.0), (689, 0.006252755340528516), (690, 0.0), (691, 0.020137347522504023), (692, 0.005553717958125512), (693, 0.0), (694, 0.029185861551949573), (695, 0.0), (696, 0.0), (697, 0.006561057302149209), (698, 0.0), (699, 0.0), (700, 0.0), (701, 0.0), (702, 0.0), (703, 0.0), (704, 0.0), (705, 0.005764933455749721), (706, 0.0209758560346396), (707, 0.0), (708, 0.0), (709, 0.0), (710, 0.0357422573009725), (711, 0.0), (712, 0.0), (713, 0.0), (714, 0.0), (715, 0.00708826352508953), (716, 0.0), (717, 0.0), (718, 0.0), (719, 0.005451381737877306), (720, 0.0), (721, 0.0), (722, 0.0), (723, 0.0), (724, 0.0), (725, 0.0), (726, 0.0), (727, 0.0), (728, 0.0), (729, 0.0), (730, 0.0), (731, 0.0), (732, 0.005699428714309017), (733, 0.0), (734, 0.006041482800969694), (735, 0.0), (736, 0.0), (737, 0.007071590393914042), (738, 0.0), (739, 0.0), (740, 0.0), (741, 0.0), (742, 0.006061311384959034), (743, 0.0), (744, 0.0), (745, 0.0), (746, 0.0), (747, 0.0), (748, 0.006781587226512062), (749, 0.0), (750, 0.0), (751, 0.0), (752, 0.006769782523923012), (753, 0.0), (754, 0.0), (755, 0.0), (756, 0.0), (757, 0.010311130117380348), (758, 0.006376501559981473), (759, 0.0), (760, 0.0), (761, 0.0), (762, 0.011362402404208057), (763, 0.020670087340061396), (764, 0.0), (765, 0.0), (766, 0.005953542280192481), (767, 0.0), (768, 0.018159312588593286), (769, 0.0), (770, 0.0), (771, 0.0), (772, 0.0), (773, 0.0), (774, 0.03504885783005038), (775, 0.010155580240499276), (776, 0.01712230452419665), (777, 0.0), (778, 0.006742258054879372), (779, 0.016151383844280033), (780, 0.0), (781, 0.0), (782, 0.006706218375235083), (783, 0.0), (784, 0.0), (785, 0.0), (786, 0.0), (787, 0.013597087700767164), (788, 0.03399274949378475), (789, 0.0), (790, 0.0), (791, 0.0), (792, 0.0), (793, 0.0), (794, 0.013415290293133281), (795, 0.0), (796, 0.015568661879526432), (797, 0.0), (798, 0.0), (799, 0.0), (800, 0.005809927631010924), (801, 0.0), (802, 0.0), (803, 0.0), (804, 0.0), (805, 0.0), (806, 0.0), (807, 0.0), (808, 0.011513426431156267), (809, 0.006687551290754025), (810, 0.0), (811, 0.0), (812, 0.032187282194134866), (813, 0.0), (814, 0.01310396941172609), (815, 0.0), (816, 0.0), (817, 0.006570231410950253), (818, 0.032539706100881714), (819, 0.0), (820, 0.0), (821, 0.006669617198927235), (822, 0.0), (823, 0.0), (824, 0.023798411307664157), (825, 0.0), (826, 0.0), (827, 0.0), (828, 0.0), (829, 0.0), (830, 0.03226317960620843), (831, 0.0), (832, 0.018532975790148464), (833, 0.006234824538154751), (834, 0.006491658553239418), (835, 0.0061631271232369415), (836, 0.027994680974387377), (837, 0.0), (838, 0.006189145837835676), (839, 0.0), (840, 0.0), (841, 0.0), (842, 0.0), (843, 0.00537361161193424), (844, 0.006609720228508113), (845, 0.0), (846, 0.0), (847, 0.0073901779553848055), (848, 0.0), (849, 0.0), (850, 0.006486383919448924), (851, 0.0), (852, 0.0), (853, 0.0050107275748665445), (854, 0.0), (855, 0.0), (856, 0.0), (857, 0.0), (858, 0.01841378578371061), (859, 0.0), (860, 0.0), (861, 0.0), (862, 0.0), (863, 0.0), (864, 0.022033092016667213), (865, 0.0), (866, 0.0), (867, 0.013030108016844247), (868, 0.0), (869, 0.0), (870, 0.006409449024535178), (871, 0.0), (872, 0.0), (873, 0.05150868812142155), (874, 0.005859064528053292), (875, 0.0), (876, 0.0), (877, 0.048077140964468426), (878, 0.0), (879, 0.0), (880, 0.0), (881, 0.0), (882, 0.0), (883, 0.0), (884, 0.0), (885, 0.02396774152789918), (886, 0.0), (887, 0.0), (888, 0.0), (889, 0.0), (890, 0.0), (891, 0.0), (892, 0.0), (893, 0.0), (894, 0.0), (895, 0.011872735019423182), (896, 0.0), (897, 0.0065300153908144755), (898, 0.0), (899, 0.011923608547539006), (900, 0.006133644507904576), (901, 0.0), (902, 0.0), (903, 0.029643358490405714), (904, 0.033502898473788525), (905, 0.0), (906, 0.012871359151842069), (907, 0.0), (908, 0.0), (909, 0.0), (910, 0.0), (911, 0.029310838155351744), (912, 0.0), (913, 0.0), (914, 0.0), (915, 0.0), (916, 0.006002485424213552), (917, 0.0235529792573407), (918, 0.0), (919, 0.0), (920, 0.0), (921, 0.006594390758867791), (922, 0.0), (923, 0.0), (924, 0.005639942979913256), (925, 0.0), (926, 0.0), (927, 0.0), (928, 0.0), (929, 0.01404310467361414), (930, 0.0), (931, 0.0), (932, 0.0), (933, 0.0), (934, 0.011935457118560464), (935, 0.030657221086050884), (936, 0.005958148653122831), (937, 0.0), (938, 0.0), (939, 0.0), (940, 0.004544860403912453), (941, 0.0), (942, 0.012743464043454718), (943, 0.0), (944, 0.0), (945, 0.0), (946, 0.0), (947, 0.0), (948, 0.0), (949, 0.007668348076670889), (950, 0.0), (951, 0.0), (952, 0.02049284646608992), (953, 0.0), (954, 0.0), (955, 0.0), (956, 0.0), (957, 0.011777064108487447), (958, 0.006198185527264849), (959, 0.0), (960, 0.0), (961, 0.0), (962, 0.0062563677294603815), (963, 0.006103231211452741), (964, 0.0), (965, 0.0), (966, 0.0062872274430177295), (967, 0.01693197056765736), (968, 0.011751397513294121), (969, 0.0), (970, 0.005767125514357644), (971, 0.0), (972, 0.0), (973, 0.0), (974, 0.0), (975, 0.0), (976, 0.016204373120587857), (977, 0.0), (978, 0.0), (979, 0.005746818460360417), (980, 0.0), (981, 0.0), (982, 0.0), (983, 0.0), (984, 0.0), (985, 0.0), (986, 0.0), (987, 0.0), (988, 0.0), (989, 0.0), (990, 0.0), (991, 0.0), (992, 0.0), (993, 0.0), (994, 0.0), (995, 0.0), (996, 0.0), (997, 0.0), (998, 0.0), (999, 0.0), (1000, 0.0), (1001, 0.0), (1002, 0.0), (1003, 0.01745136342613737), (1004, 0.0), (1005, 0.005115831783296363), (1006, 0.006775139187751874), (1007, 0.0), (1008, 0.0), (1009, 0.005890311344765501), (1010, 0.0), (1011, 0.0), (1012, 0.006442668911435708), (1013, 0.0), (1014, 0.007717082259225539), (1015, 0.006876560579621935), (1016, 0.0), (1017, 0.00660868314603533), (1018, 0.005614695276518989), (1019, 0.006443372368138607), (1020, 0.006596868404911068), (1021, 0.057840180863404575), (1022, 0.0), (1023, 0.042874434560548014), (1024, 0.027701035589260077), (1025, 0.0), (1026, 0.0), (1027, 0.0), (1028, 0.0), (1029, 0.0), (1030, 0.0438715109316741), (1031, 0.0), (1032, 0.0), (1033, 0.0178437739026613), (1034, 0.0), (1035, 0.0), (1036, 0.0), (1037, 0.005456188581606682), (1038, 0.0), (1039, 0.0), (1040, 0.0), (1041, 0.0), (1042, 0.0), (1043, 0.02647214713790421), (1044, 0.0), (1045, 0.016119262003897877), (1046, 0.029525749790415057), (1047, 0.0), (1048, 0.006634307185467095), (1049, 0.0), (1050, 0.0), (1051, 0.0), (1052, 0.016718511300964543), (1053, 0.0), (1054, 0.0), (1055, 0.0), (1056, 0.0), (1057, 0.0), (1058, 0.0), (1059, 0.02573859037434573), (1060, 0.0), (1061, 0.0), (1062, 0.0), (1063, 0.023928467128809455), (1064, 0.0), (1065, 0.0), (1066, 0.0), (1067, 0.0), (1068, 0.02046909204533168), (1069, 0.0075777544047008465), (1070, 0.08938966999548059), (1071, 0.0), (1072, 0.0), (1073, 0.0), (1074, 0.006518746906234137), (1075, 0.006489035748308953), (1076, 0.0), (1077, 0.00654556846794883), (1078, 0.0), (1079, 0.0), (1080, 0.0), (1081, 0.0), (1082, 0.0), (1083, 0.0), (1084, 0.0), (1085, 0.03788738857710444), (1086, 0.0), (1087, 0.006419661517200934), (1088, 0.0), (1089, 0.0), (1090, 0.011299054885374228), (1091, 0.0), (1092, 0.0), (1093, 0.0), (1094, 0.006588745149141878), (1095, 0.02957713831516086), (1096, 0.006203386393354712), (1097, 0.0), (1098, 0.0), (1099, 0.007048474269086849), (1100, 0.0), (1101, 0.0), (1102, 0.0), (1103, 0.0), (1104, 0.0), (1105, 0.0), (1106, 0.0), (1107, 0.0), (1108, 0.0), (1109, 0.0), (1110, 0.0), (1111, 0.006536854020609159), (1112, 0.01523716100520079), (1113, 0.0), (1114, 0.011909257656093434), (1115, 0.0), (1116, 0.006732939329677201), (1117, 0.0), (1118, 0.061670764585744046), (1119, 0.0), (1120, 0.0), (1121, 0.0), (1122, 0.0), (1123, 0.0), (1124, 0.006834407984346576), (1125, 0.0), (1126, 0.0), (1127, 0.0), (1128, 0.006436499674935469), (1129, 0.012849547958699872), (1130, 0.0), (1131, 0.0), (1132, 0.0), (1133, 0.0), (1134, 0.057412620736475455), (1135, 0.0), (1136, 0.005815861420487244), (1137, 0.01974459243872924), (1138, 0.0), (1139, 0.0), (1140, 0.0), (1141, 0.007153401035285023), (1142, 0.0), (1143, 0.0), (1144, 0.005181769592388969), (1145, 0.0), (1146, 0.031568838711825094), (1147, 0.0), (1148, 0.03577335190930676), (1149, 0.0), (1150, 0.0), (1151, 0.0), (1152, 0.014267264791304355), (1153, 0.0), (1154, 0.0), (1155, 0.0), (1156, 0.0), (1157, 0.01180976903770736), (1158, 0.0), (1159, 0.0), (1160, 0.0), (1161, 0.0), (1162, 0.014463968845713852), (1163, 0.0), (1164, 0.0), (1165, 0.0), (1166, 0.0), (1167, 0.0), (1168, 0.0), (1169, 0.0), (1170, 0.0), (1171, 0.0), (1172, 0.00675755600859575), (1173, 0.019815266419269718), (1174, 0.0), (1175, 0.01549295186367656), (1176, 0.0), (1177, 0.0), (1178, 0.0), (1179, 0.0), (1180, 0.0), (1181, 0.0), (1182, 0.007009346796242291), (1183, 0.0), (1184, 0.0), (1185, 0.0), (1186, 0.023534709413210956), (1187, 0.0), (1188, 0.0), (1189, 0.0), (1190, 0.0), (1191, 0.0), (1192, 0.006507015205998253), (1193, 0.0), (1194, 0.0056070513176668686), (1195, 0.03478534403664526), (1196, 0.0), (1197, 0.0), (1198, 0.0), (1199, 0.0), (1200, 0.0), (1201, 0.0), (1202, 0.012925099299668409), (1203, 0.0), (1204, 0.0), (1205, 0.0), (1206, 0.006051720229220171), (1207, 0.0), (1208, 0.0), (1209, 0.0), (1210, 0.0), (1211, 0.0), (1212, 0.0), (1213, 0.0), (1214, 0.0), (1215, 0.005689653068709547), (1216, 0.014058759728186706), (1217, 0.0), (1218, 0.0), (1219, 0.0), (1220, 0.006164262977835924), (1221, 0.0), (1222, 0.0), (1223, 0.0), (1224, 0.0), (1225, 0.0), (1226, 0.006413556088040874), (1227, 0.0), (1228, 0.0), (1229, 0.0), (1230, 0.0), (1231, 0.0), (1232, 0.0), (1233, 0.0), (1234, 0.0), (1235, 0.0), (1236, 0.0), (1237, 0.0), (1238, 0.006508629625679715), (1239, 0.012941357753702403), (1240, 0.0), (1241, 0.03700122011114251), (1242, 0.0), (1243, 0.05447808168702516), (1244, 0.0), (1245, 0.015274402323177953), (1246, 0.0), (1247, 0.0), (1248, 0.029833582978891444), (1249, 0.01157775443274707), (1250, 0.006752775592242651), (1251, 0.0), (1252, 0.0), (1253, 0.0), (1254, 0.013626931917886215), (1255, 0.006185242439680277), (1256, 0.0), (1257, 0.012831242754436693), (1258, 0.0), (1259, 0.0), (1260, 0.0), (1261, 0.01771968713797563), (1262, 0.006681781357444595), (1263, 0.0), (1264, 0.0), (1265, 0.0), (1266, 0.006778540062421392), (1267, 0.006095081617149047), (1268, 0.0), (1269, 0.0), (1270, 0.016926374521468026), (1271, 0.0), (1272, 0.03020093989600362), (1273, 0.0), (1274, 0.017563993415047132), (1275, 0.0), (1276, 0.0), (1277, 0.0), (1278, 0.014871002919779622), (1279, 0.005429886392548151), (1280, 0.0), (1281, 0.0), (1282, 0.0), (1283, 0.02472140334724864), (1284, 0.0), (1285, 0.0), (1286, 0.0), (1287, 0.0), (1288, 0.0), (1289, 0.0), (1290, 0.0), (1291, 0.0), (1292, 0.03284833359958457), (1293, 0.012555160701603415), (1294, 0.0), (1295, 0.0), (1296, 0.0), (1297, 0.0), (1298, 0.0), (1299, 0.0), (1300, 0.0), (1301, 0.0), (1302, 0.006598860188724319), (1303, 0.0), (1304, 0.0), (1305, 0.0), (1306, 0.004741933248658904), (1307, 0.005961053640433993), (1308, 0.006014672969420636), (1309, 0.0), (1310, 0.01209902203404956), (1311, 0.03611828115122188), (1312, 0.0058009944987898006), (1313, 0.0), (1314, 0.014703937230037824), (1315, 0.0), (1316, 0.00594725765341488), (1317, 0.005480470658806345), (1318, 0.0), (1319, 0.0), (1320, 0.035416037578020886), (1321, 0.0), (1322, 0.0), (1323, 0.0), (1324, 0.0), (1325, 0.0), (1326, 0.0), (1327, 0.006198005330478905), (1328, 0.0), (1329, 0.006326954500814932), (1330, 0.0), (1331, 0.01412531554913065), (1332, 0.0), (1333, 0.0), (1334, 0.0), (1335, 0.0), (1336, 0.0), (1337, 0.0), (1338, 0.0), (1339, 0.0), (1340, 0.0), (1341, 0.07988324719839077), (1342, 0.012794129277290508), (1343, 0.0), (1344, 0.0), (1345, 0.006542488669802042), (1346, 0.0), (1347, 0.0), (1348, 0.0), (1349, 0.0), (1350, 0.0), (1351, 0.020041932614297285), (1352, 0.0), (1353, 0.0), (1354, 0.0), (1355, 0.0), (1356, 0.0), (1357, 0.0), (1358, 0.044079962493756335), (1359, 0.006820638441541393), (1360, 0.0), (1361, 0.016228949952936098), (1362, 0.022823806838302707), (1363, 0.029375801178675675), (1364, 0.0), (1365, 0.015626662487168586), (1366, 0.0), (1367, 0.030367483541108357), (1368, 0.0), (1369, 0.03126126205427951), (1370, 0.0), (1371, 0.0), (1372, 0.0), (1373, 0.0), (1374, 0.006430982999356005), (1375, 0.0), (1376, 0.012516224597028804), (1377, 0.005280184590995697), (1378, 0.0), (1379, 0.03503976390783954), (1380, 0.0), (1381, 0.0), (1382, 0.006711394083959631), (1383, 0.07813887613858611), (1384, 0.01402155144600435), (1385, 0.006229885958885839), (1386, 0.018449951595097738), (1387, 0.0), (1388, 0.0), (1389, 0.03448737437574292), (1390, 0.0), (1391, 0.0), (1392, 0.0), (1393, 0.03672542116727281), (1394, 0.0), (1395, 0.0), (1396, 0.006703288181294402), (1397, 0.0221516292451807), (1398, 0.02938878332709732), (1399, 0.0), (1400, 0.0), (1401, 0.013665181400666693), (1402, 0.0), (1403, 0.014935482078657766), (1404, 0.0), (1405, 0.03041203488943921), (1406, 0.0), (1407, 0.006734496876878304), (1408, 0.0), (1409, 0.0), (1410, 0.0), (1411, 0.0), (1412, 0.012300633055986065), (1413, 0.006896734376253197), (1414, 0.0), (1415, 0.0), (1416, 0.0), (1417, 0.005091735433661216), (1418, 0.009825997978991663), (1419, 0.0), (1420, 0.006614787323466518), (1421, 0.0), (1422, 0.0), (1423, 0.0), (1424, 0.0), (1425, 0.006218721167082679), (1426, 0.0), (1427, 0.0), (1428, 0.0), (1429, 0.0), (1430, 0.0), (1431, 0.0), (1432, 0.0), (1433, 0.0), (1434, 0.0), (1435, 0.0), (1436, 0.0), (1437, 0.0), (1438, 0.0), (1439, 0.0), (1440, 0.0), (1441, 0.0), (1442, 0.0), (1443, 0.01333219046342765), (1444, 0.0), (1445, 0.015973841667779216), (1446, 0.006256354667785127), (1447, 0.0), (1448, 0.0), (1449, 0.0), (1450, 0.0), (1451, 0.0), (1452, 0.0), (1453, 0.0054363115747964015), (1454, 0.0), (1455, 0.0), (1456, 0.0), (1457, 0.0), (1458, 0.0), (1459, 0.0), (1460, 0.0), (1461, 0.006659406537335039), (1462, 0.0), (1463, 0.0), (1464, 0.030177980176947804), (1465, 0.011216475160165395), (1466, 0.0), (1467, 0.0), (1468, 0.0), (1469, 0.0), (1470, 0.0), (1471, 0.009947198550893143), (1472, 0.0), (1473, 0.0), (1474, 0.0), (1475, 0.006892111098023222), (1476, 0.0), (1477, 0.005953978585333345), (1478, 0.0), (1479, 0.0), (1480, 0.0), (1481, 0.0), (1482, 0.030195214943915867), (1483, 0.0), (1484, 0.0), (1485, 0.0), (1486, 0.007154139261567927), (1487, 0.0), (1488, 0.0), (1489, 0.0), (1490, 0.0), (1491, 0.0), (1492, 0.021547614121960434), (1493, 0.012397920960077621), (1494, 0.006644563212315589), (1495, 0.0), (1496, 0.0), (1497, 0.0), (1498, 0.0), (1499, 0.0), (1500, 0.024096129910829184), (1501, 0.00650486046075783), (1502, 0.0), (1503, 0.0), (1504, 0.0), (1505, 0.022960657636028114), (1506, 0.02757296353917675), (1507, 0.0), (1508, 0.0), (1509, 0.004533936570175965), (1510, 0.01280290440501734), (1511, 0.0), (1512, 0.015806172776186355), (1513, 0.0), (1514, 0.0061454327296281966), (1515, 0.022504229069885556), (1516, 0.0), (1517, 0.0), (1518, 0.0), (1519, 0.006188969455859681), (1520, 0.0), (1521, 0.0), (1522, 0.0), (1523, 0.015530387151017979), (1524, 0.0), (1525, 0.0), (1526, 0.0064722974677161975), (1527, 0.03076449138810708), (1528, 0.0), (1529, 0.0), (1530, 0.0), (1531, 0.0), (1532, 0.0), (1533, 0.0), (1534, 0.0), (1535, 0.0), (1536, 0.0), (1537, 0.0), (1538, 0.005925840721322143), (1539, 0.005845759068553584), (1540, 0.0), (1541, 0.0), (1542, 0.0), (1543, 0.0), (1544, 0.017796901375855236), (1545, 0.0), (1546, 0.0), (1547, 0.0), (1548, 0.0), (1549, 0.0), (1550, 0.0), (1551, 0.006452254932375438), (1552, 0.006366978439983447), (1553, 0.00565368647641421), (1554, 0.0), (1555, 0.0), (1556, 0.0), (1557, 0.0), (1558, 0.0), (1559, 0.0), (1560, 0.0), (1561, 0.0), (1562, 0.0), (1563, 0.0), (1564, 0.0), (1565, 0.0), (1566, 0.0), (1567, 0.0059671584139898036), (1568, 0.031436353443190554), (1569, 0.0), (1570, 0.0), (1571, 0.005382815024264538), (1572, 0.006921836663706355), (1573, 0.0), (1574, 0.0), (1575, 0.0), (1576, 0.0), (1577, 0.0), (1578, 0.0), (1579, 0.01697839587448843), (1580, 0.0), (1581, 0.0), (1582, 0.0), (1583, 0.007000391864961372), (1584, 0.0), (1585, 0.016141934097091276), (1586, 0.0), (1587, 0.0), (1588, 0.0), (1589, 0.0), (1590, 0.0), (1591, 0.0), (1592, 0.0), (1593, 0.0), (1594, 0.0), (1595, 0.0), (1596, 0.0), (1597, 0.0), (1598, 0.0), (1599, 0.0), (1600, 0.0), (1601, 0.0), (1602, 0.0), (1603, 0.0), (1604, 0.0), (1605, 0.0), (1606, 0.0), (1607, 0.0), (1608, 0.0), (1609, 0.016866254334212093), (1610, 0.0), (1611, 0.0), (1612, 0.006422484406853222), (1613, 0.0), (1614, 0.0), (1615, 0.0), (1616, 0.0), (1617, 0.0), (1618, 0.0), (1619, 0.006786363512352841), (1620, 0.0), (1621, 0.0), (1622, 0.0), (1623, 0.0), (1624, 0.0), (1625, 0.0), (1626, 0.0), (1627, 0.0), (1628, 0.0), (1629, 0.0065385791936197), (1630, 0.0), (1631, 0.0), (1632, 0.0), (1633, 0.0), (1634, 0.0), (1635, 0.0), (1636, 0.0), (1637, 0.0), (1638, 0.0), (1639, 0.0), (1640, 0.0), (1641, 0.0), (1642, 0.0), (1643, 0.0), (1644, 0.006481691783982947), (1645, 0.0), (1646, 0.0), (1647, 0.04365636179854911), (1648, 0.028123023893194245), (1649, 0.0), (1650, 0.005911833698379474), (1651, 0.0), (1652, 0.0216416997558698), (1653, 0.0), (1654, 0.012261509384518178), (1655, 0.008083670619489298), (1656, 0.0), (1657, 0.0), (1658, 0.007592812860227656), (1659, 0.0), (1660, 0.0), (1661, 0.0), (1662, 0.00617383754503466), (1663, 0.0), (1664, 0.006240151461508953), (1665, 0.0), (1666, 0.0), (1667, 0.0), (1668, 0.0), (1669, 0.0), (1670, 0.0), (1671, 0.0), (1672, 0.0), (1673, 0.0), (1674, 0.0), (1675, 0.03660072518762881), (1676, 0.03762842327205578), (1677, 0.0), (1678, 0.006475128714420785), (1679, 0.0), (1680, 0.0), (1681, 0.0), (1682, 0.012107914653336377), (1683, 0.0), (1684, 0.005868586300066696), (1685, 0.006921723720479573), (1686, 0.0), (1687, 0.0), (1688, 0.0066765666652957405), (1689, 0.0), (1690, 0.005854767513032667), (1691, 0.0), (1692, 0.006355055518519846), (1693, 0.0), (1694, 0.0), (1695, 0.0052871518290803785), (1696, 0.006314587964765312), (1697, 0.0), (1698, 0.0), (1699, 0.0), (1700, 0.0), (1701, 0.005080009652135028), (1702, 0.03382930206874711), (1703, 0.0), (1704, 0.0), (1705, 0.0), (1706, 0.0), (1707, 0.01098052893459681), (1708, 0.006968756874308776), (1709, 0.0), (1710, 0.006335747194696077), (1711, 0.0), (1712, 0.0072575260274354274), (1713, 0.007629032745575683), (1714, 0.011713471122547463), (1715, 0.005824314106764305), (1716, 0.0), (1717, 0.0), (1718, 0.006911331041969565), (1719, 0.0), (1720, 0.02731891851323035), (1721, 0.012415990262395192), (1722, 0.0), (1723, 0.0060713519227979474), (1724, 0.0), (1725, 0.0), (1726, 0.0), (1727, 0.0), (1728, 0.0), (1729, 0.0), (1730, 0.006486332338001424), (1731, 0.0), (1732, 0.0), (1733, 0.0), (1734, 0.0), (1735, 0.0), (1736, 0.0), (1737, 0.0068554536764503515), (1738, 0.0), (1739, 0.0), (1740, 0.0), (1741, 0.014885337398301817), (1742, 0.0), (1743, 0.00545285353146235), (1744, 0.0), (1745, 0.0), (1746, 0.006014827579238551), (1747, 0.00510735522180355), (1748, 0.0), (1749, 0.023592856209287166), (1750, 0.03102299660615842), (1751, 0.0), (1752, 0.012532222324943089), (1753, 0.0), (1754, 0.0), (1755, 0.0), (1756, 0.0), (1757, 0.02368360614438406), (1758, 0.0), (1759, 0.015390817536421846), (1760, 0.0), (1761, 0.006671431217759359), (1762, 0.005776131999328507), (1763, 0.023818064224515004), (1764, 0.005877003461285405), (1765, 0.0), (1766, 0.0), (1767, 0.0), (1768, 0.0), (1769, 0.0), (1770, 0.007312274715807197), (1771, 0.0), (1772, 0.0), (1773, 0.006528442960837521), (1774, 0.005028060365948043), (1775, 0.0), (1776, 0.0), (1777, 0.0), (1778, 0.0), (1779, 0.006738891516051961), (1780, 0.0), (1781, 0.0), (1782, 0.0), (1783, 0.0), (1784, 0.0), (1785, 0.0), (1786, 0.0), (1787, 0.012078535732070236), (1788, 0.024509334855269287), (1789, 0.0), (1790, 0.007744076609160053), (1791, 0.0), (1792, 0.0), (1793, 0.0062106495905690125), (1794, 0.0), (1795, 0.030686835661877923), (1796, 0.0), (1797, 0.0), (1798, 0.007170702886015762), (1799, 0.007287092827076021), (1800, 0.0), (1801, 0.0), (1802, 0.013349325964671822), (1803, 0.0), (1804, 0.0), (1805, 0.0), (1806, 0.0), (1807, 0.006380767758821289), (1808, 0.0), (1809, 0.049862639472556224), (1810, 0.0), (1811, 0.0), (1812, 0.007171383508333596), (1813, 0.0), (1814, 0.0), (1815, 0.0), (1816, 0.0), (1817, 0.016950436550636834), (1818, 0.006038509699039228), (1819, 0.0), (1820, 0.0), (1821, 0.033522685531402745), (1822, 0.0), (1823, 0.0), (1824, 0.0), (1825, 0.0), (1826, 0.0), (1827, 0.0), (1828, 0.0), (1829, 0.0), (1830, 0.0), (1831, 0.0), (1832, 0.0), (1833, 0.005859581753447941), (1834, 0.0), (1835, 0.0), (1836, 0.0), (1837, 0.0336089339879846), (1838, 0.01596078766391283), (1839, 0.0), (1840, 0.0), (1841, 0.007144790664546076), (1842, 0.0), (1843, 0.014801284112237913), (1844, 0.0), (1845, 0.02090140807274736), (1846, 0.0), (1847, 0.018806309840480675), (1848, 0.0), (1849, 0.006370011792001239), (1850, 0.043380897834126894), (1851, 0.0), (1852, 0.006500388432446283), (1853, 0.0), (1854, 0.0), (1855, 0.0), (1856, 0.0), (1857, 0.0), (1858, 0.0), (1859, 0.0), (1860, 0.006542927435491392), (1861, 0.013949436427930556), (1862, 0.0), (1863, 0.005631644832274149), (1864, 0.00627197142365282), (1865, 0.016560826487188568), (1866, 0.0), (1867, 0.006384493114764442), (1868, 0.031667217497823946), (1869, 0.0), (1870, 0.01170286915021231), (1871, 0.039420063139955316), (1872, 0.016185853798902562), (1873, 0.0066439949232544445), (1874, 0.0), (1875, 0.005971416605285437), (1876, 0.006732378518384918), (1877, 0.0), (1878, 0.0457105474955898), (1879, 0.0), (1880, 0.015479241811199945), (1881, 0.0), (1882, 0.0), (1883, 0.0), (1884, 0.0), (1885, 0.031159660358450175), (1886, 0.06663044337000759), (1887, 0.0), (1888, 0.0), (1889, 0.0), (1890, 0.0), (1891, 0.0), (1892, 0.0), (1893, 0.0), (1894, 0.0), (1895, 0.014515894267342205), (1896, 0.0), (1897, 0.007299723870436724), (1898, 0.0), (1899, 0.0), (1900, 0.0), (1901, 0.0), (1902, 0.0), (1903, 0.006025949780350418), (1904, 0.0), (1905, 0.0), (1906, 0.01512837803435362), (1907, 0.0), (1908, 0.0066716306352376485), (1909, 0.0), (1910, 0.0), (1911, 0.006793643206474991), (1912, 0.0), (1913, 0.006394921849046365), (1914, 0.0), (1915, 0.0), (1916, 0.0), (1917, 0.0), (1918, 0.0), (1919, 0.01261968123765499), (1920, 0.005877112927951456), (1921, 0.0), (1922, 0.0), (1923, 0.0), (1924, 0.0), (1925, 0.0), (1926, 0.0), (1927, 0.015398518858729709), (1928, 0.0), (1929, 0.0), (1930, 0.0), (1931, 0.0), (1932, 0.0), (1933, 0.0), (1934, 0.005870902965468059), (1935, 0.022653555324268167), (1936, 0.0065503135217197415), (1937, 0.0), (1938, 0.0), (1939, 0.0), (1940, 0.0), (1941, 0.0), (1942, 0.0067394483670457726), (1943, 0.0), (1944, 0.0), (1945, 0.006598779948515893), (1946, 0.0), (1947, 0.0), (1948, 0.009158340755582452), (1949, 0.0), (1950, 0.00541394092438296), (1951, 0.006897497392312238), (1952, 0.0), (1953, 0.0), (1954, 0.0), (1955, 0.0), (1956, 0.0), (1957, 0.010926238035716915), (1958, 0.0), (1959, 0.0), (1960, 0.0), (1961, 0.0), (1962, 0.0), (1963, 0.0), (1964, 0.0), (1965, 0.0), (1966, 0.0), (1967, 0.0), (1968, 0.0), (1969, 0.0), (1970, 0.01581863582712912), (1971, 0.0), (1972, 0.0), (1973, 0.0), (1974, 0.0), (1975, 0.0), (1976, 0.02696580645461123), (1977, 0.07407977434211484), (1978, 0.0), (1979, 0.0), (1980, 0.0), (1981, 0.0), (1982, 0.0745503955369993), (1983, 0.0), (1984, 0.0), (1985, 0.0066779604133643386), (1986, 0.00626919860314493), (1987, 0.0), (1988, 0.012321007086982052), (1989, 0.0), (1990, 0.02511282274139163), (1991, 0.03129486158034153), (1992, 0.0), (1993, 0.0), (1994, 0.08346426694234456), (1995, 0.0), (1996, 0.017021281866547184), (1997, 0.0), (1998, 0.0), (1999, 0.02774195455256574), (2000, 0.010618178290250736), (2001, 0.0), (2002, 0.0), (2003, 0.0), (2004, 0.0), (2005, 0.011886055336144516), (2006, 0.0), (2007, 0.0), (2008, 0.006434565219652691), (2009, 0.0), (2010, 0.0), (2011, 0.023501737613635953), (2012, 0.0369399076645943), (2013, 0.02470589840767643), (2014, 0.029897565227024334), (2015, 0.0), (2016, 0.0), (2017, 0.0), (2018, 0.020478054814874715), (2019, 0.0), (2020, 0.027053277687154625), (2021, 0.0), (2022, 0.0052430153908703935), (2023, 0.014579474823674917), (2024, 0.0), (2025, 0.0), (2026, 0.04574995403111427), (2027, 0.012252445695016321), (2028, 0.0), (2029, 0.0), (2030, 0.0), (2031, 0.0), (2032, 0.0), (2033, 0.0), (2034, 0.0), (2035, 0.015344249745384321), (2036, 0.0), (2037, 0.013679336333235245), (2038, 0.0), (2039, 0.0), (2040, 0.00708871390801406), (2041, 0.0), (2042, 0.0), (2043, 0.0), (2044, 0.0), (2045, 0.00648169844161028), (2046, 0.0), (2047, 0.0), (2048, 0.0), (2049, 0.007677023134794727), (2050, 0.0), (2051, 0.007514570762571086), (2052, 0.012540144268339763), (2053, 0.0), (2054, 0.0), (2055, 0.011646189020497686), (2056, 0.006485946684254525), (2057, 0.0), (2058, 0.005892287924306078), (2059, 0.0), (2060, 0.0), (2061, 0.0), (2062, 0.0063138684193430866), (2063, 0.0), (2064, 0.0047014138568390595), (2065, 0.0), (2066, 0.0), (2067, 0.0), (2068, 0.0), (2069, 0.0), (2070, 0.005505150264404682), (2071, 0.0), (2072, 0.0), (2073, 0.0), (2074, 0.005799746140129078), (2075, 0.0), (2076, 0.0), (2077, 0.0), (2078, 0.0), (2079, 0.0), (2080, 0.0), (2081, 0.0), (2082, 0.028205747917925947), (2083, 0.0), (2084, 0.0), (2085, 0.0), (2086, 0.0), (2087, 0.006351024877924867), (2088, 0.0), (2089, 0.0), (2090, 0.0), (2091, 0.0), (2092, 0.0), (2093, 0.0), (2094, 0.006150578771311695), (2095, 0.00621709506045703), (2096, 0.007058176270537249), (2097, 0.0), (2098, 0.0055261395066143375), (2099, 0.0), (2100, 0.03165934314165973), (2101, 0.007209010550637549), (2102, 0.026853601139643045), (2103, 0.006335034246858766), (2104, 0.0), (2105, 0.0), (2106, 0.0), (2107, 0.0), (2108, 0.0), (2109, 0.006474636586889935), (2110, 0.006102736727687944), (2111, 0.0), (2112, 0.047560439811842624), (2113, 0.005514045093453579), (2114, 0.02971657532688412), (2115, 0.0), (2116, 0.007177880320708347), (2117, 0.0), (2118, 0.0), (2119, 0.006044179375924875), (2120, 0.0), (2121, 0.00627585717926847), (2122, 0.030220112135878597), (2123, 0.031357391224155866), (2124, 0.0), (2125, 0.0), (2126, 0.0), (2127, 0.0), (2128, 0.0), (2129, 0.0), (2130, 0.0), (2131, 0.0), (2132, 0.0), (2133, 0.04852577511191562), (2134, 0.0), (2135, 0.0), (2136, 0.0), (2137, 0.0), (2138, 0.0), (2139, 0.0), (2140, 0.0), (2141, 0.0), (2142, 0.0), (2143, 0.006161152125587307), (2144, 0.006632413485282603), (2145, 0.01166939808938108), (2146, 0.0), (2147, 0.03292469199367656), (2148, 0.0), (2149, 0.014422281182545814), (2150, 0.0), (2151, 0.0), (2152, 0.0), (2153, 0.0), (2154, 0.008033190956231557), (2155, 0.03748437332386871), (2156, 0.005776192010700055), (2157, 0.022293717903701774), (2158, 0.0), (2159, 0.0), (2160, 0.006448830090979004), (2161, 0.01614234994072349), (2162, 0.0), (2163, 0.0), (2164, 0.0), (2165, 0.0), (2166, 0.0), (2167, 0.017888898445501702), (2168, 0.0), (2169, 0.0), (2170, 0.0), (2171, 0.0), (2172, 0.0), (2173, 0.0), (2174, 0.006351130141425366), (2175, 0.006145198781244666), (2176, 0.0), (2177, 0.013175010635965179), (2178, 0.0), (2179, 0.0), (2180, 0.0), (2181, 0.0), (2182, 0.0), (2183, 0.0), (2184, 0.0), (2185, 0.005868212034497694), (2186, 0.0), (2187, 0.03566236886130807), (2188, 0.0), (2189, 0.0), (2190, 0.0), (2191, 0.04466744675376523), (2192, 0.0), (2193, 0.0064800541391014516), (2194, 0.0), (2195, 0.0), (2196, 0.0), (2197, 0.005486756716724195), (2198, 0.030880867081189388), (2199, 0.0), (2200, 0.0), (2201, 0.0), (2202, 0.006227831543924386), (2203, 0.005902562316724954), (2204, 0.0), (2205, 0.006108081335044008), (2206, 0.0), (2207, 0.0), (2208, 0.0), (2209, 0.007273106761299542), (2210, 0.0), (2211, 0.005529664453951053), (2212, 0.027997044210595092), (2213, 0.0), (2214, 0.03405515900875362), (2215, 0.0), (2216, 0.0), (2217, 0.0), (2218, 0.0), (2219, 0.0), (2220, 0.0), (2221, 0.026028802204879832), (2222, 0.0), (2223, 0.0), (2224, 0.0), (2225, 0.0), (2226, 0.0), (2227, 0.0), (2228, 0.0), (2229, 0.0), (2230, 0.0), (2231, 0.0), (2232, 0.0), (2233, 0.0), (2234, 0.0), (2235, 0.0), (2236, 0.0059050602872816015), (2237, 0.01608941175611474), (2238, 0.0), (2239, 0.006375100087573803), (2240, 0.0), (2241, 0.0), (2242, 0.0), (2243, 0.0), (2244, 0.006944876578422897), (2245, 0.0), (2246, 0.0), (2247, 0.0), (2248, 0.0), (2249, 0.0), (2250, 0.0), (2251, 0.0), (2252, 0.0), (2253, 0.0), (2254, 0.0), (2255, 0.0), (2256, 0.0), (2257, 0.0), (2258, 0.016496765688975786), (2259, 0.0), (2260, 0.0), (2261, 0.0), (2262, 0.0), (2263, 0.0), (2264, 0.0), (2265, 0.006099567368939895), (2266, 0.0), (2267, 0.0), (2268, 0.0), (2269, 0.0), (2270, 0.0), (2271, 0.0), (2272, 0.0), (2273, 0.0), (2274, 0.0), (2275, 0.0), (2276, 0.006483095470994511), (2277, 0.006905758884740265), (2278, 0.0), (2279, 0.0), (2280, 0.0), (2281, 0.0), (2282, 0.0), (2283, 0.0), (2284, 0.0), (2285, 0.005852494369461982), (2286, 0.0), (2287, 0.0), (2288, 0.0), (2289, 0.0), (2290, 0.015502706588878054), (2291, 0.006062504923476301), (2292, 0.0), (2293, 0.0), (2294, 0.0508968954201045), (2295, 0.0), (2296, 0.0), (2297, 0.0), (2298, 0.015170751950667537), (2299, 0.0), (2300, 0.0), (2301, 0.01804706598073652), (2302, 0.0), (2303, 0.00681938170054226), (2304, 0.0), (2305, 0.0), (2306, 0.008062892494193041), (2307, 0.0), (2308, 0.03707628436070222), (2309, 0.006395215545254245), (2310, 0.0), (2311, 0.0), (2312, 0.0), (2313, 0.0), (2314, 0.0), (2315, 0.0), (2316, 0.029651411768323154), (2317, 0.0), (2318, 0.04651563444052348), (2319, 0.0), (2320, 0.0), (2321, 0.031370486741344704), (2322, 0.0), (2323, 0.0), (2324, 0.0), (2325, 0.0), (2326, 0.0), (2327, 0.0), (2328, 0.0), (2329, 0.0), (2330, 0.0), (2331, 0.0), (2332, 0.0), (2333, 0.0), (2334, 0.0), (2335, 0.006500069187511627), (2336, 0.0), (2337, 0.0), (2338, 0.0), (2339, 0.007333090854520258), (2340, 0.0), (2341, 0.0), (2342, 0.0), (2343, 0.0), (2344, 0.0), (2345, 0.0), (2346, 0.0), (2347, 0.014443874972830154), (2348, 0.0), (2349, 0.0), (2350, 0.0), (2351, 0.0), (2352, 0.0), (2353, 0.016161379398340163), (2354, 0.0), (2355, 0.0), (2356, 0.0), (2357, 0.0), (2358, 0.0), (2359, 0.0), (2360, 0.0), (2361, 0.0), (2362, 0.01809829891156939), (2363, 0.0), (2364, 0.0), (2365, 0.03621413718022483), (2366, 0.013869525610395584), (2367, 0.0), (2368, 0.018775975950931258), (2369, 0.0), (2370, 0.0), (2371, 0.036976846773180416), (2372, 0.0), (2373, 0.0), (2374, 0.040023678207326975), (2375, 0.033409195875725675), (2376, 0.01507949368898595), (2377, 0.0), (2378, 0.0), (2379, 0.0), (2380, 0.0), (2381, 0.0), (2382, 0.0), (2383, 0.0), (2384, 0.0), (2385, 0.0), (2386, 0.0), (2387, 0.0), (2388, 0.0), (2389, 0.0), (2390, 0.0), (2391, 0.0), (2392, 0.0), (2393, 0.0), (2394, 0.0), (2395, 0.0), (2396, 0.0), (2397, 0.0), (2398, 0.0), (2399, 0.0), (2400, 0.0), (2401, 0.0), (2402, 0.0), (2403, 0.00748720073910798), (2404, 0.0), (2405, 0.0), (2406, 0.0), (2407, 0.0), (2408, 0.0), (2409, 0.0), (2410, 0.0), (2411, 0.0), (2412, 0.0), (2413, 0.02837446766877132), (2414, 0.0), (2415, 0.0), (2416, 0.0), (2417, 0.04537602274043434), (2418, 0.007042104694839509), (2419, 0.0), (2420, 0.0), (2421, 0.006745774019399956), (2422, 0.0), (2423, 0.0), (2424, 0.0), (2425, 0.0), (2426, 0.005878031464681128), (2427, 0.0), (2428, 0.0), (2429, 0.0), (2430, 0.0), (2431, 0.0), (2432, 0.0), (2433, 0.0), (2434, 0.0), (2435, 0.0), (2436, 0.0071794392229920945), (2437, 0.0), (2438, 0.0), (2439, 0.005882596490602534), (2440, 0.014402397139627059), (2441, 0.0), (2442, 0.0), (2443, 0.025641808264724425), (2444, 0.0), (2445, 0.0), (2446, 0.0), (2447, 0.0), (2448, 0.0), (2449, 0.024694657892934145), (2450, 0.0), (2451, 0.0), (2452, 0.0), (2453, 0.0), (2454, 0.0), (2455, 0.0), (2456, 0.0), (2457, 0.0), (2458, 0.0), (2459, 0.0), (2460, 0.013277975058564635), (2461, 0.0), (2462, 0.0), (2463, 0.006468073837293535), (2464, 0.0), (2465, 0.0), (2466, 0.0), (2467, 0.025176582338896473), (2468, 0.0), (2469, 0.01729043776325693), (2470, 0.0), (2471, 0.0), (2472, 0.0), (2473, 0.006250460855446662), (2474, 0.01002338594580399), (2475, 0.0), (2476, 0.0), (2477, 0.0), (2478, 0.0), (2479, 0.0), (2480, 0.006335833406383328), (2481, 0.026439738845089086), (2482, 0.0), (2483, 0.0), (2484, 0.021495275872701936), (2485, 0.0), (2486, 0.0), (2487, 0.006551046979847432), (2488, 0.0), (2489, 0.0), (2490, 0.0), (2491, 0.0), (2492, 0.0), (2493, 0.0), (2494, 0.006710286684854587), (2495, 0.0), (2496, 0.0), (2497, 0.0), (2498, 0.0), (2499, 0.0), (2500, 0.0), (2501, 0.0), (2502, 0.0), (2503, 0.006427182165925129), (2504, 0.0), (2505, 0.007661231450338303), (2506, 0.0), (2507, 0.0), (2508, 0.0), (2509, 0.0), (2510, 0.007354527290053306), (2511, 0.0), (2512, 0.0), (2513, 0.01810202994325002), (2514, 0.0), (2515, 0.0), (2516, 0.0), (2517, 0.032173498222963), (2518, 0.0), (2519, 0.0), (2520, 0.0), (2521, 0.0), (2522, 0.0), (2523, 0.0), (2524, 0.010479892880351536), (2525, 0.0), (2526, 0.0), (2527, 0.0), (2528, 0.0), (2529, 0.0), (2530, 0.04144401655189975), (2531, 0.0), (2532, 0.0), (2533, 0.0), (2534, 0.0), (2535, 0.0), (2536, 0.0), (2537, 0.0), (2538, 0.06812394895028703), (2539, 0.0), (2540, 0.030984509315563732), (2541, 0.0), (2542, 0.0), (2543, 0.0), (2544, 0.0), (2545, 0.007128425696263695), (2546, 0.0), (2547, 0.0), (2548, 0.0), (2549, 0.0), (2550, 0.04583045627979679), (2551, 0.0), (2552, 0.0), (2553, 0.014892948641251092), (2554, 0.0), (2555, 0.0), (2556, 0.0), (2557, 0.0), (2558, 0.07297877134239664), (2559, 0.0), (2560, 0.02072192710299294), (2561, 0.0), (2562, 0.0), (2563, 0.005421893244750227), (2564, 0.0), (2565, 0.006761200458403001), (2566, 0.0), (2567, 0.0), (2568, 0.00902887551401383), (2569, 0.0), (2570, 0.0), (2571, 0.0), (2572, 0.006336205508623752), (2573, 0.0), (2574, 0.0), (2575, 0.0), (2576, 0.0), (2577, 0.0), (2578, 0.0), (2579, 0.04599821801684623), (2580, 0.0), (2581, 0.0), (2582, 0.020070880850132825), (2583, 0.0), (2584, 0.0), (2585, 0.0), (2586, 0.0), (2587, 0.005741603639879154), (2588, 0.0), (2589, 0.0), (2590, 0.0), (2591, 0.0), (2592, 0.0), (2593, 0.0), (2594, 0.0), (2595, 0.0), (2596, 0.0), (2597, 0.0), (2598, 0.014458228187106448), (2599, 0.0), (2600, 0.0), (2601, 0.006825801694712878), (2602, 0.0), (2603, 0.0056005398287640885), (2604, 0.0), (2605, 0.0), (2606, 0.0), (2607, 0.0060520176174681615), (2608, 0.0), (2609, 0.0), (2610, 0.0), (2611, 0.0), (2612, 0.0), (2613, 0.0), (2614, 0.0), (2615, 0.0), (2616, 0.0), (2617, 0.0), (2618, 0.0151082331676824), (2619, 0.0), (2620, 0.0), (2621, 0.01887673164787797), (2622, 0.03387086461961536), (2623, 0.0), (2624, 0.0), (2625, 0.0), (2626, 0.0), (2627, 0.0), (2628, 0.0), (2629, 0.0), (2630, 0.04530371477595774), (2631, 0.0), (2632, 0.00660417254466169), (2633, 0.006890000914790894), (2634, 0.0), (2635, 0.0), (2636, 0.0), (2637, 0.0), (2638, 0.007590014583682134), (2639, 0.015017351970972405), (2640, 0.006614301135805802), (2641, 0.0), (2642, 0.0), (2643, 0.0), (2644, 0.014865945803350543), (2645, 0.0), (2646, 0.022179882315016868), (2647, 0.015537756318802956), (2648, 0.0), (2649, 0.0), (2650, 0.016120914390723644), (2651, 0.0), (2652, 0.0), (2653, 0.04403049059294316), (2654, 0.01654717317933487), (2655, 0.0), (2656, 0.0), (2657, 0.0), (2658, 0.0), (2659, 0.0), (2660, 0.004283485551504491), (2661, 0.0), (2662, 0.0), (2663, 0.0), (2664, 0.0), (2665, 0.005406173982263794), (2666, 0.0), (2667, 0.0), (2668, 0.00668240811472291), (2669, 0.0), (2670, 0.0), (2671, 0.0), (2672, 0.0), (2673, 0.0), (2674, 0.0), (2675, 0.0), (2676, 0.0), (2677, 0.0), (2678, 0.0), (2679, 0.0), (2680, 0.006214557465601398), (2681, 0.0), (2682, 0.0), (2683, 0.0), (2684, 0.0), (2685, 0.0), (2686, 0.0), (2687, 0.026369913013248505), (2688, 0.011406325890015005), (2689, 0.019342746569917153), (2690, 0.0), (2691, 0.006802384610145612), (2692, 1.0), (2693, 0.0), (2694, 0.040299059328066), (2695, 0.0), (2696, 0.0), (2697, 0.0), (2698, 0.006392146198426966), (2699, 0.0), (2700, 0.0), (2701, 0.0), (2702, 0.0), (2703, 0.0), (2704, 0.0), (2705, 0.0), (2706, 0.03150064771151369), (2707, 0.0), (2708, 0.007064145563805474), (2709, 0.0), (2710, 0.031199561460415037), (2711, 0.0), (2712, 0.013845412140392447), (2713, 0.0), (2714, 0.0), (2715, 0.0), (2716, 0.03025664507330794), (2717, 0.0), (2718, 0.02531386257002381), (2719, 0.0), (2720, 0.0), (2721, 0.0), (2722, 0.0), (2723, 0.030276892438166083), (2724, 0.0), (2725, 0.0), (2726, 0.006634141424868892), (2727, 0.0), (2728, 0.0), (2729, 0.0), (2730, 0.0), (2731, 0.0), (2732, 0.006533509528971429), (2733, 0.0), (2734, 0.0), (2735, 0.0), (2736, 0.0), (2737, 0.0), (2738, 0.0), (2739, 0.0), (2740, 0.0073500824113450726), (2741, 0.0), (2742, 0.005942419911337064), (2743, 0.0), (2744, 0.006586495467580148), (2745, 0.015743335850816297), (2746, 0.0), (2747, 0.0), (2748, 0.0), (2749, 0.0), (2750, 0.0), (2751, 0.021140712523090337), (2752, 0.0), (2753, 0.0), (2754, 0.0), (2755, 0.0), (2756, 0.0), (2757, 0.0), (2758, 0.0), (2759, 0.007096476357359244), (2760, 0.018658067113003475), (2761, 0.0), (2762, 0.02674968166037551), (2763, 0.0), (2764, 0.0), (2765, 0.0), (2766, 0.0), (2767, 0.01937137971028024), (2768, 0.0), (2769, 0.007544648862639186), (2770, 0.0), (2771, 0.0), (2772, 0.0), (2773, 0.0), (2774, 0.00515314034176078), (2775, 0.0), (2776, 0.0), (2777, 0.006216358901242311), (2778, 0.0), (2779, 0.0), (2780, 0.0), (2781, 0.0), (2782, 0.028666615133787647), (2783, 0.0), (2784, 0.0), (2785, 0.0), (2786, 0.0), (2787, 0.0), (2788, 0.0), (2789, 0.005512059410214985), (2790, 0.0), (2791, 0.0176073613517021), (2792, 0.0), (2793, 0.0), (2794, 0.0), (2795, 0.0), (2796, 0.0), (2797, 0.0), (2798, 0.0067318219584615755), (2799, 0.0), (2800, 0.0), (2801, 0.0), (2802, 0.0), (2803, 0.006087339699538399), (2804, 0.0), (2805, 0.013387354659254891), (2806, 0.0), (2807, 0.03218748552843697), (2808, 0.00645673354136545), (2809, 0.0), (2810, 0.0), (2811, 0.0), (2812, 0.006628877376133296), (2813, 0.0), (2814, 0.0), (2815, 0.0), (2816, 0.006771472129805609), (2817, 0.0), (2818, 0.0), (2819, 0.0), (2820, 0.005688931435575833), (2821, 0.0), (2822, 0.0), (2823, 0.01762016205170879), (2824, 0.0), (2825, 0.0), (2826, 0.0), (2827, 0.0), (2828, 0.0), (2829, 0.0), (2830, 0.0), (2831, 0.006642374811977289), (2832, 0.0), (2833, 0.0), (2834, 0.0), (2835, 0.0), (2836, 0.0), (2837, 0.0), (2838, 0.0), (2839, 0.0), (2840, 0.0), (2841, 0.019169977587561032), (2842, 0.0), (2843, 0.007486317762530404), (2844, 0.005362198370355888), (2845, 0.0), (2846, 0.03724901670579516), (2847, 0.0), (2848, 0.0), (2849, 0.0), (2850, 0.0), (2851, 0.0), (2852, 0.0), (2853, 0.0), (2854, 0.0), (2855, 0.0), (2856, 0.0), (2857, 0.0), (2858, 0.0), (2859, 0.03602217335341207), (2860, 0.0), (2861, 0.0), (2862, 0.0), (2863, 0.0), (2864, 0.0), (2865, 0.0), (2866, 0.0), (2867, 0.020018510528371045), (2868, 0.034497743447443656), (2869, 0.04031211201469104), (2870, 0.0), (2871, 0.0), (2872, 0.0), (2873, 0.007275355801576101), (2874, 0.005893503454950944), (2875, 0.0), (2876, 0.026418861255583063), (2877, 0.0), (2878, 0.0), (2879, 0.0), (2880, 0.0), (2881, 0.0), (2882, 0.0), (2883, 0.0), (2884, 0.0), (2885, 0.017754334153368138), (2886, 0.0), (2887, 0.02774695794037556), (2888, 0.0), (2889, 0.0), (2890, 0.0), (2891, 0.0), (2892, 0.0), (2893, 0.04215881259038854), (2894, 0.0), (2895, 0.0), (2896, 0.0), (2897, 0.0), (2898, 0.0), (2899, 0.0), (2900, 0.0), (2901, 0.0), (2902, 0.0), (2903, 0.08468604483771555), (2904, 0.0), (2905, 0.0), (2906, 0.0), (2907, 0.0), (2908, 0.017472402679195448), (2909, 0.0), (2910, 0.0), (2911, 0.0), (2912, 0.0), (2913, 0.0), (2914, 0.0), (2915, 0.007017891913933727), (2916, 0.0), (2917, 0.010368729867040214), (2918, 0.0), (2919, 0.0), (2920, 0.025954639010887112), (2921, 0.0), (2922, 0.0), (2923, 0.0), (2924, 0.0), (2925, 0.0), (2926, 0.0), (2927, 0.0), (2928, 0.0), (2929, 0.0058620044914376715), (2930, 0.0), (2931, 0.005817385092956457), (2932, 0.0), (2933, 0.005679382288145456), (2934, 0.0), (2935, 0.006144094629284961), (2936, 0.007424895018804505), (2937, 0.0), (2938, 0.0), (2939, 0.0), (2940, 0.0), (2941, 0.0), (2942, 0.005735507683936081), (2943, 0.0), (2944, 0.0416319556371839), (2945, 0.0), (2946, 0.0), (2947, 0.0), (2948, 0.0), (2949, 0.0), (2950, 0.0), (2951, 0.0), (2952, 0.0), (2953, 0.0), (2954, 0.0), (2955, 0.0), (2956, 0.0), (2957, 0.0), (2958, 0.0), (2959, 0.0), (2960, 0.0), (2961, 0.0), (2962, 0.0), (2963, 0.0), (2964, 0.00680254404329261), (2965, 0.0), (2966, 0.0), (2967, 0.0), (2968, 0.0), (2969, 0.010964922148287266), (2970, 0.0), (2971, 0.022767272965589155), (2972, 0.0), (2973, 0.0), (2974, 0.0), (2975, 0.005668314150134699), (2976, 0.0), (2977, 0.006678837699781036), (2978, 0.0), (2979, 0.0), (2980, 0.00639996775211676), (2981, 0.029473665941721967), (2982, 0.0), (2983, 0.0), (2984, 0.0), (2985, 0.005393178739799701), (2986, 0.0), (2987, 0.0), (2988, 0.006828249611377838), (2989, 0.0), (2990, 0.0), (2991, 0.0), (2992, 0.006148465237093668), (2993, 0.0), (2994, 0.0), (2995, 0.017208103416780897), (2996, 0.0), (2997, 0.0), (2998, 0.0), (2999, 0.0), (3000, 0.015652497510251256), (3001, 0.0), (3002, 0.0), (3003, 0.0), (3004, 0.03273919500071828), (3005, 0.0), (3006, 0.0), (3007, 0.0), (3008, 0.007683656780284296), (3009, 0.0), (3010, 0.02319886878284696), (3011, 0.0), (3012, 0.0), (3013, 0.0), (3014, 0.0), (3015, 0.0), (3016, 0.0), (3017, 0.029766072513684343), (3018, 0.0), (3019, 0.0), (3020, 0.0), (3021, 0.0), (3022, 0.0), (3023, 0.04523577773129737), (3024, 0.0), (3025, 0.0), (3026, 0.0), (3027, 0.0), (3028, 0.0), (3029, 0.0), (3030, 0.0), (3031, 0.0), (3032, 0.0), (3033, 0.006537750016500382), (3034, 0.0), (3035, 0.0), (3036, 0.015777151087059148), (3037, 0.0), (3038, 0.0), (3039, 0.007203929017013245), (3040, 0.0), (3041, 0.0), (3042, 0.0), (3043, 0.0), (3044, 0.0), (3045, 0.025893791551379015), (3046, 0.006299385721778524), (3047, 0.0), (3048, 0.0), (3049, 0.0), (3050, 0.0), (3051, 0.0), (3052, 0.0), (3053, 0.08014940641832073), (3054, 0.0), (3055, 0.0), (3056, 0.0), (3057, 0.0), (3058, 0.0), (3059, 0.0), (3060, 0.0), (3061, 0.0), (3062, 0.0), (3063, 0.0), (3064, 0.0), (3065, 0.00579121558557221), (3066, 0.006445616348590712), (3067, 0.006440115875935294), (3068, 0.0), (3069, 0.0), (3070, 0.0), (3071, 0.0), (3072, 0.0), (3073, 0.0), (3074, 0.0), (3075, 0.0), (3076, 0.0), (3077, 0.0), (3078, 0.0), (3079, 0.0), (3080, 0.0), (3081, 0.0), (3082, 0.0), (3083, 0.022875264756775766), (3084, 0.0), (3085, 0.006157098410809955), (3086, 0.0), (3087, 0.0), (3088, 0.0), (3089, 0.0), (3090, 0.0), (3091, 0.04303182757735105), (3092, 0.0), (3093, 0.0), (3094, 0.0074721860647594925), (3095, 0.006725181788535714), (3096, 0.005638122157581814), (3097, 0.0), (3098, 0.01643995181545196), (3099, 0.0), (3100, 0.0), (3101, 0.0), (3102, 0.033922289760394325), (3103, 0.0), (3104, 0.0), (3105, 0.0), (3106, 0.0), (3107, 0.0), (3108, 0.005772144072143087), (3109, 0.0), (3110, 0.0), (3111, 0.016289957889285035), (3112, 0.0), (3113, 0.0), (3114, 0.0061566127102977534), (3115, 0.0), (3116, 0.0), (3117, 0.0), (3118, 0.0), (3119, 0.0), (3120, 0.0), (3121, 0.0), (3122, 0.0), (3123, 0.0), (3124, 0.0), (3125, 0.0), (3126, 0.0), (3127, 0.028797308723976962), (3128, 0.0), (3129, 0.013331152424826529), (3130, 0.0), (3131, 0.0), (3132, 0.0), (3133, 0.0), (3134, 0.0), (3135, 0.0), (3136, 0.0), (3137, 0.027103395296631843), (3138, 0.0), (3139, 0.0), (3140, 0.0), (3141, 0.0), (3142, 0.0), (3143, 0.0), (3144, 0.019524878271556606), (3145, 0.0), (3146, 0.0), (3147, 0.0), (3148, 0.0), (3149, 0.0), (3150, 0.0), (3151, 0.0063249914303793705), (3152, 0.0052380850282830954), (3153, 0.01617658817070761), (3154, 0.0), (3155, 0.0), (3156, 0.024671641290749016), (3157, 0.02794145594679207), (3158, 0.0), (3159, 0.0), (3160, 0.0), (3161, 0.0), (3162, 0.0), (3163, 0.0), (3164, 0.0054175223610825815), (3165, 0.0), (3166, 0.0), (3167, 0.0245071323454286), (3168, 0.0), (3169, 0.0), (3170, 0.0), (3171, 0.0), (3172, 0.0), (3173, 0.0), (3174, 0.0), (3175, 0.0), (3176, 0.0), (3177, 0.0), (3178, 0.0), (3179, 0.0), (3180, 0.0), (3181, 0.0), (3182, 0.0), (3183, 0.0), (3184, 0.0), (3185, 0.0), (3186, 0.0), (3187, 0.0), (3188, 0.0), (3189, 0.0), (3190, 0.0), (3191, 0.0), (3192, 0.0), (3193, 0.0), (3194, 0.0), (3195, 0.0), (3196, 0.0), (3197, 0.0), (3198, 0.0), (3199, 0.0), (3200, 0.0), (3201, 0.0), (3202, 0.0), (3203, 0.05037196634001244), (3204, 0.0), (3205, 0.005021656819421048), (3206, 0.0), (3207, 0.0), (3208, 0.0), (3209, 0.04080618265280129), (3210, 0.0), (3211, 0.0), (3212, 0.0), (3213, 0.012881417341361496), (3214, 0.0), (3215, 0.005566371752495868), (3216, 0.0), (3217, 0.0), (3218, 0.00693790289005748), (3219, 0.0), (3220, 0.0), (3221, 0.0), (3222, 0.02108756887597822), (3223, 0.0), (3224, 0.0), (3225, 0.0), (3226, 0.011619053362589529), (3227, 0.0), (3228, 0.007762318799452222), (3229, 0.0), (3230, 0.0), (3231, 0.0), (3232, 0.0), (3233, 0.0), (3234, 0.0), (3235, 0.0), (3236, 0.0), (3237, 0.006372992137652123), (3238, 0.0), (3239, 0.0), (3240, 0.0060480767439420255), (3241, 0.0), (3242, 0.0), (3243, 0.0), (3244, 0.005942462633960782), (3245, 0.0), (3246, 0.006164602960573333), (3247, 0.0), (3248, 0.0706105536248513), (3249, 0.038170290437953815), (3250, 0.0), (3251, 0.0), (3252, 0.0), (3253, 0.01484248449104562), (3254, 0.0), (3255, 0.03604835610056925), (3256, 0.007827608173001297), (3257, 0.0), (3258, 0.0), (3259, 0.0), (3260, 0.025660582453563455), (3261, 0.0), (3262, 0.0), (3263, 0.0), (3264, 0.006927702546473083), (3265, 0.00655805919746658), (3266, 0.0), (3267, 0.0), (3268, 0.0), (3269, 0.0), (3270, 0.0), (3271, 0.0), (3272, 0.0), (3273, 0.0), (3274, 0.0), (3275, 0.0), (3276, 0.04055094646257116), (3277, 0.0), (3278, 0.0), (3279, 0.013272823270004562), (3280, 0.029679144269855004), (3281, 0.0), (3282, 0.0), (3283, 0.0), (3284, 0.011924868689572765), (3285, 0.02415280558243743), (3286, 0.0), (3287, 0.0), (3288, 0.006484920950028179), (3289, 0.0), (3290, 0.0), (3291, 0.0), (3292, 0.0), (3293, 0.0), (3294, 0.04687046036447264), (3295, 0.014925998013174499), (3296, 0.0), (3297, 0.0), (3298, 0.0), (3299, 0.012817660691676584), (3300, 0.0), (3301, 0.0), (3302, 0.0), (3303, 0.0), (3304, 0.0), (3305, 0.0), (3306, 0.0), (3307, 0.0), (3308, 0.0), (3309, 0.006225606447190887), (3310, 0.0), (3311, 0.0), (3312, 0.0), (3313, 0.029320472008625934), (3314, 0.0), (3315, 0.03215757691913564), (3316, 0.005054631120806716), (3317, 0.0), (3318, 0.0), (3319, 0.022146387024973218), (3320, 0.0), (3321, 0.0), (3322, 0.0), (3323, 0.0), (3324, 0.0), (3325, 0.0), (3326, 0.0), (3327, 0.0), (3328, 0.011927891044133953), (3329, 0.005861641711109223), (3330, 0.0), (3331, 0.0), (3332, 0.0), (3333, 0.0), (3334, 0.045874513560823116), (3335, 0.0), (3336, 0.0), (3337, 0.0), (3338, 0.0), (3339, 0.0), (3340, 0.0), (3341, 0.0), (3342, 0.0), (3343, 0.0), (3344, 0.020897913714830824), (3345, 0.02235151188920912), (3346, 0.00668929544738198), (3347, 0.0), (3348, 0.0), (3349, 0.0), (3350, 0.0), (3351, 0.03154799904180401), (3352, 0.01738156438765318), (3353, 0.0), (3354, 0.0), (3355, 0.0), (3356, 0.014059029355950053), (3357, 0.0), (3358, 0.0), (3359, 0.0), (3360, 0.05010197463720911), (3361, 0.0), (3362, 0.036938217049392624), (3363, 0.0), (3364, 0.0), (3365, 0.0), (3366, 0.0), (3367, 0.0), (3368, 0.0), (3369, 0.0), (3370, 0.0), (3371, 0.0), (3372, 0.0), (3373, 0.0), (3374, 0.0), (3375, 0.015461792688488978), (3376, 0.028888654421876263), (3377, 0.018438148087948174), (3378, 0.0), (3379, 0.0), (3380, 0.0), (3381, 0.0), (3382, 0.0), (3383, 0.0), (3384, 0.00743930241513436), (3385, 0.056611953648666585), (3386, 0.006798121390468036), (3387, 0.007067873819959149), (3388, 0.0), (3389, 0.005930661330136466), (3390, 0.0), (3391, 0.0), (3392, 0.0), (3393, 0.0), (3394, 0.0), (3395, 0.04879481232208215), (3396, 0.0), (3397, 0.0), (3398, 0.0), (3399, 0.0061973589213691225), (3400, 0.0), (3401, 0.0), (3402, 0.0), (3403, 0.0), (3404, 0.0), (3405, 0.0), (3406, 0.0), (3407, 0.006267796288836396), (3408, 0.04233512695008517), (3409, 0.005693999752977054), (3410, 0.00523293461365536), (3411, 0.0), (3412, 0.0), (3413, 0.0), (3414, 0.0), (3415, 0.0), (3416, 0.006474716586177612), (3417, 0.0), (3418, 0.0), (3419, 0.0), (3420, 0.029080403446248487), (3421, 0.013058109096115668), (3422, 0.0), (3423, 0.007665153011952512), (3424, 0.0), (3425, 0.0), (3426, 0.006205812404260013), (3427, 0.04297742173620424), (3428, 0.02687830524078235), (3429, 0.0), (3430, 0.0332323113239724), (3431, 0.0), (3432, 0.0), (3433, 0.014971211884326516), (3434, 0.0), (3435, 0.0), (3436, 0.0), (3437, 0.0), (3438, 0.0), (3439, 0.0), (3440, 0.0), (3441, 0.0), (3442, 0.0), (3443, 0.0), (3444, 0.0), (3445, 0.0), (3446, 0.018514238526877443), (3447, 0.023326720612179885), (3448, 0.0), (3449, 0.0), (3450, 0.03750703940176501), (3451, 0.0), (3452, 0.0), (3453, 0.0), (3454, 0.0), (3455, 0.0), (3456, 0.004432137196868473), (3457, 0.006893065606372133), (3458, 0.004714943528326847), (3459, 0.0), (3460, 0.0), (3461, 0.0), (3462, 0.01635996223348197), (3463, 0.0356896642281071), (3464, 0.0), (3465, 0.0), (3466, 0.014421952358623221), (3467, 0.0), (3468, 0.0), (3469, 0.02063513444738109), (3470, 0.03079689606111089), (3471, 0.015183782005153029), (3472, 0.0), (3473, 0.0), (3474, 0.0), (3475, 0.0), (3476, 0.0), (3477, 0.0), (3478, 0.0), (3479, 0.0), (3480, 0.07343594511626209), (3481, 0.0), (3482, 0.0), (3483, 0.006737899053938965), (3484, 0.0), (3485, 0.0), (3486, 0.03309425213005021), (3487, 0.0), (3488, 0.02593479838633579), (3489, 0.0), (3490, 0.0), (3491, 0.0), (3492, 0.018239873662881042), (3493, 0.0), (3494, 0.0), (3495, 0.0), (3496, 0.0), (3497, 0.0), (3498, 0.029870674233037565), (3499, 0.0), (3500, 0.0), (3501, 0.0), (3502, 0.0), (3503, 0.0), (3504, 0.006140274461706394), (3505, 0.0), (3506, 0.0), (3507, 0.0), (3508, 0.012961765853424593), (3509, 0.005674679844420647), (3510, 0.0), (3511, 0.03495322606624218), (3512, 0.0), (3513, 0.0), (3514, 0.0), (3515, 0.007194012719251472), (3516, 0.0), (3517, 0.0), (3518, 0.04411958204712289), (3519, 0.0), (3520, 0.0), (3521, 0.0), (3522, 0.0), (3523, 0.0), (3524, 0.0074285321523151595), (3525, 0.0), (3526, 0.0), (3527, 0.0), (3528, 0.017389854819653036), (3529, 0.0), (3530, 0.0), (3531, 0.0), (3532, 0.0), (3533, 0.0), (3534, 0.0), (3535, 0.0), (3536, 0.006576487035386597), (3537, 0.0), (3538, 0.0), (3539, 0.0), (3540, 0.0), (3541, 0.013099053188975304), (3542, 0.0), (3543, 0.0), (3544, 0.0), (3545, 0.0), (3546, 0.0), (3547, 0.0), (3548, 0.0), (3549, 0.0), (3550, 0.0), (3551, 0.0), (3552, 0.04286869769827228), (3553, 0.00674396878775135), (3554, 0.0), (3555, 0.0), (3556, 0.02723997535577577), (3557, 0.0), (3558, 0.012693448786483189), (3559, 0.02621762649127172), (3560, 0.0), (3561, 0.0), (3562, 0.0), (3563, 0.0), (3564, 0.0), (3565, 0.0), (3566, 0.006383068744611285), (3567, 0.0), (3568, 0.0), (3569, 0.0), (3570, 0.0), (3571, 0.0), (3572, 0.030170048823785163), (3573, 0.0), (3574, 0.028606903202393848), (3575, 0.0), (3576, 0.0), (3577, 0.0), (3578, 0.0), (3579, 0.005819555315226761), (3580, 0.015126329650008147), (3581, 0.0), (3582, 0.0), (3583, 0.0), (3584, 0.0), (3585, 0.0), (3586, 0.0), (3587, 0.0), (3588, 0.0), (3589, 0.0), (3590, 0.0), (3591, 0.0), (3592, 0.0), (3593, 0.0), (3594, 0.006707758593210469), (3595, 0.0), (3596, 0.006754320860662565), (3597, 0.015459223819118297), (3598, 0.005825642756398272), (3599, 0.0067918486067735), (3600, 0.0), (3601, 0.0), (3602, 0.0), (3603, 0.0), (3604, 0.0), (3605, 0.0), (3606, 0.0), (3607, 0.0), (3608, 0.0), (3609, 0.0), (3610, 0.0), (3611, 0.0), (3612, 0.0), (3613, 0.0), (3614, 0.0), (3615, 0.0), (3616, 0.0), (3617, 0.0), (3618, 0.0), (3619, 0.0), (3620, 0.0), (3621, 0.0), (3622, 0.0), (3623, 0.0), (3624, 0.0), (3625, 0.0), (3626, 0.0), (3627, 0.0), (3628, 0.0), (3629, 0.0), (3630, 0.013352335134618662), (3631, 0.0), (3632, 0.00654332312793788), (3633, 0.0), (3634, 0.005709070956593735), (3635, 0.0), (3636, 0.0), (3637, 0.0), (3638, 0.0), (3639, 0.0), (3640, 0.0), (3641, 0.0), (3642, 0.0), (3643, 0.006711745537304553), (3644, 0.0), (3645, 0.0), (3646, 0.0), (3647, 0.0), (3648, 0.006729918558935397), (3649, 0.0), (3650, 0.0), (3651, 0.0), (3652, 0.027701023645425902), (3653, 0.0), (3654, 0.0), (3655, 0.0501731378940504), (3656, 0.03050417044348698), (3657, 0.0), (3658, 0.0), (3659, 0.0), (3660, 0.0), (3661, 0.007373948476419001), (3662, 0.0), (3663, 0.0), (3664, 0.0), (3665, 0.017896852885260287), (3666, 0.0), (3667, 0.004923784603937508), (3668, 0.0), (3669, 0.0), (3670, 0.0), (3671, 0.0), (3672, 0.0), (3673, 0.0), (3674, 0.0), (3675, 0.0), (3676, 0.0), (3677, 0.0), (3678, 0.0), (3679, 0.0), (3680, 0.0), (3681, 0.0), (3682, 0.0), (3683, 0.0), (3684, 0.015835294395546685), (3685, 0.0), (3686, 0.0), (3687, 0.0), (3688, 0.0), (3689, 0.0066603895905928846), (3690, 0.0), (3691, 0.0), (3692, 0.01703650226220144), (3693, 0.0), (3694, 0.0), (3695, 0.0), (3696, 0.0), (3697, 0.0), (3698, 0.0), (3699, 0.0), (3700, 0.0), (3701, 0.0), (3702, 0.0), (3703, 0.0), (3704, 0.0), (3705, 0.0), (3706, 0.0), (3707, 0.0), (3708, 0.0), (3709, 0.0), (3710, 0.0), (3711, 0.014050516220185353), (3712, 0.0), (3713, 0.005487871620214495), (3714, 0.0), (3715, 0.0), (3716, 0.0), (3717, 0.0), (3718, 0.0), (3719, 0.0), (3720, 0.027344240460900407), (3721, 0.0), (3722, 0.0), (3723, 0.0), (3724, 0.0), (3725, 0.0), (3726, 0.0), (3727, 0.0), (3728, 0.056492967649397444), (3729, 0.0), (3730, 0.0), (3731, 0.028967978240217462), (3732, 0.0), (3733, 0.006530606653306879), (3734, 0.0), (3735, 0.0), (3736, 0.0), (3737, 0.0), (3738, 0.0), (3739, 0.0), (3740, 0.0), (3741, 0.0), (3742, 0.0), (3743, 0.0), (3744, 0.0), (3745, 0.0), (3746, 0.0), (3747, 0.006936529547951924), (3748, 0.0058033037782131425), (3749, 0.0), (3750, 0.013271196908252209), (3751, 0.027046089484849562), (3752, 0.005912418837945794), (3753, 0.04760254340082574), (3754, 0.0), (3755, 0.0), (3756, 0.0), (3757, 0.0), (3758, 0.0), (3759, 0.0), (3760, 0.0), (3761, 0.0), (3762, 0.0), (3763, 0.0), (3764, 0.0), (3765, 0.0), (3766, 0.0), (3767, 0.005751355826029425), (3768, 0.0), (3769, 0.0), (3770, 0.0), (3771, 0.0), (3772, 0.0), (3773, 0.0), (3774, 0.0), (3775, 0.0), (3776, 0.0), (3777, 0.0), (3778, 0.01889040901891885), (3779, 0.04871588772843937), (3780, 0.0), (3781, 0.0), (3782, 0.0), (3783, 0.0), (3784, 0.006321337775527718), (3785, 0.0), (3786, 0.0), (3787, 0.0), (3788, 0.0), (3789, 0.0), (3790, 0.0), (3791, 0.0), (3792, 0.0), (3793, 0.040581652667710556), (3794, 0.0), (3795, 0.0), (3796, 0.0), (3797, 0.007170427380431593), (3798, 0.0), (3799, 0.0), (3800, 0.0), (3801, 0.011836362608644329), (3802, 0.0), (3803, 0.0), (3804, 0.0), (3805, 0.0), (3806, 0.0), (3807, 0.0), (3808, 0.0), (3809, 0.0), (3810, 0.01912504534020326), (3811, 0.0), (3812, 0.0), (3813, 0.0), (3814, 0.0), (3815, 0.0), (3816, 0.0), (3817, 0.0), (3818, 0.0), (3819, 0.0), (3820, 0.0), (3821, 0.005474248037439602), (3822, 0.007035078496198873), (3823, 0.0), (3824, 0.0), (3825, 0.005952506635073141), (3826, 0.00614262909641484), (3827, 0.0), (3828, 0.0), (3829, 0.005842258873925427), (3830, 0.0), (3831, 0.0), (3832, 0.0), (3833, 0.0), (3834, 0.0), (3835, 0.02435149988708281), (3836, 0.0), (3837, 0.0), (3838, 0.0), (3839, 0.02012108408906515), (3840, 0.0), (3841, 0.0), (3842, 0.0), (3843, 0.0), (3844, 0.0), (3845, 0.0), (3846, 0.0), (3847, 0.0), (3848, 0.0), (3849, 0.0), (3850, 0.028259689505675402), (3851, 0.0), (3852, 0.02396776340231401), (3853, 0.0144321831096514), (3854, 0.0), (3855, 0.0), (3856, 0.0), (3857, 0.016618557129168973), (3858, 0.0), (3859, 0.0), (3860, 0.0), (3861, 0.013695515572565735), (3862, 0.0), (3863, 0.0), (3864, 0.0060971803853890495), (3865, 0.00595592596486529), (3866, 0.0), (3867, 0.03661392407017184), (3868, 0.023460388229074952), (3869, 0.0), (3870, 0.0), (3871, 0.028511711706643576), (3872, 0.0), (3873, 0.0), (3874, 0.0), (3875, 0.015831422514765325), (3876, 0.0), (3877, 0.0), (3878, 0.0), (3879, 0.0), (3880, 0.005778718706264599), (3881, 0.0), (3882, 0.0), (3883, 0.0), (3884, 0.0), (3885, 0.0), (3886, 0.0), (3887, 0.0), (3888, 0.0), (3889, 0.0), (3890, 0.0), (3891, 0.0), (3892, 0.0), (3893, 0.0), (3894, 0.0), (3895, 0.01352176175751437), (3896, 0.0), (3897, 0.0), (3898, 0.0), (3899, 0.0), (3900, 0.0), (3901, 0.0), (3902, 0.0), (3903, 0.00744958509235834), (3904, 0.02615655079131019), (3905, 0.0), (3906, 0.0), (3907, 0.0), (3908, 0.0), (3909, 0.006038429053644848), (3910, 0.0), (3911, 0.0), (3912, 0.0), (3913, 0.021957106175079746), (3914, 0.0), (3915, 0.0), (3916, 0.0), (3917, 0.0), (3918, 0.0), (3919, 0.00702062602185052), (3920, 0.0), (3921, 0.0), (3922, 0.0), (3923, 0.022459199474562066), (3924, 0.0), (3925, 0.0), (3926, 0.006393443348962276), (3927, 0.018861663708215036), (3928, 0.0), (3929, 0.0), (3930, 0.0), (3931, 0.0), (3932, 0.0), (3933, 0.0), (3934, 0.019182244143642332), (3935, 0.0), (3936, 0.0), (3937, 0.0), (3938, 0.0), (3939, 0.0), (3940, 0.005334365281319537), (3941, 0.0), (3942, 0.0), (3943, 0.0), (3944, 0.0), (3945, 0.0), (3946, 0.04597061040957131), (3947, 0.029625948050445862), (3948, 0.0), (3949, 0.0), (3950, 0.0), (3951, 0.007811999798111723), (3952, 0.0), (3953, 0.0), (3954, 0.006037760486137972), (3955, 0.039797473779998656), (3956, 0.0), (3957, 0.005598710633580153), (3958, 0.015171904247539933), (3959, 0.0), (3960, 0.0), (3961, 0.017144978482833834), (3962, 0.0), (3963, 0.0), (3964, 0.0), (3965, 0.0), (3966, 0.0), (3967, 0.0), (3968, 0.0), (3969, 0.0), (3970, 0.0), (3971, 0.0), (3972, 0.0), (3973, 0.03913401023078783), (3974, 0.0), (3975, 0.0), (3976, 0.017674980501405844), (3977, 0.0), (3978, 0.0), (3979, 0.0), (3980, 0.0), (3981, 0.0), (3982, 0.0), (3983, 0.03304976067533805), (3984, 0.0), (3985, 0.0), (3986, 0.0), (3987, 0.0), (3988, 0.0), (3989, 0.0), (3990, 0.0), (3991, 0.0), (3992, 0.0), (3993, 0.0), (3994, 0.0), (3995, 0.0), (3996, 0.0), (3997, 0.0), (3998, 0.006426871931081903), (3999, 0.0), (4000, 0.0), (4001, 0.006704846260050896), (4002, 0.0), (4003, 0.0), (4004, 0.015733869220719135), (4005, 0.029148083938073818), (4006, 0.0), (4007, 0.00881815330986391), (4008, 0.006765768582954317), (4009, 0.006135480010789268), (4010, 0.0), (4011, 0.0), (4012, 0.017973698701590282), (4013, 0.0), (4014, 0.0), (4015, 0.0), (4016, 0.01851537022483306), (4017, 0.0), (4018, 0.0), (4019, 0.0), (4020, 0.0), (4021, 0.0), (4022, 0.0), (4023, 0.040082808752017446), (4024, 0.0), (4025, 0.006782300867849077), (4026, 0.0), (4027, 0.0), (4028, 0.01841180429796938), (4029, 0.0), (4030, 0.0), (4031, 0.0), (4032, 0.007548548227565462), (4033, 0.0), (4034, 0.0), (4035, 0.032028299697237056), (4036, 0.0), (4037, 0.0), (4038, 0.0), (4039, 0.0), (4040, 0.0), (4041, 0.0), (4042, 0.0), (4043, 0.0), (4044, 0.0), (4045, 0.0), (4046, 0.0), (4047, 0.0), (4048, 0.0), (4049, 0.0), (4050, 0.017366299546355577), (4051, 0.0), (4052, 0.007019620133544804), (4053, 0.015504658271155538), (4054, 0.0), (4055, 0.005924811292730318), (4056, 0.0), (4057, 0.005897896751010509), (4058, 0.0), (4059, 0.0), (4060, 0.0), (4061, 0.006825270321456731), (4062, 0.05499883739532491), (4063, 0.0), (4064, 0.04122749160037916), (4065, 0.0), (4066, 0.0), (4067, 0.0), (4068, 0.0), (4069, 0.0), (4070, 0.0), (4071, 0.0), (4072, 0.0), (4073, 0.0), (4074, 0.0), (4075, 0.0), (4076, 0.0), (4077, 0.007178662579002013), (4078, 0.0), (4079, 0.0), (4080, 0.0), (4081, 0.01541952547272612), (4082, 0.0), (4083, 0.0), (4084, 0.0), (4085, 0.0), (4086, 0.0), (4087, 0.0), (4088, 0.0), (4089, 0.0), (4090, 0.0), (4091, 0.0), (4092, 0.0), (4093, 0.0), (4094, 0.0), (4095, 0.0), (4096, 0.0), (4097, 0.0), (4098, 0.0), (4099, 0.00646878776812383), (4100, 0.0), (4101, 0.0), (4102, 0.0), (4103, 0.0), (4104, 0.024165108979606692), (4105, 0.0), (4106, 0.005952897102823935), (4107, 0.0), (4108, 0.0), (4109, 0.0), (4110, 0.0062328803833501464), (4111, 0.0), (4112, 0.0), (4113, 0.0), (4114, 0.0), (4115, 0.0), (4116, 0.0), (4117, 0.0), (4118, 0.0), (4119, 0.0), (4120, 0.0), (4121, 0.0), (4122, 0.0), (4123, 0.0), (4124, 0.0), (4125, 0.0), (4126, 0.0), (4127, 0.0), (4128, 0.025955758902890803), (4129, 0.0), (4130, 0.0), (4131, 0.0), (4132, 0.0), (4133, 0.0), (4134, 0.009221512664810739), (4135, 0.0), (4136, 0.0), (4137, 0.03662284720045553), (4138, 0.0), (4139, 0.0), (4140, 0.0), (4141, 0.011871767948480041), (4142, 0.0), (4143, 0.0), (4144, 0.0), (4145, 0.0), (4146, 0.0), (4147, 0.0), (4148, 0.0), (4149, 0.018207694705515025), (4150, 0.0), (4151, 0.0), (4152, 0.03146082265818923), (4153, 0.0), (4154, 0.0), (4155, 0.0), (4156, 0.01672467931237338), (4157, 0.0), (4158, 0.005587940155171307), (4159, 0.0), (4160, 0.0), (4161, 0.0), (4162, 0.0), (4163, 0.0), (4164, 0.0), (4165, 0.025293231786657), (4166, 0.0), (4167, 0.0), (4168, 0.0), (4169, 0.0), (4170, 0.0), (4171, 0.0), (4172, 0.0), (4173, 0.0), (4174, 0.0), (4175, 0.0), (4176, 0.014427151906920876), (4177, 0.03006771024661444), (4178, 0.0), (4179, 0.0), (4180, 0.0), (4181, 0.0), (4182, 0.005072412909007339), (4183, 0.0), (4184, 0.0), (4185, 0.0), (4186, 0.0), (4187, 0.0), (4188, 0.0), (4189, 0.006398767071811242), (4190, 0.0), (4191, 0.0), (4192, 0.0), (4193, 0.0), (4194, 0.0), (4195, 0.03315542842220681), (4196, 0.007215566096530495), (4197, 0.0), (4198, 0.0), (4199, 0.0), (4200, 0.0), (4201, 0.0), (4202, 0.0), (4203, 0.007452194437125396), (4204, 0.0), (4205, 0.006020567161165523), (4206, 0.0), (4207, 0.0), (4208, 0.0), (4209, 0.0), (4210, 0.0065950629217667745), (4211, 0.0), (4212, 0.0), (4213, 0.0), (4214, 0.0), (4215, 0.0), (4216, 0.0), (4217, 0.006236396010118116), (4218, 0.0), (4219, 0.0), (4220, 0.0), (4221, 0.0), (4222, 0.0), (4223, 0.0), (4224, 0.0), (4225, 0.0), (4226, 0.007065859152253222), (4227, 0.0), (4228, 0.0), (4229, 0.0), (4230, 0.0), (4231, 0.0), (4232, 0.0), (4233, 0.0), (4234, 0.0), (4235, 0.0), (4236, 0.0062790876746620945), (4237, 0.0), (4238, 0.0), (4239, 0.0), (4240, 0.0), (4241, 0.0), (4242, 0.0), (4243, 0.0), (4244, 0.0), (4245, 0.0), (4246, 0.0), (4247, 0.0), (4248, 0.0), (4249, 0.0), (4250, 0.0), (4251, 0.0), (4252, 0.02970301315217446), (4253, 0.0), (4254, 0.0), (4255, 0.006622693317801277), (4256, 0.0), (4257, 0.006096821397490008), (4258, 0.0), (4259, 0.0), (4260, 0.0), (4261, 0.0), (4262, 0.0), (4263, 0.0), (4264, 0.0), (4265, 0.0), (4266, 0.0), (4267, 0.0), (4268, 0.04031986137177295), (4269, 0.0), (4270, 0.0), (4271, 0.0), (4272, 0.006195075457274156), (4273, 0.0), (4274, 0.0), (4275, 0.0), (4276, 0.0), (4277, 0.0), (4278, 0.0), (4279, 0.0), (4280, 0.0), (4281, 0.017823205878164872), (4282, 0.0), (4283, 0.018838699958574474), (4284, 0.0), (4285, 0.0), (4286, 0.0), (4287, 0.0), (4288, 0.0), (4289, 0.0), (4290, 0.0), (4291, 0.0), (4292, 0.0), (4293, 0.0), (4294, 0.0), (4295, 0.0), (4296, 0.0), (4297, 0.0), (4298, 0.0), (4299, 0.0), (4300, 0.0), (4301, 0.0), (4302, 0.0), (4303, 0.006413290046585257), (4304, 0.0), (4305, 0.0), (4306, 0.0), (4307, 0.0), (4308, 0.0), (4309, 0.0), (4310, 0.0), (4311, 0.0), (4312, 0.0), (4313, 0.0), (4314, 0.015656310609842856), (4315, 0.0), (4316, 0.0), (4317, 0.0), (4318, 0.0), (4319, 0.0), (4320, 0.0), (4321, 0.014545044339154461), (4322, 0.0), (4323, 0.0), (4324, 0.0), (4325, 0.0), (4326, 0.0), (4327, 0.0), (4328, 0.0), (4329, 0.0), (4330, 0.0), (4331, 0.0), (4332, 0.0), (4333, 0.0), (4334, 0.0), (4335, 0.0), (4336, 0.006758302680021249), (4337, 0.006960097766236076), (4338, 0.0), (4339, 0.0), (4340, 0.0), (4341, 0.0), (4342, 0.006015572853703322), (4343, 0.0), (4344, 0.005579329688593038), (4345, 0.0), (4346, 0.0), (4347, 0.0), (4348, 0.0), (4349, 0.015480027510502195), (4350, 0.0), (4351, 0.007459426149739926), (4352, 0.0), (4353, 0.0), (4354, 0.0), (4355, 0.0), (4356, 0.0), (4357, 0.0), (4358, 0.0), (4359, 0.0), (4360, 0.0), (4361, 0.0), (4362, 0.030655126708422475), (4363, 0.0), (4364, 0.0), (4365, 0.0), (4366, 0.0), (4367, 0.006790114863342029), (4368, 0.0), (4369, 0.0), (4370, 0.0), (4371, 0.006950597183426367), (4372, 0.0), (4373, 0.004950233023631609), (4374, 0.0), (4375, 0.05510902032917521), (4376, 0.0), (4377, 0.0), (4378, 0.0804627114069495), (4379, 0.0), (4380, 0.0), (4381, 0.0), (4382, 0.017301433754558216), (4383, 0.0), (4384, 0.0), (4385, 0.005607086665544231), (4386, 0.0), (4387, 0.0), (4388, 0.006457717013843568), (4389, 0.05535139138940632), (4390, 0.0), (4391, 0.0), (4392, 0.0), (4393, 0.0), (4394, 0.0), (4395, 0.019304169599844625), (4396, 0.0), (4397, 0.0), (4398, 0.05511884764607409), (4399, 0.014505846611324615), (4400, 0.0), (4401, 0.0), (4402, 0.024267466023634415), (4403, 0.0), (4404, 0.0), (4405, 0.0), (4406, 0.0), (4407, 0.0), (4408, 0.0), (4409, 0.0), (4410, 0.0), (4411, 0.0), (4412, 0.0), (4413, 0.0), (4414, 0.0), (4415, 0.0), (4416, 0.0), (4417, 0.0), (4418, 0.0), (4419, 0.0), (4420, 0.0), (4421, 0.0), (4422, 0.0), (4423, 0.0), (4424, 0.0), (4425, 0.0), (4426, 0.0), (4427, 0.0), (4428, 0.0), (4429, 0.0), (4430, 0.0), (4431, 0.0), (4432, 0.0), (4433, 0.0), (4434, 0.0), (4435, 0.0), (4436, 0.007009822702024489), (4437, 0.0), (4438, 0.0), (4439, 0.0), (4440, 0.008132724150506558), (4441, 0.0), (4442, 0.0), (4443, 0.02916781613333061), (4444, 0.0), (4445, 0.0), (4446, 0.0), (4447, 0.0), (4448, 0.0), (4449, 0.0), (4450, 0.016713335650670968), (4451, 0.0), (4452, 0.03735138077729005), (4453, 0.0), (4454, 0.0), (4455, 0.0), (4456, 0.04853858519812653), (4457, 0.0), (4458, 0.0), (4459, 0.00606025710429134), (4460, 0.0), (4461, 0.0), (4462, 0.0), (4463, 0.0), (4464, 0.0), (4465, 0.0), (4466, 0.01589010554568657), (4467, 0.006668179284143942), (4468, 0.0), (4469, 0.0), (4470, 0.0), (4471, 0.0), (4472, 0.0), (4473, 0.0), (4474, 0.0), (4475, 0.0), (4476, 0.0), (4477, 0.0), (4478, 0.0), (4479, 0.0), (4480, 0.0), (4481, 0.0), (4482, 0.0151481855879215), (4483, 0.0), (4484, 0.0), (4485, 0.0), (4486, 0.006690915074765206), (4487, 0.0), (4488, 0.037686115810603694), (4489, 0.0), (4490, 0.0), (4491, 0.0), (4492, 0.019545873493624244), (4493, 0.0), (4494, 0.0), (4495, 0.0), (4496, 0.0), (4497, 0.0), (4498, 0.0), (4499, 0.0), (4500, 0.0), (4501, 0.0), (4502, 0.0), (4503, 0.0), (4504, 0.01523108164292547), (4505, 0.0), (4506, 0.0), (4507, 0.0), (4508, 0.0), (4509, 0.0), (4510, 0.0), (4511, 0.006372018575955964), (4512, 0.0), (4513, 0.0), (4514, 0.0), (4515, 0.0), (4516, 0.0), (4517, 0.0), (4518, 0.0), (4519, 0.0), (4520, 0.0), (4521, 0.0), (4522, 0.0), (4523, 0.0), (4524, 0.007862430876693558), (4525, 0.0), (4526, 0.0), (4527, 0.0), (4528, 0.0), (4529, 0.0), (4530, 0.0), (4531, 0.0), (4532, 0.0), (4533, 0.027365294038600996), (4534, 0.017480908237622328), (4535, 0.0), (4536, 0.0), (4537, 0.0), (4538, 0.0), (4539, 0.0), (4540, 0.0), (4541, 0.0), (4542, 0.0), (4543, 0.0), (4544, 0.0), (4545, 0.0), (4546, 0.0), (4547, 0.0), (4548, 0.025018388916909995), (4549, 0.0), (4550, 0.0), (4551, 0.0), (4552, 0.0), (4553, 0.0), (4554, 0.00773997069782895), (4555, 0.0), (4556, 0.0), (4557, 0.0), (4558, 0.0), (4559, 0.0), (4560, 0.0), (4561, 0.0), (4562, 0.0), (4563, 0.0), (4564, 0.006298185914931107), (4565, 0.0), (4566, 0.0), (4567, 0.0), (4568, 0.0), (4569, 0.0), (4570, 0.0), (4571, 0.0), (4572, 0.0), (4573, 0.0), (4574, 0.0), (4575, 0.0), (4576, 0.006190899928278811), (4577, 0.0), (4578, 0.0), (4579, 0.0), (4580, 0.0), (4581, 0.0), (4582, 0.0), (4583, 0.015550069410557255), (4584, 0.0), (4585, 0.0), (4586, 0.0), (4587, 0.0), (4588, 0.04198678131737662), (4589, 0.0), (4590, 0.02452677428950235), (4591, 0.0), (4592, 0.0), (4593, 0.0), (4594, 0.031736403152686665), (4595, 0.0), (4596, 0.011137200772084922), (4597, 0.0), (4598, 0.0), (4599, 0.0), (4600, 0.0), (4601, 0.0), (4602, 0.03011163733764273), (4603, 0.006567754278530681), (4604, 0.0), (4605, 0.007116466544599778), (4606, 0.0), (4607, 0.0), (4608, 0.022092793002604166), (4609, 0.0), (4610, 0.0054627809837092724), (4611, 0.0), (4612, 0.0), (4613, 0.0), (4614, 0.09046671758325514), (4615, 0.0), (4616, 0.0), (4617, 0.0), (4618, 0.0), (4619, 0.0), (4620, 0.0), (4621, 0.0), (4622, 0.0), (4623, 0.0), (4624, 0.0), (4625, 0.0), (4626, 0.0), (4627, 0.013907221760478549), (4628, 0.0), (4629, 0.0), (4630, 0.0), (4631, 0.0), (4632, 0.0), (4633, 0.0), (4634, 0.0), (4635, 0.0), (4636, 0.0), (4637, 0.0), (4638, 0.0), (4639, 0.0), (4640, 0.0), (4641, 0.0), (4642, 0.0), (4643, 0.0), (4644, 0.0), (4645, 0.0), (4646, 0.0), (4647, 0.0), (4648, 0.0), (4649, 0.006046380408093732), (4650, 0.0), (4651, 0.0), (4652, 0.0052932847342575745), (4653, 0.0), (4654, 0.0), (4655, 0.0), (4656, 0.0), (4657, 0.0), (4658, 0.006157084311593918), (4659, 0.0), (4660, 0.0), (4661, 0.0), (4662, 0.0), (4663, 0.0), (4664, 0.0), (4665, 0.0), (4666, 0.0), (4667, 0.0), (4668, 0.0), (4669, 0.0), (4670, 0.0), (4671, 0.0), (4672, 0.0), (4673, 0.0), (4674, 0.0), (4675, 0.0), (4676, 0.0), (4677, 0.0), (4678, 0.0), (4679, 0.0), (4680, 0.0), (4681, 0.0), (4682, 0.04972566471808751), (4683, 0.0), (4684, 0.01581477244389739), (4685, 0.006750695729663403), (4686, 0.0), (4687, 0.0), (4688, 0.0), (4689, 0.04127399231740267), (4690, 0.0), (4691, 0.0), (4692, 0.0), (4693, 0.0), (4694, 0.0), (4695, 0.006831258439801027), (4696, 0.0), (4697, 0.0), (4698, 0.0), (4699, 0.0), (4700, 0.0), (4701, 0.018665587387562275), (4702, 0.0), (4703, 0.02883319283114831), (4704, 0.0), (4705, 0.0), (4706, 0.0), (4707, 0.0), (4708, 0.0), (4709, 0.0), (4710, 0.0), (4711, 0.0), (4712, 0.0), (4713, 0.0), (4714, 0.0), (4715, 0.0), (4716, 0.0), (4717, 0.0), (4718, 0.0), (4719, 0.0), (4720, 0.0), (4721, 0.03371605732184834), (4722, 0.0), (4723, 0.0), (4724, 0.0), (4725, 0.0), (4726, 0.005865656743705786), (4727, 0.0272643702817967), (4728, 0.0), (4729, 0.0), (4730, 0.0), (4731, 0.018075940780700666), (4732, 0.0), (4733, 0.0), (4734, 0.0), (4735, 0.0), (4736, 0.0), (4737, 0.0), (4738, 0.006398321930448547), (4739, 0.013849165544051792), (4740, 0.0), (4741, 0.0), (4742, 0.0), (4743, 0.0), (4744, 0.0), (4745, 0.0), (4746, 0.0), (4747, 0.0), (4748, 0.005657331322331717), (4749, 0.0), (4750, 0.0), (4751, 0.0), (4752, 0.0), (4753, 0.0), (4754, 0.0), (4755, 0.0), (4756, 0.0), (4757, 0.0), (4758, 0.0), (4759, 0.0)]\n"
          ]
        }
      ]
    },
    {
      "cell_type": "code",
      "source": [
        "len(Recommendation_score)"
      ],
      "metadata": {
        "colab": {
          "base_uri": "https://localhost:8080/"
        },
        "id": "IIcsQgW5MDkE",
        "outputId": "f66a8bbe-d647-4310-ebd1-f4a5c08abb47"
      },
      "execution_count": 30,
      "outputs": [
        {
          "output_type": "execute_result",
          "data": {
            "text/plain": [
              "4760"
            ]
          },
          "metadata": {},
          "execution_count": 30
        }
      ]
    },
    {
      "cell_type": "markdown",
      "source": [
        "Get all Movie Sort based on Recommendation score wrt Favourite Movie"
      ],
      "metadata": {
        "id": "e9stqrnDMMgf"
      }
    },
    {
      "cell_type": "code",
      "source": [
        "#sorting the movie based on their similarity score\n",
        "Sorted_Similar_Movies= sorted(Recommendation_score, key=lambda x:x[1],reverse=True)\n",
        "print(Sorted_Similar_Movies)"
      ],
      "metadata": {
        "colab": {
          "base_uri": "https://localhost:8080/"
        },
        "id": "di5l4LFkMXy6",
        "outputId": "c1cba9c8-2e72-4f5d-f0fd-e52b435f3243"
      },
      "execution_count": 31,
      "outputs": [
        {
          "output_type": "stream",
          "name": "stdout",
          "text": [
            "[(2692, 1.0), (45, 0.0913710498306596), (4614, 0.09046671758325514), (1070, 0.08938966999548059), (110, 0.08540401051317664), (2903, 0.08468604483771555), (1994, 0.08346426694234456), (4378, 0.0804627114069495), (3053, 0.08014940641832073), (1341, 0.07988324719839077), (1383, 0.07813887613858611), (1982, 0.0745503955369993), (1977, 0.07407977434211484), (628, 0.0737042273768965), (3480, 0.07343594511626209), (2558, 0.07297877134239664), (3248, 0.0706105536248513), (2538, 0.06812394895028703), (62, 0.06717323166411966), (1886, 0.06663044337000759), (1118, 0.061670764585744046), (1021, 0.057840180863404575), (84, 0.0578053224125676), (590, 0.05773645493481342), (1134, 0.057412620736475455), (3385, 0.056611953648666585), (3728, 0.056492967649397444), (4389, 0.05535139138940632), (4398, 0.05511884764607409), (4375, 0.05510902032917521), (4062, 0.05499883739532491), (254, 0.05483176235654081), (1243, 0.05447808168702516), (292, 0.05244349577183467), (873, 0.05150868812142155), (2294, 0.0508968954201045), (227, 0.05083929007005679), (3203, 0.05037196634001244), (3655, 0.0501731378940504), (3360, 0.05010197463720911), (1809, 0.049862639472556224), (4682, 0.04972566471808751), (3395, 0.04879481232208215), (3779, 0.04871588772843937), (4456, 0.04853858519812653), (2133, 0.04852577511191562), (675, 0.048222340417079616), (877, 0.048077140964468426), (3753, 0.04760254340082574), (2112, 0.047560439811842624), (213, 0.047028703978553674), (3294, 0.04687046036447264), (2318, 0.04651563444052348), (2579, 0.04599821801684623), (3946, 0.04597061040957131), (3334, 0.045874513560823116), (2550, 0.04583045627979679), (2026, 0.04574995403111427), (1878, 0.0457105474955898), (2417, 0.04537602274043434), (2630, 0.04530371477595774), (3023, 0.04523577773129737), (328, 0.04492340393154359), (2191, 0.04466744675376523), (519, 0.04416586436350947), (3518, 0.04411958204712289), (1358, 0.044079962493756335), (2653, 0.04403049059294316), (1030, 0.0438715109316741), (615, 0.043870185034981614), (1647, 0.04365636179854911), (1850, 0.043380897834126894), (3091, 0.04303182757735105), (3427, 0.04297742173620424), (1023, 0.042874434560548014), (3552, 0.04286869769827228), (412, 0.04283077496215919), (3408, 0.04233512695008517), (479, 0.042319343543567096), (2893, 0.04215881259038854), (4588, 0.04198678131737662), (2944, 0.0416319556371839), (137, 0.04154153793903826), (185, 0.0415216391289106), (2530, 0.04144401655189975), (438, 0.04139141587830103), (4689, 0.04127399231740267), (4064, 0.04122749160037916), (161, 0.04110394367656926), (3209, 0.04080618265280129), (67, 0.04061505917045253), (3793, 0.040581652667710556), (3276, 0.04055094646257116), (4268, 0.04031986137177295), (2869, 0.04031211201469104), (2694, 0.040299059328066), (4023, 0.040082808752017446), (2374, 0.040023678207326975), (3955, 0.039797473779998656), (1871, 0.039420063139955316), (3973, 0.03913401023078783), (3249, 0.038170290437953815), (1085, 0.03788738857710444), (4488, 0.037686115810603694), (1676, 0.03762842327205578), (3450, 0.03750703940176501), (2155, 0.03748437332386871), (4452, 0.03735138077729005), (637, 0.03731279601903245), (2846, 0.03724901670579516), (2308, 0.03707628436070222), (1241, 0.03700122011114251), (2371, 0.036976846773180416), (2012, 0.0369399076645943), (3362, 0.036938217049392624), (1393, 0.03672542116727281), (4137, 0.03662284720045553), (3867, 0.03661392407017184), (1675, 0.03660072518762881), (2365, 0.03621413718022483), (1311, 0.03611828115122188), (3255, 0.03604835610056925), (2859, 0.03602217335341207), (1148, 0.03577335190930676), (710, 0.0357422573009725), (3463, 0.0356896642281071), (2187, 0.03566236886130807), (1320, 0.035416037578020886), (774, 0.03504885783005038), (1379, 0.03503976390783954), (3511, 0.03495322606624218), (632, 0.0348020774390716), (1195, 0.03478534403664526), (408, 0.034511152466473606), (2868, 0.034497743447443656), (1389, 0.03448737437574292), (44, 0.03440668638358996), (2214, 0.03405515900875362), (788, 0.03399274949378475), (3102, 0.033922289760394325), (2622, 0.03387086461961536), (1702, 0.03382930206874711), (4721, 0.03371605732184834), (1837, 0.0336089339879846), (1821, 0.033522685531402745), (904, 0.033502898473788525), (2375, 0.033409195875725675), (3430, 0.0332323113239724), (4195, 0.03315542842220681), (3486, 0.03309425213005021), (3983, 0.03304976067533805), (578, 0.033011585248664224), (2147, 0.03292469199367656), (1292, 0.03284833359958457), (3004, 0.03273919500071828), (818, 0.032539706100881714), (830, 0.03226317960620843), (360, 0.03219950918458378), (2807, 0.03218748552843697), (812, 0.032187282194134866), (2517, 0.032173498222963), (3315, 0.03215757691913564), (4035, 0.032028299697237056), (540, 0.03202742081680681), (618, 0.03200570404481925), (174, 0.031903107011643186), (4594, 0.031736403152686665), (172, 0.031724764046056605), (1868, 0.031667217497823946), (2100, 0.03165934314165973), (1146, 0.031568838711825094), (3351, 0.03154799904180401), (2706, 0.03150064771151369), (4152, 0.03146082265818923), (1568, 0.031436353443190554), (2321, 0.031370486741344704), (2123, 0.031357391224155866), (108, 0.03132373570101582), (1991, 0.03129486158034153), (1369, 0.03126126205427951), (65, 0.03121110500586089), (2710, 0.031199561460415037), (1885, 0.031159660358450175), (682, 0.031079517208858258), (1750, 0.03102299660615842), (2540, 0.030984509315563732), (2198, 0.030880867081189388), (3470, 0.03079689606111089), (1527, 0.03076449138810708), (1795, 0.030686835661877923), (935, 0.030657221086050884), (4362, 0.030655126708422475), (387, 0.030558369053821186), (3656, 0.03050417044348698), (179, 0.03049544854116926), (1405, 0.03041203488943921), (1367, 0.030367483541108357), (2723, 0.030276892438166083), (2716, 0.03025664507330794), (2122, 0.030220112135878597), (1272, 0.03020093989600362), (1482, 0.030195214943915867), (1464, 0.030177980176947804), (3572, 0.030170048823785163), (4602, 0.03011163733764273), (4177, 0.03006771024661444), (2014, 0.029897565227024334), (3498, 0.029870674233037565), (1248, 0.029833582978891444), (3017, 0.029766072513684343), (421, 0.02976278986108177), (2114, 0.02971657532688412), (4252, 0.02970301315217446), (3280, 0.029679144269855004), (2316, 0.029651411768323154), (903, 0.029643358490405714), (3947, 0.029625948050445862), (1095, 0.02957713831516086), (126, 0.029572778812015876), (1046, 0.029525749790415057), (2981, 0.029473665941721967), (1398, 0.02938878332709732), (1363, 0.029375801178675675), (3313, 0.029320472008625934), (911, 0.029310838155351744), (694, 0.029185861551949573), (89, 0.029174484123774692), (4443, 0.02916781613333061), (4005, 0.029148083938073818), (3420, 0.029080403446248487), (3731, 0.028967978240217462), (3376, 0.028888654421876263), (4703, 0.02883319283114831), (3127, 0.028797308723976962), (384, 0.028760668778621108), (2782, 0.028666615133787647), (3574, 0.028606903202393848), (3871, 0.028511711706643576), (2413, 0.02837446766877132), (430, 0.02826264766038152), (3850, 0.028259689505675402), (2082, 0.028205747917925947), (1648, 0.028123023893194245), (2212, 0.027997044210595092), (836, 0.027994680974387377), (3157, 0.02794145594679207), (424, 0.02788739348899836), (2887, 0.02774695794037556), (1999, 0.02774195455256574), (1024, 0.027701035589260077), (3652, 0.027701023645425902), (1506, 0.02757296353917675), (250, 0.02751450502189151), (176, 0.02751440342636197), (459, 0.027472211529169847), (4533, 0.027365294038600996), (3720, 0.027344240460900407), (1720, 0.02731891851323035), (4727, 0.0272643702817967), (3556, 0.02723997535577577), (3137, 0.027103395296631843), (2020, 0.027053277687154625), (3751, 0.027046089484849562), (1976, 0.02696580645461123), (3428, 0.02687830524078235), (2102, 0.026853601139643045), (2762, 0.02674968166037551), (210, 0.02670624725062599), (1043, 0.02647214713790421), (2481, 0.026439738845089086), (2876, 0.026418861255583063), (2687, 0.026369913013248505), (465, 0.026346414050698236), (3559, 0.02621762649127172), (3904, 0.02615655079131019), (2221, 0.026028802204879832), (4128, 0.025955758902890803), (2920, 0.025954639010887112), (3488, 0.02593479838633579), (3045, 0.025893791551379015), (1059, 0.02573859037434573), (25, 0.025674836842076446), (3260, 0.025660582453563455), (2443, 0.025641808264724425), (193, 0.025459426193985182), (2718, 0.02531386257002381), (4165, 0.025293231786657), (381, 0.02526842835612341), (2467, 0.025176582338896473), (1990, 0.02511282274139163), (4548, 0.025018388916909995), (240, 0.024852799568469842), (1283, 0.02472140334724864), (2013, 0.02470589840767643), (282, 0.02470110362357537), (2449, 0.024694657892934145), (398, 0.024672011095101785), (3156, 0.024671641290749016), (284, 0.02458489339732529), (4590, 0.02452677428950235), (1788, 0.024509334855269287), (3167, 0.0245071323454286), (3835, 0.02435149988708281), (4402, 0.024267466023634415), (4104, 0.024165108979606692), (3285, 0.02415280558243743), (1500, 0.024096129910829184), (3852, 0.02396776340231401), (885, 0.02396774152789918), (1063, 0.023928467128809455), (1763, 0.023818064224515004), (824, 0.023798411307664157), (138, 0.023777691764375705), (1757, 0.02368360614438406), (1749, 0.023592856209287166), (917, 0.0235529792573407), (1186, 0.023534709413210956), (2011, 0.023501737613635953), (3868, 0.023460388229074952), (3447, 0.023326720612179885), (3010, 0.02319886878284696), (1505, 0.022960657636028114), (3083, 0.022875264756775766), (1362, 0.022823806838302707), (2971, 0.022767272965589155), (269, 0.02269514267115087), (1935, 0.022653555324268167), (1515, 0.022504229069885556), (3923, 0.022459199474562066), (383, 0.02235574705691127), (3345, 0.02235151188920912), (2157, 0.022293717903701774), (2646, 0.022179882315016868), (1397, 0.0221516292451807), (3319, 0.022146387024973218), (4608, 0.022092793002604166), (864, 0.022033092016667213), (3913, 0.021957106175079746), (334, 0.021896970734655685), (1652, 0.0216416997558698), (109, 0.02163319072130232), (1492, 0.021547614121960434), (2484, 0.021495275872701936), (672, 0.02134800097946872), (2751, 0.021140712523090337), (3222, 0.02108756887597822), (175, 0.0210745433362545), (706, 0.0209758560346396), (1845, 0.02090140807274736), (3344, 0.020897913714830824), (2560, 0.02072192710299294), (763, 0.020670087340061396), (3469, 0.02063513444738109), (952, 0.02049284646608992), (2018, 0.020478054814874715), (1068, 0.02046909204533168), (691, 0.020137347522504023), (3839, 0.02012108408906515), (15, 0.020101920904675906), (2582, 0.020070880850132825), (1351, 0.020041932614297285), (2867, 0.020018510528371045), (371, 0.0199129754853541), (1173, 0.019815266419269718), (1137, 0.01974459243872924), (629, 0.019616236184818565), (4492, 0.019545873493624244), (3144, 0.019524878271556606), (455, 0.019496760127337396), (2767, 0.01937137971028024), (2689, 0.019342746569917153), (4395, 0.019304169599844625), (3934, 0.019182244143642332), (2841, 0.019169977587561032), (3810, 0.01912504534020326), (3778, 0.01889040901891885), (2621, 0.01887673164787797), (3927, 0.018861663708215036), (4283, 0.018838699958574474), (1847, 0.018806309840480675), (553, 0.018779189667425623), (2368, 0.018775975950931258), (4701, 0.018665587387562275), (2760, 0.018658067113003475), (670, 0.018552815206584906), (832, 0.018532975790148464), (4016, 0.01851537022483306), (3446, 0.018514238526877443), (1386, 0.018449951595097738), (3377, 0.018438148087948174), (858, 0.01841378578371061), (4028, 0.01841180429796938), (330, 0.01832702591266805), (3492, 0.018239873662881042), (4149, 0.018207694705515025), (768, 0.018159312588593286), (261, 0.018119570013376437), (2513, 0.01810202994325002), (2362, 0.01809829891156939), (4731, 0.018075940780700666), (2301, 0.01804706598073652), (4012, 0.017973698701590282), (3665, 0.017896852885260287), (2167, 0.017888898445501702), (116, 0.017856409870434374), (530, 0.017852444458950116), (1033, 0.0178437739026613), (4281, 0.017823205878164872), (1544, 0.017796901375855236), (2885, 0.017754334153368138), (1261, 0.01771968713797563), (3976, 0.017674980501405844), (2823, 0.01762016205170879), (2791, 0.0176073613517021), (1274, 0.017563993415047132), (345, 0.01748934910657278), (4534, 0.017480908237622328), (2908, 0.017472402679195448), (1003, 0.01745136342613737), (3528, 0.017389854819653036), (3352, 0.01738156438765318), (4050, 0.017366299546355577), (409, 0.01735025678890114), (4382, 0.017301433754558216), (2469, 0.01729043776325693), (2995, 0.017208103416780897), (3961, 0.017144978482833834), (776, 0.01712230452419665), (3692, 0.01703650226220144), (1996, 0.017021281866547184), (1579, 0.01697839587448843), (1817, 0.016950436550636834), (967, 0.01693197056765736), (1270, 0.016926374521468026), (1609, 0.016866254334212093), (4156, 0.01672467931237338), (1052, 0.016718511300964543), (4450, 0.016713335650670968), (677, 0.016620003269178958), (3857, 0.016618557129168973), (1865, 0.016560826487188568), (2654, 0.01654717317933487), (204, 0.01651359167728557), (2258, 0.016496765688975786), (3098, 0.01643995181545196), (33, 0.01637131246653511), (3462, 0.01635996223348197), (3111, 0.016289957889285035), (657, 0.016258802838114945), (1361, 0.016228949952936098), (976, 0.016204373120587857), (1872, 0.016185853798902562), (3153, 0.01617658817070761), (2353, 0.016161379398340163), (779, 0.016151383844280033), (2161, 0.01614234994072349), (1585, 0.016141934097091276), (2650, 0.016120914390723644), (1045, 0.016119262003897877), (364, 0.016102984991075434), (2237, 0.01608941175611474), (1445, 0.015973841667779216), (1838, 0.01596078766391283), (4466, 0.01589010554568657), (3684, 0.015835294395546685), (3875, 0.015831422514765325), (1970, 0.01581863582712912), (4684, 0.01581477244389739), (1512, 0.015806172776186355), (3036, 0.015777151087059148), (2745, 0.015743335850816297), (4004, 0.015733869220719135), (586, 0.015672274159109937), (4314, 0.015656310609842856), (3000, 0.015652497510251256), (1365, 0.015626662487168586), (796, 0.015568661879526432), (4583, 0.015550069410557255), (2647, 0.015537756318802956), (442, 0.015532456815878152), (1523, 0.015530387151017979), (4053, 0.015504658271155538), (2290, 0.015502706588878054), (1175, 0.01549295186367656), (4349, 0.015480027510502195), (1880, 0.015479241811199945), (3375, 0.015461792688488978), (3597, 0.015459223819118297), (4081, 0.01541952547272612), (1927, 0.015398518858729709), (1759, 0.015390817536421846), (112, 0.015380418147485052), (2035, 0.015344249745384321), (1245, 0.015274402323177953), (1112, 0.01523716100520079), (4504, 0.01523108164292547), (613, 0.01520810429501271), (3471, 0.015183782005153029), (3958, 0.015171904247539933), (2298, 0.015170751950667537), (4482, 0.0151481855879215), (1906, 0.01512837803435362), (3580, 0.015126329650008147), (2618, 0.0151082331676824), (2376, 0.01507949368898595), (61, 0.01507638133963743), (2639, 0.015017351970972405), (3433, 0.014971211884326516), (1403, 0.014935482078657766), (3295, 0.014925998013174499), (2553, 0.014892948641251092), (1741, 0.014885337398301817), (1278, 0.014871002919779622), (2644, 0.014865945803350543), (3253, 0.01484248449104562), (1843, 0.014801284112237913), (1314, 0.014703937230037824), (203, 0.014676619961219117), (2023, 0.014579474823674917), (46, 0.014546777828742231), (4321, 0.014545044339154461), (1895, 0.014515894267342205), (4399, 0.014505846611324615), (1162, 0.014463968845713852), (2598, 0.014458228187106448), (2347, 0.014443874972830154), (3853, 0.0144321831096514), (4176, 0.014427151906920876), (2149, 0.014422281182545814), (3466, 0.014421952358623221), (515, 0.014410517277014645), (218, 0.01440981881718212), (2440, 0.014402397139627059), (1152, 0.014267264791304355), (638, 0.014235196467830877), (160, 0.014234241673891049), (1331, 0.01412531554913065), (3356, 0.014059029355950053), (1216, 0.014058759728186706), (3711, 0.014050516220185353), (929, 0.01404310467361414), (1384, 0.01402155144600435), (1861, 0.013949436427930556), (4627, 0.013907221760478549), (2366, 0.013869525610395584), (4739, 0.013849165544051792), (2712, 0.013845412140392447), (166, 0.013753300542826918), (13, 0.013735131597368562), (3861, 0.013695515572565735), (2037, 0.013679336333235245), (1401, 0.013665181400666693), (1254, 0.013626931917886215), (551, 0.013603517377155643), (75, 0.013601685911040407), (545, 0.013599638225908428), (787, 0.013597087700767164), (3895, 0.01352176175751437), (794, 0.013415290293133281), (2805, 0.013387354659254891), (3630, 0.013352335134618662), (231, 0.01334937733320171), (1802, 0.013349325964671822), (1443, 0.01333219046342765), (3129, 0.013331152424826529), (2460, 0.013277975058564635), (3279, 0.013272823270004562), (3750, 0.013271196908252209), (2177, 0.013175010635965179), (814, 0.01310396941172609), (3541, 0.013099053188975304), (3421, 0.013058109096115668), (343, 0.013037981358971794), (867, 0.013030108016844247), (3508, 0.012961765853424593), (437, 0.012950078408568155), (88, 0.0129476545909671), (1239, 0.012941357753702403), (1202, 0.012925099299668409), (3213, 0.012881417341361496), (906, 0.012871359151842069), (1129, 0.012849547958699872), (1257, 0.012831242754436693), (3299, 0.012817660691676584), (1510, 0.01280290440501734), (1342, 0.012794129277290508), (942, 0.012743464043454718), (374, 0.012721261472655244), (3558, 0.012693448786483189), (358, 0.012629128328656388), (1919, 0.01261968123765499), (1293, 0.012555160701603415), (2052, 0.012540144268339763), (1752, 0.012532222324943089), (1376, 0.012516224597028804), (1721, 0.012415990262395192), (620, 0.012415778608014232), (1493, 0.012397920960077621), (329, 0.012325088547454444), (1988, 0.012321007086982052), (510, 0.012316281080413966), (1412, 0.012300633055986065), (252, 0.01226414233904474), (1654, 0.012261509384518178), (2027, 0.012252445695016321), (1682, 0.012107914653336377), (1310, 0.01209902203404956), (511, 0.012095129381948153), (1787, 0.012078535732070236), (934, 0.011935457118560464), (3328, 0.011927891044133953), (3284, 0.011924868689572765), (899, 0.011923608547539006), (648, 0.011914479439083669), (1114, 0.011909257656093434), (2005, 0.011886055336144516), (895, 0.011872735019423182), (4141, 0.011871767948480041), (3801, 0.011836362608644329), (1157, 0.01180976903770736), (957, 0.011777064108487447), (124, 0.011761069421900541), (968, 0.011751397513294121), (7, 0.011716189667886356), (1714, 0.011713471122547463), (130, 0.01171092788944934), (1870, 0.01170286915021231), (2145, 0.01166939808938108), (2055, 0.011646189020497686), (3226, 0.011619053362589529), (1249, 0.01157775443274707), (808, 0.011513426431156267), (317, 0.011494241469899196), (222, 0.011456613415775757), (2688, 0.011406325890015005), (538, 0.011383566627874195), (762, 0.011362402404208057), (496, 0.011344992287186719), (1090, 0.011299054885374228), (1465, 0.011216475160165395), (4596, 0.011137200772084922), (566, 0.011101470695193334), (57, 0.011055758613955765), (1707, 0.01098052893459681), (2969, 0.010964922148287266), (1957, 0.010926238035716915), (2000, 0.010618178290250736), (555, 0.010590940737023513), (433, 0.010535669018731916), (2524, 0.010479892880351536), (609, 0.010466927191798361), (407, 0.010453017092806459), (2917, 0.010368729867040214), (527, 0.01034734341163439), (757, 0.010311130117380348), (106, 0.01022200224369118), (775, 0.010155580240499276), (296, 0.010113370139106763), (2474, 0.01002338594580399), (452, 0.009998741282067639), (1471, 0.009947198550893143), (332, 0.009871058127629935), (82, 0.009866299306574152), (1418, 0.009825997978991663), (4134, 0.009221512664810739), (1948, 0.009158340755582452), (2568, 0.00902887551401383), (4007, 0.00881815330986391), (4440, 0.008132724150506558), (1655, 0.008083670619489298), (2306, 0.008062892494193041), (2154, 0.008033190956231557), (4524, 0.007862430876693558), (125, 0.00784972139638598), (3256, 0.007827608173001297), (3951, 0.007811999798111723), (402, 0.007791326915337429), (3228, 0.007762318799452222), (1790, 0.007744076609160053), (4554, 0.00773997069782895), (1014, 0.007717082259225539), (3008, 0.007683656780284296), (2049, 0.007677023134794727), (582, 0.007675775072278481), (949, 0.007668348076670889), (3423, 0.007665153011952512), (2505, 0.007661231450338303), (1713, 0.007629032745575683), (1658, 0.007592812860227656), (2638, 0.007590014583682134), (1069, 0.0075777544047008465), (4032, 0.007548548227565462), (2769, 0.007544648862639186), (2051, 0.007514570762571086), (2403, 0.00748720073910798), (2843, 0.007486317762530404), (3094, 0.0074721860647594925), (4351, 0.007459426149739926), (4203, 0.007452194437125396), (3903, 0.00744958509235834), (3384, 0.00743930241513436), (3524, 0.0074285321523151595), (2936, 0.007424895018804505), (537, 0.00739920500844742), (847, 0.0073901779553848055), (3661, 0.007373948476419001), (40, 0.00737349913760886), (208, 0.007363571778880094), (2510, 0.007354527290053306), (2740, 0.0073500824113450726), (2339, 0.007333090854520258), (1770, 0.007312274715807197), (1897, 0.007299723870436724), (1799, 0.007287092827076021), (2873, 0.007275355801576101), (2209, 0.007273106761299542), (635, 0.0072613721939522174), (1712, 0.0072575260274354274), (386, 0.007216155504806723), (4196, 0.007215566096530495), (2101, 0.007209010550637549), (3039, 0.007203929017013245), (3515, 0.007194012719251472), (2436, 0.0071794392229920945), (4077, 0.007178662579002013), (2116, 0.007177880320708347), (1812, 0.007171383508333596), (1798, 0.007170702886015762), (3797, 0.007170427380431593), (1486, 0.007154139261567927), (1141, 0.007153401035285023), (1841, 0.007144790664546076), (2545, 0.007128425696263695), (4605, 0.007116466544599778), (340, 0.00710609958176061), (2759, 0.007096476357359244), (2040, 0.00708871390801406), (715, 0.00708826352508953), (341, 0.007082501500967256), (737, 0.007071590393914042), (3387, 0.007067873819959149), (4226, 0.007065859152253222), (2708, 0.007064145563805474), (2096, 0.007058176270537249), (363, 0.007056220014880405), (1099, 0.007048474269086849), (2418, 0.007042104694839509), (3822, 0.007035078496198873), (3919, 0.00702062602185052), (4052, 0.007019620133544804), (2915, 0.007017891913933727), (4436, 0.007009822702024489), (1182, 0.007009346796242291), (1583, 0.007000391864961372), (472, 0.0069920373549658766), (342, 0.0069831728259879015), (1708, 0.006968756874308776), (482, 0.006965005801725472), (4337, 0.006960097766236076), (4371, 0.006950597183426367), (2244, 0.006944876578422897), (3218, 0.00693790289005748), (3747, 0.006936529547951924), (3264, 0.006927702546473083), (232, 0.006926450032543432), (1572, 0.006921836663706355), (1685, 0.006921723720479573), (1718, 0.006911331041969565), (301, 0.006907775017609604), (2277, 0.006905758884740265), (1951, 0.006897497392312238), (1413, 0.006896734376253197), (3457, 0.006893065606372133), (1475, 0.006892111098023222), (2633, 0.006890000914790894), (1015, 0.006876560579621935), (470, 0.006874760117114931), (1737, 0.0068554536764503515), (1124, 0.006834407984346576), (4695, 0.006831258439801027), (2988, 0.006828249611377838), (2601, 0.006825801694712878), (4061, 0.006825270321456731), (1359, 0.006820638441541393), (2303, 0.00681938170054226), (2964, 0.00680254404329261), (2691, 0.006802384610145612), (3386, 0.006798121390468036), (1911, 0.006793643206474991), (3599, 0.0067918486067735), (4367, 0.006790114863342029), (1619, 0.006786363512352841), (413, 0.006784434718735877), (4025, 0.006782300867849077), (748, 0.006781587226512062), (1266, 0.006778540062421392), (1006, 0.006775139187751874), (2816, 0.006771472129805609), (752, 0.006769782523923012), (4008, 0.006765768582954317), (631, 0.006762674813641319), (2565, 0.006761200458403001), (4336, 0.006758302680021249), (1172, 0.00675755600859575), (3596, 0.006754320860662565), (1250, 0.006752775592242651), (4685, 0.006750695729663403), (173, 0.006748674472530438), (2421, 0.006745774019399956), (3553, 0.00674396878775135), (778, 0.006742258054879372), (1942, 0.0067394483670457726), (1779, 0.006738891516051961), (3483, 0.006737899053938965), (1407, 0.006734496876878304), (1116, 0.006732939329677201), (1876, 0.006732378518384918), (2798, 0.0067318219584615755), (209, 0.006731742166663345), (3648, 0.006729918558935397), (3095, 0.006725181788535714), (353, 0.006722348497812223), (3643, 0.006711745537304553), (1382, 0.006711394083959631), (2494, 0.006710286684854587), (3594, 0.006707758593210469), (782, 0.006706218375235083), (4001, 0.006704846260050896), (1396, 0.006703288181294402), (523, 0.006701382554917523), (600, 0.006700401235183385), (4486, 0.006690915074765206), (3346, 0.00668929544738198), (809, 0.006687551290754025), (2668, 0.00668240811472291), (1262, 0.006681781357444595), (2977, 0.006678837699781036), (1985, 0.0066779604133643386), (1688, 0.0066765666652957405), (1908, 0.0066716306352376485), (1761, 0.006671431217759359), (821, 0.006669617198927235), (4467, 0.006668179284143942), (131, 0.006660624260681414), (3689, 0.0066603895905928846), (1461, 0.006659406537335039), (83, 0.0066489380158489845), (1494, 0.006644563212315589), (1873, 0.0066439949232544445), (2831, 0.006642374811977289), (313, 0.006637794563167501), (1048, 0.006634307185467095), (2726, 0.006634141424868892), (2144, 0.006632413485282603), (2812, 0.006628877376133296), (4255, 0.006622693317801277), (56, 0.006618404596115818), (406, 0.006616467971066515), (1420, 0.006614787323466518), (2640, 0.006614301135805802), (844, 0.006609720228508113), (1017, 0.00660868314603533), (2632, 0.00660417254466169), (1302, 0.006598860188724319), (1945, 0.006598779948515893), (1020, 0.006596868404911068), (4210, 0.0065950629217667745), (921, 0.006594390758867791), (671, 0.006588947515611657), (1094, 0.006588745149141878), (2744, 0.006586495467580148), (3536, 0.006576487035386597), (817, 0.006570231410950253), (4603, 0.006567754278530681), (182, 0.006564990480489699), (697, 0.006561057302149209), (3265, 0.00655805919746658), (2487, 0.006551046979847432), (1936, 0.0065503135217197415), (1077, 0.00654556846794883), (280, 0.006543734610171704), (3632, 0.00654332312793788), (1860, 0.006542927435491392), (1345, 0.006542488669802042), (1629, 0.0065385791936197), (3033, 0.006537750016500382), (1111, 0.006536854020609159), (2732, 0.006533509528971429), (3733, 0.006530606653306879), (897, 0.0065300153908144755), (1773, 0.006528442960837521), (1074, 0.006518746906234137), (1238, 0.006508629625679715), (1192, 0.006507015205998253), (85, 0.0065068260017030755), (1501, 0.00650486046075783), (464, 0.006501044453756947), (1852, 0.006500388432446283), (2335, 0.006500069187511627), (273, 0.0064927588565170625), (834, 0.006491658553239418), (1075, 0.006489035748308953), (850, 0.006486383919448924), (1730, 0.006486332338001424), (2056, 0.006485946684254525), (3288, 0.006484920950028179), (2276, 0.006483095470994511), (2045, 0.00648169844161028), (1644, 0.006481691783982947), (2193, 0.0064800541391014516), (1678, 0.006475128714420785), (3416, 0.006474716586177612), (2109, 0.006474636586889935), (1526, 0.0064722974677161975), (79, 0.006469078965018723), (4099, 0.00646878776812383), (2463, 0.006468073837293535), (19, 0.006464068138624286), (4388, 0.006457717013843568), (2808, 0.00645673354136545), (1551, 0.006452254932375438), (2160, 0.006448830090979004), (3066, 0.006445616348590712), (1019, 0.006443372368138607), (1012, 0.006442668911435708), (3067, 0.006440115875935294), (1128, 0.006436499674935469), (2008, 0.006434565219652691), (651, 0.006431004183957822), (1374, 0.006430982999356005), (2503, 0.006427182165925129), (3998, 0.006426871931081903), (321, 0.006422527059791005), (1612, 0.006422484406853222), (1087, 0.006419661517200934), (1226, 0.006413556088040874), (4303, 0.006413290046585257), (870, 0.006409449024535178), (2980, 0.00639996775211676), (4189, 0.006398767071811242), (4738, 0.006398321930448547), (2309, 0.006395215545254245), (1913, 0.006394921849046365), (3926, 0.006393443348962276), (2698, 0.006392146198426966), (446, 0.006389154166284724), (22, 0.006385977858306483), (1867, 0.006384493114764442), (3566, 0.006383068744611285), (322, 0.006381136682230259), (1807, 0.006380767758821289), (758, 0.006376501559981473), (2239, 0.006375100087573803), (3237, 0.006372992137652123), (4511, 0.006372018575955964), (1849, 0.006370011792001239), (197, 0.006367904752058186), (1552, 0.006366978439983447), (230, 0.006357336927882197), (1692, 0.006355055518519846), (104, 0.00635189674649004), (2174, 0.006351130141425366), (2087, 0.006351024877924867), (2572, 0.006336205508623752), (2480, 0.006335833406383328), (1710, 0.006335747194696077), (2103, 0.006335034246858766), (263, 0.006328212738529645), (1329, 0.006326954500814932), (3151, 0.0063249914303793705), (3784, 0.006321337775527718), (1696, 0.006314587964765312), (2062, 0.0063138684193430866), (521, 0.006310756574303218), (346, 0.006302300195195631), (3046, 0.006299385721778524), (4564, 0.006298185914931107), (966, 0.0062872274430177295), (4236, 0.0062790876746620945), (2121, 0.00627585717926847), (1864, 0.00627197142365282), (287, 0.006271076796114516), (1986, 0.00626919860314493), (3407, 0.006267796288836396), (300, 0.006261315423313219), (962, 0.0062563677294603815), (1446, 0.006256354667785127), (164, 0.00625530732269466), (689, 0.006252755340528516), (2473, 0.006250460855446662), (1664, 0.006240151461508953), (4217, 0.006236396010118116), (833, 0.006234824538154751), (4110, 0.0062328803833501464), (1385, 0.006229885958885839), (2202, 0.006227831543924386), (3309, 0.006225606447190887), (356, 0.006223339323462634), (29, 0.006218839287449653), (1425, 0.006218721167082679), (2095, 0.00621709506045703), (2777, 0.006216358901242311), (2680, 0.006214557465601398), (1793, 0.0062106495905690125), (3426, 0.006205812404260013), (1096, 0.006203386393354712), (958, 0.006198185527264849), (1327, 0.006198005330478905), (3399, 0.0061973589213691225), (643, 0.006195741467469185), (4272, 0.006195075457274156), (248, 0.006193572562235611), (119, 0.006190902567633727), (4576, 0.006190899928278811), (838, 0.006189145837835676), (1519, 0.006188969455859681), (1255, 0.006185242439680277), (1662, 0.00617383754503466), (9, 0.006170934723892417), (144, 0.006169943783801997), (3246, 0.006164602960573333), (1220, 0.006164262977835924), (835, 0.0061631271232369415), (2143, 0.006161152125587307), (3085, 0.006157098410809955), (4658, 0.006157084311593918), (3114, 0.0061566127102977534), (2094, 0.006150578771311695), (2992, 0.006148465237093668), (1514, 0.0061454327296281966), (2175, 0.006145198781244666), (2935, 0.006144094629284961), (3826, 0.00614262909641484), (3504, 0.006140274461706394), (4009, 0.006135480010789268), (900, 0.006133644507904576), (468, 0.00612464341337891), (568, 0.006121126122983327), (2205, 0.006108081335044008), (963, 0.006103231211452741), (2110, 0.006102736727687944), (2265, 0.006099567368939895), (3864, 0.0060971803853890495), (4257, 0.006096821397490008), (307, 0.006095427073176849), (1267, 0.006095081617149047), (449, 0.006088971286431975), (2803, 0.006087339699538399), (35, 0.0060779373846871565), (1723, 0.0060713519227979474), (2291, 0.006062504923476301), (742, 0.006061311384959034), (4459, 0.00606025710429134), (2607, 0.0060520176174681615), (1206, 0.006051720229220171), (3240, 0.0060480767439420255), (4649, 0.006046380408093732), (2119, 0.006044179375924875), (734, 0.006041482800969694), (1818, 0.006038509699039228), (3909, 0.006038429053644848), (3954, 0.006037760486137972), (1903, 0.006025949780350418), (4205, 0.006020567161165523), (4342, 0.006015572853703322), (1746, 0.006014827579238551), (1308, 0.006014672969420636), (32, 0.006008587367146538), (916, 0.006002485424213552), (1875, 0.005971416605285437), (1567, 0.0059671584139898036), (1307, 0.005961053640433993), (936, 0.005958148653122831), (3865, 0.00595592596486529), (1477, 0.005953978585333345), (766, 0.005953542280192481), (4106, 0.005952897102823935), (3825, 0.005952506635073141), (1316, 0.00594725765341488), (3244, 0.005942462633960782), (2742, 0.005942419911337064), (3389, 0.005930661330136466), (1538, 0.005925840721322143), (4055, 0.005924811292730318), (428, 0.005924186057228969), (199, 0.00591513959083592), (463, 0.005913576432004642), (3752, 0.005912418837945794), (1650, 0.005911833698379474), (183, 0.005908787617864269), (2236, 0.0059050602872816015), (2203, 0.005902562316724954), (354, 0.0058990648739205755), (4057, 0.005897896751010509), (2874, 0.005893503454950944), (2058, 0.005892287924306078), (1009, 0.005890311344765501), (2439, 0.005882596490602534), (327, 0.005882461910986732), (2426, 0.005878031464681128), (1920, 0.005877112927951456), (1764, 0.005877003461285405), (669, 0.005873615844931455), (1934, 0.005870902965468059), (1684, 0.005868586300066696), (2185, 0.005868212034497694), (4726, 0.005865656743705786), (2929, 0.0058620044914376715), (3329, 0.005861641711109223), (1833, 0.005859581753447941), (874, 0.005859064528053292), (583, 0.005858104443219101), (1690, 0.005854767513032667), (2285, 0.005852494369461982), (1539, 0.005845759068553584), (3829, 0.005842258873925427), (3598, 0.005825642756398272), (1715, 0.005824314106764305), (3579, 0.005819555315226761), (2931, 0.005817385092956457), (1136, 0.005815861420487244), (664, 0.0058149949191733325), (800, 0.005809927631010924), (3748, 0.0058033037782131425), (1312, 0.0058009944987898006), (2074, 0.005799746140129078), (3065, 0.00579121558557221), (43, 0.005784920913115707), (3880, 0.005778718706264599), (2156, 0.005776192010700055), (1762, 0.005776131999328507), (3108, 0.005772144072143087), (970, 0.005767125514357644), (705, 0.005764933455749721), (147, 0.005762391800087306), (251, 0.0057619076231291465), (3767, 0.005751355826029425), (979, 0.005746818460360417), (2587, 0.005741603639879154), (2942, 0.005735507683936081), (277, 0.005714774256563184), (242, 0.005710436054547422), (3634, 0.005709070956593735), (597, 0.005708058230006205), (732, 0.005699428714309017), (445, 0.005694090905356038), (3409, 0.005693999752977054), (1215, 0.005689653068709547), (2820, 0.005688931435575833), (2933, 0.005679382288145456), (60, 0.005678558371805362), (3509, 0.005674679844420647), (2975, 0.005668314150134699), (4748, 0.005657331322331717), (1553, 0.00565368647641421), (403, 0.005647420225762069), (924, 0.005639942979913256), (3096, 0.005638122157581814), (1863, 0.005631644832274149), (1018, 0.005614695276518989), (4385, 0.005607086665544231), (1194, 0.0056070513176668686), (2603, 0.0056005398287640885), (3957, 0.005598710633580153), (4158, 0.005587940155171307), (86, 0.005581401751429503), (4344, 0.005579329688593038), (3, 0.005577352718077865), (3215, 0.005566371752495868), (177, 0.005566251610175086), (441, 0.005557408793593125), (142, 0.005555765293035247), (692, 0.005553717958125512), (2211, 0.005529664453951053), (2098, 0.0055261395066143375), (288, 0.005525224571960498), (2113, 0.005514045093453579), (2789, 0.005512059410214985), (547, 0.005510830336184436), (78, 0.005507171746685375), (2070, 0.005505150264404682), (63, 0.005500781957064673), (3713, 0.005487871620214495), (2197, 0.005486756716724195), (1317, 0.005480470658806345), (3821, 0.005474248037439602), (4610, 0.0054627809837092724), (1037, 0.005456188581606682), (1743, 0.00545285353146235), (719, 0.005451381737877306), (1453, 0.0054363115747964015), (1279, 0.005429886392548151), (2563, 0.005421893244750227), (3164, 0.0054175223610825815), (1950, 0.00541394092438296), (2665, 0.005406173982263794), (616, 0.00540453492500186), (2985, 0.005393178739799701), (1571, 0.005382815024264538), (843, 0.00537361161193424), (2844, 0.005362198370355888), (113, 0.005352918316754221), (3940, 0.005334365281319537), (4652, 0.0052932847342575745), (1695, 0.0052871518290803785), (1377, 0.005280184590995697), (156, 0.005272418502666634), (477, 0.005248377691519832), (2022, 0.0052430153908703935), (309, 0.005238487985091844), (3152, 0.0052380850282830954), (3410, 0.00523293461365536), (159, 0.005228242763337285), (168, 0.005185142160927056), (1144, 0.005181769592388969), (2774, 0.00515314034176078), (271, 0.005123487895372245), (1005, 0.005115831783296363), (1747, 0.00510735522180355), (1417, 0.005091735433661216), (1701, 0.005080009652135028), (4182, 0.005072412909007339), (3316, 0.005054631120806716), (1774, 0.005028060365948043), (3205, 0.005021656819421048), (853, 0.0050107275748665445), (266, 0.005008448222247881), (4373, 0.004950233023631609), (3667, 0.004923784603937508), (414, 0.004881421450242135), (155, 0.00487069570302701), (561, 0.004840767885043939), (641, 0.004816731962855947), (336, 0.004814524124801975), (684, 0.004749456537091307), (1306, 0.004741933248658904), (3458, 0.004714943528326847), (2064, 0.0047014138568390595), (0, 0.004689979812955406), (283, 0.004654861737852496), (243, 0.004623803507012492), (940, 0.004544860403912453), (1509, 0.004533936570175965), (3456, 0.004432137196868473), (2660, 0.004283485551504491), (475, 0.002306745255726792), (1, 0.0), (2, 0.0), (4, 0.0), (5, 0.0), (6, 0.0), (8, 0.0), (10, 0.0), (11, 0.0), (12, 0.0), (14, 0.0), (16, 0.0), (17, 0.0), (18, 0.0), (20, 0.0), (21, 0.0), (23, 0.0), (24, 0.0), (26, 0.0), (27, 0.0), (28, 0.0), (30, 0.0), (31, 0.0), (34, 0.0), (36, 0.0), (37, 0.0), (38, 0.0), (39, 0.0), (41, 0.0), (42, 0.0), (47, 0.0), (48, 0.0), (49, 0.0), (50, 0.0), (51, 0.0), (52, 0.0), (53, 0.0), (54, 0.0), (55, 0.0), (58, 0.0), (59, 0.0), (64, 0.0), (66, 0.0), (68, 0.0), (69, 0.0), (70, 0.0), (71, 0.0), (72, 0.0), (73, 0.0), (74, 0.0), (76, 0.0), (77, 0.0), (80, 0.0), (81, 0.0), (87, 0.0), (90, 0.0), (91, 0.0), (92, 0.0), (93, 0.0), (94, 0.0), (95, 0.0), (96, 0.0), (97, 0.0), (98, 0.0), (99, 0.0), (100, 0.0), (101, 0.0), (102, 0.0), (103, 0.0), (105, 0.0), (107, 0.0), (111, 0.0), (114, 0.0), (115, 0.0), (117, 0.0), (118, 0.0), (120, 0.0), (121, 0.0), (122, 0.0), (123, 0.0), (127, 0.0), (128, 0.0), (129, 0.0), (132, 0.0), (133, 0.0), (134, 0.0), (135, 0.0), (136, 0.0), (139, 0.0), (140, 0.0), (141, 0.0), (143, 0.0), (145, 0.0), (146, 0.0), (148, 0.0), (149, 0.0), (150, 0.0), (151, 0.0), (152, 0.0), (153, 0.0), (154, 0.0), (157, 0.0), (158, 0.0), (162, 0.0), (163, 0.0), (165, 0.0), (167, 0.0), (169, 0.0), (170, 0.0), (171, 0.0), (178, 0.0), (180, 0.0), (181, 0.0), (184, 0.0), (186, 0.0), (187, 0.0), (188, 0.0), (189, 0.0), (190, 0.0), (191, 0.0), (192, 0.0), (194, 0.0), (195, 0.0), (196, 0.0), (198, 0.0), (200, 0.0), (201, 0.0), (202, 0.0), (205, 0.0), (206, 0.0), (207, 0.0), (211, 0.0), (212, 0.0), (214, 0.0), (215, 0.0), (216, 0.0), (217, 0.0), (219, 0.0), (220, 0.0), (221, 0.0), (223, 0.0), (224, 0.0), (225, 0.0), (226, 0.0), (228, 0.0), (229, 0.0), (233, 0.0), (234, 0.0), (235, 0.0), (236, 0.0), (237, 0.0), (238, 0.0), (239, 0.0), (241, 0.0), (244, 0.0), (245, 0.0), (246, 0.0), (247, 0.0), (249, 0.0), (253, 0.0), (255, 0.0), (256, 0.0), (257, 0.0), (258, 0.0), (259, 0.0), (260, 0.0), (262, 0.0), (264, 0.0), (265, 0.0), (267, 0.0), (268, 0.0), (270, 0.0), (272, 0.0), (274, 0.0), (275, 0.0), (276, 0.0), (278, 0.0), (279, 0.0), (281, 0.0), (285, 0.0), (286, 0.0), (289, 0.0), (290, 0.0), (291, 0.0), (293, 0.0), (294, 0.0), (295, 0.0), (297, 0.0), (298, 0.0), (299, 0.0), (302, 0.0), (303, 0.0), (304, 0.0), (305, 0.0), (306, 0.0), (308, 0.0), (310, 0.0), (311, 0.0), (312, 0.0), (314, 0.0), (315, 0.0), (316, 0.0), (318, 0.0), (319, 0.0), (320, 0.0), (323, 0.0), (324, 0.0), (325, 0.0), (326, 0.0), (331, 0.0), (333, 0.0), (335, 0.0), (337, 0.0), (338, 0.0), (339, 0.0), (344, 0.0), (347, 0.0), (348, 0.0), (349, 0.0), (350, 0.0), (351, 0.0), (352, 0.0), (355, 0.0), (357, 0.0), (359, 0.0), (361, 0.0), (362, 0.0), (365, 0.0), (366, 0.0), (367, 0.0), (368, 0.0), (369, 0.0), (370, 0.0), (372, 0.0), (373, 0.0), (375, 0.0), (376, 0.0), (377, 0.0), (378, 0.0), (379, 0.0), (380, 0.0), (382, 0.0), (385, 0.0), (388, 0.0), (389, 0.0), (390, 0.0), (391, 0.0), (392, 0.0), (393, 0.0), (394, 0.0), (395, 0.0), (396, 0.0), (397, 0.0), (399, 0.0), (400, 0.0), (401, 0.0), (404, 0.0), (405, 0.0), (410, 0.0), (411, 0.0), (415, 0.0), (416, 0.0), (417, 0.0), (418, 0.0), (419, 0.0), (420, 0.0), (422, 0.0), (423, 0.0), (425, 0.0), (426, 0.0), (427, 0.0), (429, 0.0), (431, 0.0), (432, 0.0), (434, 0.0), (435, 0.0), (436, 0.0), (439, 0.0), (440, 0.0), (443, 0.0), (444, 0.0), (447, 0.0), (448, 0.0), (450, 0.0), (451, 0.0), (453, 0.0), (454, 0.0), (456, 0.0), (457, 0.0), (458, 0.0), (460, 0.0), (461, 0.0), (462, 0.0), (466, 0.0), (467, 0.0), (469, 0.0), (471, 0.0), (473, 0.0), (474, 0.0), (476, 0.0), (478, 0.0), (480, 0.0), (481, 0.0), (483, 0.0), (484, 0.0), (485, 0.0), (486, 0.0), (487, 0.0), (488, 0.0), (489, 0.0), (490, 0.0), (491, 0.0), (492, 0.0), (493, 0.0), (494, 0.0), (495, 0.0), (497, 0.0), (498, 0.0), (499, 0.0), (500, 0.0), (501, 0.0), (502, 0.0), (503, 0.0), (504, 0.0), (505, 0.0), (506, 0.0), (507, 0.0), (508, 0.0), (509, 0.0), (512, 0.0), (513, 0.0), (514, 0.0), (516, 0.0), (517, 0.0), (518, 0.0), (520, 0.0), (522, 0.0), (524, 0.0), (525, 0.0), (526, 0.0), (528, 0.0), (529, 0.0), (531, 0.0), (532, 0.0), (533, 0.0), (534, 0.0), (535, 0.0), (536, 0.0), (539, 0.0), (541, 0.0), (542, 0.0), (543, 0.0), (544, 0.0), (546, 0.0), (548, 0.0), (549, 0.0), (550, 0.0), (552, 0.0), (554, 0.0), (556, 0.0), (557, 0.0), (558, 0.0), (559, 0.0), (560, 0.0), (562, 0.0), (563, 0.0), (564, 0.0), (565, 0.0), (567, 0.0), (569, 0.0), (570, 0.0), (571, 0.0), (572, 0.0), (573, 0.0), (574, 0.0), (575, 0.0), (576, 0.0), (577, 0.0), (579, 0.0), (580, 0.0), (581, 0.0), (584, 0.0), (585, 0.0), (587, 0.0), (588, 0.0), (589, 0.0), (591, 0.0), (592, 0.0), (593, 0.0), (594, 0.0), (595, 0.0), (596, 0.0), (598, 0.0), (599, 0.0), (601, 0.0), (602, 0.0), (603, 0.0), (604, 0.0), (605, 0.0), (606, 0.0), (607, 0.0), (608, 0.0), (610, 0.0), (611, 0.0), (612, 0.0), (614, 0.0), (617, 0.0), (619, 0.0), (621, 0.0), (622, 0.0), (623, 0.0), (624, 0.0), (625, 0.0), (626, 0.0), (627, 0.0), (630, 0.0), (633, 0.0), (634, 0.0), (636, 0.0), (639, 0.0), (640, 0.0), (642, 0.0), (644, 0.0), (645, 0.0), (646, 0.0), (647, 0.0), (649, 0.0), (650, 0.0), (652, 0.0), (653, 0.0), (654, 0.0), (655, 0.0), (656, 0.0), (658, 0.0), (659, 0.0), (660, 0.0), (661, 0.0), (662, 0.0), (663, 0.0), (665, 0.0), (666, 0.0), (667, 0.0), (668, 0.0), (673, 0.0), (674, 0.0), (676, 0.0), (678, 0.0), (679, 0.0), (680, 0.0), (681, 0.0), (683, 0.0), (685, 0.0), (686, 0.0), (687, 0.0), (688, 0.0), (690, 0.0), (693, 0.0), (695, 0.0), (696, 0.0), (698, 0.0), (699, 0.0), (700, 0.0), (701, 0.0), (702, 0.0), (703, 0.0), (704, 0.0), (707, 0.0), (708, 0.0), (709, 0.0), (711, 0.0), (712, 0.0), (713, 0.0), (714, 0.0), (716, 0.0), (717, 0.0), (718, 0.0), (720, 0.0), (721, 0.0), (722, 0.0), (723, 0.0), (724, 0.0), (725, 0.0), (726, 0.0), (727, 0.0), (728, 0.0), (729, 0.0), (730, 0.0), (731, 0.0), (733, 0.0), (735, 0.0), (736, 0.0), (738, 0.0), (739, 0.0), (740, 0.0), (741, 0.0), (743, 0.0), (744, 0.0), (745, 0.0), (746, 0.0), (747, 0.0), (749, 0.0), (750, 0.0), (751, 0.0), (753, 0.0), (754, 0.0), (755, 0.0), (756, 0.0), (759, 0.0), (760, 0.0), (761, 0.0), (764, 0.0), (765, 0.0), (767, 0.0), (769, 0.0), (770, 0.0), (771, 0.0), (772, 0.0), (773, 0.0), (777, 0.0), (780, 0.0), (781, 0.0), (783, 0.0), (784, 0.0), (785, 0.0), (786, 0.0), (789, 0.0), (790, 0.0), (791, 0.0), (792, 0.0), (793, 0.0), (795, 0.0), (797, 0.0), (798, 0.0), (799, 0.0), (801, 0.0), (802, 0.0), (803, 0.0), (804, 0.0), (805, 0.0), (806, 0.0), (807, 0.0), (810, 0.0), (811, 0.0), (813, 0.0), (815, 0.0), (816, 0.0), (819, 0.0), (820, 0.0), (822, 0.0), (823, 0.0), (825, 0.0), (826, 0.0), (827, 0.0), (828, 0.0), (829, 0.0), (831, 0.0), (837, 0.0), (839, 0.0), (840, 0.0), (841, 0.0), (842, 0.0), (845, 0.0), (846, 0.0), (848, 0.0), (849, 0.0), (851, 0.0), (852, 0.0), (854, 0.0), (855, 0.0), (856, 0.0), (857, 0.0), (859, 0.0), (860, 0.0), (861, 0.0), (862, 0.0), (863, 0.0), (865, 0.0), (866, 0.0), (868, 0.0), (869, 0.0), (871, 0.0), (872, 0.0), (875, 0.0), (876, 0.0), (878, 0.0), (879, 0.0), (880, 0.0), (881, 0.0), (882, 0.0), (883, 0.0), (884, 0.0), (886, 0.0), (887, 0.0), (888, 0.0), (889, 0.0), (890, 0.0), (891, 0.0), (892, 0.0), (893, 0.0), (894, 0.0), (896, 0.0), (898, 0.0), (901, 0.0), (902, 0.0), (905, 0.0), (907, 0.0), (908, 0.0), (909, 0.0), (910, 0.0), (912, 0.0), (913, 0.0), (914, 0.0), (915, 0.0), (918, 0.0), (919, 0.0), (920, 0.0), (922, 0.0), (923, 0.0), (925, 0.0), (926, 0.0), (927, 0.0), (928, 0.0), (930, 0.0), (931, 0.0), (932, 0.0), (933, 0.0), (937, 0.0), (938, 0.0), (939, 0.0), (941, 0.0), (943, 0.0), (944, 0.0), (945, 0.0), (946, 0.0), (947, 0.0), (948, 0.0), (950, 0.0), (951, 0.0), (953, 0.0), (954, 0.0), (955, 0.0), (956, 0.0), (959, 0.0), (960, 0.0), (961, 0.0), (964, 0.0), (965, 0.0), (969, 0.0), (971, 0.0), (972, 0.0), (973, 0.0), (974, 0.0), (975, 0.0), (977, 0.0), (978, 0.0), (980, 0.0), (981, 0.0), (982, 0.0), (983, 0.0), (984, 0.0), (985, 0.0), (986, 0.0), (987, 0.0), (988, 0.0), (989, 0.0), (990, 0.0), (991, 0.0), (992, 0.0), (993, 0.0), (994, 0.0), (995, 0.0), (996, 0.0), (997, 0.0), (998, 0.0), (999, 0.0), (1000, 0.0), (1001, 0.0), (1002, 0.0), (1004, 0.0), (1007, 0.0), (1008, 0.0), (1010, 0.0), (1011, 0.0), (1013, 0.0), (1016, 0.0), (1022, 0.0), (1025, 0.0), (1026, 0.0), (1027, 0.0), (1028, 0.0), (1029, 0.0), (1031, 0.0), (1032, 0.0), (1034, 0.0), (1035, 0.0), (1036, 0.0), (1038, 0.0), (1039, 0.0), (1040, 0.0), (1041, 0.0), (1042, 0.0), (1044, 0.0), (1047, 0.0), (1049, 0.0), (1050, 0.0), (1051, 0.0), (1053, 0.0), (1054, 0.0), (1055, 0.0), (1056, 0.0), (1057, 0.0), (1058, 0.0), (1060, 0.0), (1061, 0.0), (1062, 0.0), (1064, 0.0), (1065, 0.0), (1066, 0.0), (1067, 0.0), (1071, 0.0), (1072, 0.0), (1073, 0.0), (1076, 0.0), (1078, 0.0), (1079, 0.0), (1080, 0.0), (1081, 0.0), (1082, 0.0), (1083, 0.0), (1084, 0.0), (1086, 0.0), (1088, 0.0), (1089, 0.0), (1091, 0.0), (1092, 0.0), (1093, 0.0), (1097, 0.0), (1098, 0.0), (1100, 0.0), (1101, 0.0), (1102, 0.0), (1103, 0.0), (1104, 0.0), (1105, 0.0), (1106, 0.0), (1107, 0.0), (1108, 0.0), (1109, 0.0), (1110, 0.0), (1113, 0.0), (1115, 0.0), (1117, 0.0), (1119, 0.0), (1120, 0.0), (1121, 0.0), (1122, 0.0), (1123, 0.0), (1125, 0.0), (1126, 0.0), (1127, 0.0), (1130, 0.0), (1131, 0.0), (1132, 0.0), (1133, 0.0), (1135, 0.0), (1138, 0.0), (1139, 0.0), (1140, 0.0), (1142, 0.0), (1143, 0.0), (1145, 0.0), (1147, 0.0), (1149, 0.0), (1150, 0.0), (1151, 0.0), (1153, 0.0), (1154, 0.0), (1155, 0.0), (1156, 0.0), (1158, 0.0), (1159, 0.0), (1160, 0.0), (1161, 0.0), (1163, 0.0), (1164, 0.0), (1165, 0.0), (1166, 0.0), (1167, 0.0), (1168, 0.0), (1169, 0.0), (1170, 0.0), (1171, 0.0), (1174, 0.0), (1176, 0.0), (1177, 0.0), (1178, 0.0), (1179, 0.0), (1180, 0.0), (1181, 0.0), (1183, 0.0), (1184, 0.0), (1185, 0.0), (1187, 0.0), (1188, 0.0), (1189, 0.0), (1190, 0.0), (1191, 0.0), (1193, 0.0), (1196, 0.0), (1197, 0.0), (1198, 0.0), (1199, 0.0), (1200, 0.0), (1201, 0.0), (1203, 0.0), (1204, 0.0), (1205, 0.0), (1207, 0.0), (1208, 0.0), (1209, 0.0), (1210, 0.0), (1211, 0.0), (1212, 0.0), (1213, 0.0), (1214, 0.0), (1217, 0.0), (1218, 0.0), (1219, 0.0), (1221, 0.0), (1222, 0.0), (1223, 0.0), (1224, 0.0), (1225, 0.0), (1227, 0.0), (1228, 0.0), (1229, 0.0), (1230, 0.0), (1231, 0.0), (1232, 0.0), (1233, 0.0), (1234, 0.0), (1235, 0.0), (1236, 0.0), (1237, 0.0), (1240, 0.0), (1242, 0.0), (1244, 0.0), (1246, 0.0), (1247, 0.0), (1251, 0.0), (1252, 0.0), (1253, 0.0), (1256, 0.0), (1258, 0.0), (1259, 0.0), (1260, 0.0), (1263, 0.0), (1264, 0.0), (1265, 0.0), (1268, 0.0), (1269, 0.0), (1271, 0.0), (1273, 0.0), (1275, 0.0), (1276, 0.0), (1277, 0.0), (1280, 0.0), (1281, 0.0), (1282, 0.0), (1284, 0.0), (1285, 0.0), (1286, 0.0), (1287, 0.0), (1288, 0.0), (1289, 0.0), (1290, 0.0), (1291, 0.0), (1294, 0.0), (1295, 0.0), (1296, 0.0), (1297, 0.0), (1298, 0.0), (1299, 0.0), (1300, 0.0), (1301, 0.0), (1303, 0.0), (1304, 0.0), (1305, 0.0), (1309, 0.0), (1313, 0.0), (1315, 0.0), (1318, 0.0), (1319, 0.0), (1321, 0.0), (1322, 0.0), (1323, 0.0), (1324, 0.0), (1325, 0.0), (1326, 0.0), (1328, 0.0), (1330, 0.0), (1332, 0.0), (1333, 0.0), (1334, 0.0), (1335, 0.0), (1336, 0.0), (1337, 0.0), (1338, 0.0), (1339, 0.0), (1340, 0.0), (1343, 0.0), (1344, 0.0), (1346, 0.0), (1347, 0.0), (1348, 0.0), (1349, 0.0), (1350, 0.0), (1352, 0.0), (1353, 0.0), (1354, 0.0), (1355, 0.0), (1356, 0.0), (1357, 0.0), (1360, 0.0), (1364, 0.0), (1366, 0.0), (1368, 0.0), (1370, 0.0), (1371, 0.0), (1372, 0.0), (1373, 0.0), (1375, 0.0), (1378, 0.0), (1380, 0.0), (1381, 0.0), (1387, 0.0), (1388, 0.0), (1390, 0.0), (1391, 0.0), (1392, 0.0), (1394, 0.0), (1395, 0.0), (1399, 0.0), (1400, 0.0), (1402, 0.0), (1404, 0.0), (1406, 0.0), (1408, 0.0), (1409, 0.0), (1410, 0.0), (1411, 0.0), (1414, 0.0), (1415, 0.0), (1416, 0.0), (1419, 0.0), (1421, 0.0), (1422, 0.0), (1423, 0.0), (1424, 0.0), (1426, 0.0), (1427, 0.0), (1428, 0.0), (1429, 0.0), (1430, 0.0), (1431, 0.0), (1432, 0.0), (1433, 0.0), (1434, 0.0), (1435, 0.0), (1436, 0.0), (1437, 0.0), (1438, 0.0), (1439, 0.0), (1440, 0.0), (1441, 0.0), (1442, 0.0), (1444, 0.0), (1447, 0.0), (1448, 0.0), (1449, 0.0), (1450, 0.0), (1451, 0.0), (1452, 0.0), (1454, 0.0), (1455, 0.0), (1456, 0.0), (1457, 0.0), (1458, 0.0), (1459, 0.0), (1460, 0.0), (1462, 0.0), (1463, 0.0), (1466, 0.0), (1467, 0.0), (1468, 0.0), (1469, 0.0), (1470, 0.0), (1472, 0.0), (1473, 0.0), (1474, 0.0), (1476, 0.0), (1478, 0.0), (1479, 0.0), (1480, 0.0), (1481, 0.0), (1483, 0.0), (1484, 0.0), (1485, 0.0), (1487, 0.0), (1488, 0.0), (1489, 0.0), (1490, 0.0), (1491, 0.0), (1495, 0.0), (1496, 0.0), (1497, 0.0), (1498, 0.0), (1499, 0.0), (1502, 0.0), (1503, 0.0), (1504, 0.0), (1507, 0.0), (1508, 0.0), (1511, 0.0), (1513, 0.0), (1516, 0.0), (1517, 0.0), (1518, 0.0), (1520, 0.0), (1521, 0.0), (1522, 0.0), (1524, 0.0), (1525, 0.0), (1528, 0.0), (1529, 0.0), (1530, 0.0), (1531, 0.0), (1532, 0.0), (1533, 0.0), (1534, 0.0), (1535, 0.0), (1536, 0.0), (1537, 0.0), (1540, 0.0), (1541, 0.0), (1542, 0.0), (1543, 0.0), (1545, 0.0), (1546, 0.0), (1547, 0.0), (1548, 0.0), (1549, 0.0), (1550, 0.0), (1554, 0.0), (1555, 0.0), (1556, 0.0), (1557, 0.0), (1558, 0.0), (1559, 0.0), (1560, 0.0), (1561, 0.0), (1562, 0.0), (1563, 0.0), (1564, 0.0), (1565, 0.0), (1566, 0.0), (1569, 0.0), (1570, 0.0), (1573, 0.0), (1574, 0.0), (1575, 0.0), (1576, 0.0), (1577, 0.0), (1578, 0.0), (1580, 0.0), (1581, 0.0), (1582, 0.0), (1584, 0.0), (1586, 0.0), (1587, 0.0), (1588, 0.0), (1589, 0.0), (1590, 0.0), (1591, 0.0), (1592, 0.0), (1593, 0.0), (1594, 0.0), (1595, 0.0), (1596, 0.0), (1597, 0.0), (1598, 0.0), (1599, 0.0), (1600, 0.0), (1601, 0.0), (1602, 0.0), (1603, 0.0), (1604, 0.0), (1605, 0.0), (1606, 0.0), (1607, 0.0), (1608, 0.0), (1610, 0.0), (1611, 0.0), (1613, 0.0), (1614, 0.0), (1615, 0.0), (1616, 0.0), (1617, 0.0), (1618, 0.0), (1620, 0.0), (1621, 0.0), (1622, 0.0), (1623, 0.0), (1624, 0.0), (1625, 0.0), (1626, 0.0), (1627, 0.0), (1628, 0.0), (1630, 0.0), (1631, 0.0), (1632, 0.0), (1633, 0.0), (1634, 0.0), (1635, 0.0), (1636, 0.0), (1637, 0.0), (1638, 0.0), (1639, 0.0), (1640, 0.0), (1641, 0.0), (1642, 0.0), (1643, 0.0), (1645, 0.0), (1646, 0.0), (1649, 0.0), (1651, 0.0), (1653, 0.0), (1656, 0.0), (1657, 0.0), (1659, 0.0), (1660, 0.0), (1661, 0.0), (1663, 0.0), (1665, 0.0), (1666, 0.0), (1667, 0.0), (1668, 0.0), (1669, 0.0), (1670, 0.0), (1671, 0.0), (1672, 0.0), (1673, 0.0), (1674, 0.0), (1677, 0.0), (1679, 0.0), (1680, 0.0), (1681, 0.0), (1683, 0.0), (1686, 0.0), (1687, 0.0), (1689, 0.0), (1691, 0.0), (1693, 0.0), (1694, 0.0), (1697, 0.0), (1698, 0.0), (1699, 0.0), (1700, 0.0), (1703, 0.0), (1704, 0.0), (1705, 0.0), (1706, 0.0), (1709, 0.0), (1711, 0.0), (1716, 0.0), (1717, 0.0), (1719, 0.0), (1722, 0.0), (1724, 0.0), (1725, 0.0), (1726, 0.0), (1727, 0.0), (1728, 0.0), (1729, 0.0), (1731, 0.0), (1732, 0.0), (1733, 0.0), (1734, 0.0), (1735, 0.0), (1736, 0.0), (1738, 0.0), (1739, 0.0), (1740, 0.0), (1742, 0.0), (1744, 0.0), (1745, 0.0), (1748, 0.0), (1751, 0.0), (1753, 0.0), (1754, 0.0), (1755, 0.0), (1756, 0.0), (1758, 0.0), (1760, 0.0), (1765, 0.0), (1766, 0.0), (1767, 0.0), (1768, 0.0), (1769, 0.0), (1771, 0.0), (1772, 0.0), (1775, 0.0), (1776, 0.0), (1777, 0.0), (1778, 0.0), (1780, 0.0), (1781, 0.0), (1782, 0.0), (1783, 0.0), (1784, 0.0), (1785, 0.0), (1786, 0.0), (1789, 0.0), (1791, 0.0), (1792, 0.0), (1794, 0.0), (1796, 0.0), (1797, 0.0), (1800, 0.0), (1801, 0.0), (1803, 0.0), (1804, 0.0), (1805, 0.0), (1806, 0.0), (1808, 0.0), (1810, 0.0), (1811, 0.0), (1813, 0.0), (1814, 0.0), (1815, 0.0), (1816, 0.0), (1819, 0.0), (1820, 0.0), (1822, 0.0), (1823, 0.0), (1824, 0.0), (1825, 0.0), (1826, 0.0), (1827, 0.0), (1828, 0.0), (1829, 0.0), (1830, 0.0), (1831, 0.0), (1832, 0.0), (1834, 0.0), (1835, 0.0), (1836, 0.0), (1839, 0.0), (1840, 0.0), (1842, 0.0), (1844, 0.0), (1846, 0.0), (1848, 0.0), (1851, 0.0), (1853, 0.0), (1854, 0.0), (1855, 0.0), (1856, 0.0), (1857, 0.0), (1858, 0.0), (1859, 0.0), (1862, 0.0), (1866, 0.0), (1869, 0.0), (1874, 0.0), (1877, 0.0), (1879, 0.0), (1881, 0.0), (1882, 0.0), (1883, 0.0), (1884, 0.0), (1887, 0.0), (1888, 0.0), (1889, 0.0), (1890, 0.0), (1891, 0.0), (1892, 0.0), (1893, 0.0), (1894, 0.0), (1896, 0.0), (1898, 0.0), (1899, 0.0), (1900, 0.0), (1901, 0.0), (1902, 0.0), (1904, 0.0), (1905, 0.0), (1907, 0.0), (1909, 0.0), (1910, 0.0), (1912, 0.0), (1914, 0.0), (1915, 0.0), (1916, 0.0), (1917, 0.0), (1918, 0.0), (1921, 0.0), (1922, 0.0), (1923, 0.0), (1924, 0.0), (1925, 0.0), (1926, 0.0), (1928, 0.0), (1929, 0.0), (1930, 0.0), (1931, 0.0), (1932, 0.0), (1933, 0.0), (1937, 0.0), (1938, 0.0), (1939, 0.0), (1940, 0.0), (1941, 0.0), (1943, 0.0), (1944, 0.0), (1946, 0.0), (1947, 0.0), (1949, 0.0), (1952, 0.0), (1953, 0.0), (1954, 0.0), (1955, 0.0), (1956, 0.0), (1958, 0.0), (1959, 0.0), (1960, 0.0), (1961, 0.0), (1962, 0.0), (1963, 0.0), (1964, 0.0), (1965, 0.0), (1966, 0.0), (1967, 0.0), (1968, 0.0), (1969, 0.0), (1971, 0.0), (1972, 0.0), (1973, 0.0), (1974, 0.0), (1975, 0.0), (1978, 0.0), (1979, 0.0), (1980, 0.0), (1981, 0.0), (1983, 0.0), (1984, 0.0), (1987, 0.0), (1989, 0.0), (1992, 0.0), (1993, 0.0), (1995, 0.0), (1997, 0.0), (1998, 0.0), (2001, 0.0), (2002, 0.0), (2003, 0.0), (2004, 0.0), (2006, 0.0), (2007, 0.0), (2009, 0.0), (2010, 0.0), (2015, 0.0), (2016, 0.0), (2017, 0.0), (2019, 0.0), (2021, 0.0), (2024, 0.0), (2025, 0.0), (2028, 0.0), (2029, 0.0), (2030, 0.0), (2031, 0.0), (2032, 0.0), (2033, 0.0), (2034, 0.0), (2036, 0.0), (2038, 0.0), (2039, 0.0), (2041, 0.0), (2042, 0.0), (2043, 0.0), (2044, 0.0), (2046, 0.0), (2047, 0.0), (2048, 0.0), (2050, 0.0), (2053, 0.0), (2054, 0.0), (2057, 0.0), (2059, 0.0), (2060, 0.0), (2061, 0.0), (2063, 0.0), (2065, 0.0), (2066, 0.0), (2067, 0.0), (2068, 0.0), (2069, 0.0), (2071, 0.0), (2072, 0.0), (2073, 0.0), (2075, 0.0), (2076, 0.0), (2077, 0.0), (2078, 0.0), (2079, 0.0), (2080, 0.0), (2081, 0.0), (2083, 0.0), (2084, 0.0), (2085, 0.0), (2086, 0.0), (2088, 0.0), (2089, 0.0), (2090, 0.0), (2091, 0.0), (2092, 0.0), (2093, 0.0), (2097, 0.0), (2099, 0.0), (2104, 0.0), (2105, 0.0), (2106, 0.0), (2107, 0.0), (2108, 0.0), (2111, 0.0), (2115, 0.0), (2117, 0.0), (2118, 0.0), (2120, 0.0), (2124, 0.0), (2125, 0.0), (2126, 0.0), (2127, 0.0), (2128, 0.0), (2129, 0.0), (2130, 0.0), (2131, 0.0), (2132, 0.0), (2134, 0.0), (2135, 0.0), (2136, 0.0), (2137, 0.0), (2138, 0.0), (2139, 0.0), (2140, 0.0), (2141, 0.0), (2142, 0.0), (2146, 0.0), (2148, 0.0), (2150, 0.0), (2151, 0.0), (2152, 0.0), (2153, 0.0), (2158, 0.0), (2159, 0.0), (2162, 0.0), (2163, 0.0), (2164, 0.0), (2165, 0.0), (2166, 0.0), (2168, 0.0), (2169, 0.0), (2170, 0.0), (2171, 0.0), (2172, 0.0), (2173, 0.0), (2176, 0.0), (2178, 0.0), (2179, 0.0), (2180, 0.0), (2181, 0.0), (2182, 0.0), (2183, 0.0), (2184, 0.0), (2186, 0.0), (2188, 0.0), (2189, 0.0), (2190, 0.0), (2192, 0.0), (2194, 0.0), (2195, 0.0), (2196, 0.0), (2199, 0.0), (2200, 0.0), (2201, 0.0), (2204, 0.0), (2206, 0.0), (2207, 0.0), (2208, 0.0), (2210, 0.0), (2213, 0.0), (2215, 0.0), (2216, 0.0), (2217, 0.0), (2218, 0.0), (2219, 0.0), (2220, 0.0), (2222, 0.0), (2223, 0.0), (2224, 0.0), (2225, 0.0), (2226, 0.0), (2227, 0.0), (2228, 0.0), (2229, 0.0), (2230, 0.0), (2231, 0.0), (2232, 0.0), (2233, 0.0), (2234, 0.0), (2235, 0.0), (2238, 0.0), (2240, 0.0), (2241, 0.0), (2242, 0.0), (2243, 0.0), (2245, 0.0), (2246, 0.0), (2247, 0.0), (2248, 0.0), (2249, 0.0), (2250, 0.0), (2251, 0.0), (2252, 0.0), (2253, 0.0), (2254, 0.0), (2255, 0.0), (2256, 0.0), (2257, 0.0), (2259, 0.0), (2260, 0.0), (2261, 0.0), (2262, 0.0), (2263, 0.0), (2264, 0.0), (2266, 0.0), (2267, 0.0), (2268, 0.0), (2269, 0.0), (2270, 0.0), (2271, 0.0), (2272, 0.0), (2273, 0.0), (2274, 0.0), (2275, 0.0), (2278, 0.0), (2279, 0.0), (2280, 0.0), (2281, 0.0), (2282, 0.0), (2283, 0.0), (2284, 0.0), (2286, 0.0), (2287, 0.0), (2288, 0.0), (2289, 0.0), (2292, 0.0), (2293, 0.0), (2295, 0.0), (2296, 0.0), (2297, 0.0), (2299, 0.0), (2300, 0.0), (2302, 0.0), (2304, 0.0), (2305, 0.0), (2307, 0.0), (2310, 0.0), (2311, 0.0), (2312, 0.0), (2313, 0.0), (2314, 0.0), (2315, 0.0), (2317, 0.0), (2319, 0.0), (2320, 0.0), (2322, 0.0), (2323, 0.0), (2324, 0.0), (2325, 0.0), (2326, 0.0), (2327, 0.0), (2328, 0.0), (2329, 0.0), (2330, 0.0), (2331, 0.0), (2332, 0.0), (2333, 0.0), (2334, 0.0), (2336, 0.0), (2337, 0.0), (2338, 0.0), (2340, 0.0), (2341, 0.0), (2342, 0.0), (2343, 0.0), (2344, 0.0), (2345, 0.0), (2346, 0.0), (2348, 0.0), (2349, 0.0), (2350, 0.0), (2351, 0.0), (2352, 0.0), (2354, 0.0), (2355, 0.0), (2356, 0.0), (2357, 0.0), (2358, 0.0), (2359, 0.0), (2360, 0.0), (2361, 0.0), (2363, 0.0), (2364, 0.0), (2367, 0.0), (2369, 0.0), (2370, 0.0), (2372, 0.0), (2373, 0.0), (2377, 0.0), (2378, 0.0), (2379, 0.0), (2380, 0.0), (2381, 0.0), (2382, 0.0), (2383, 0.0), (2384, 0.0), (2385, 0.0), (2386, 0.0), (2387, 0.0), (2388, 0.0), (2389, 0.0), (2390, 0.0), (2391, 0.0), (2392, 0.0), (2393, 0.0), (2394, 0.0), (2395, 0.0), (2396, 0.0), (2397, 0.0), (2398, 0.0), (2399, 0.0), (2400, 0.0), (2401, 0.0), (2402, 0.0), (2404, 0.0), (2405, 0.0), (2406, 0.0), (2407, 0.0), (2408, 0.0), (2409, 0.0), (2410, 0.0), (2411, 0.0), (2412, 0.0), (2414, 0.0), (2415, 0.0), (2416, 0.0), (2419, 0.0), (2420, 0.0), (2422, 0.0), (2423, 0.0), (2424, 0.0), (2425, 0.0), (2427, 0.0), (2428, 0.0), (2429, 0.0), (2430, 0.0), (2431, 0.0), (2432, 0.0), (2433, 0.0), (2434, 0.0), (2435, 0.0), (2437, 0.0), (2438, 0.0), (2441, 0.0), (2442, 0.0), (2444, 0.0), (2445, 0.0), (2446, 0.0), (2447, 0.0), (2448, 0.0), (2450, 0.0), (2451, 0.0), (2452, 0.0), (2453, 0.0), (2454, 0.0), (2455, 0.0), (2456, 0.0), (2457, 0.0), (2458, 0.0), (2459, 0.0), (2461, 0.0), (2462, 0.0), (2464, 0.0), (2465, 0.0), (2466, 0.0), (2468, 0.0), (2470, 0.0), (2471, 0.0), (2472, 0.0), (2475, 0.0), (2476, 0.0), (2477, 0.0), (2478, 0.0), (2479, 0.0), (2482, 0.0), (2483, 0.0), (2485, 0.0), (2486, 0.0), (2488, 0.0), (2489, 0.0), (2490, 0.0), (2491, 0.0), (2492, 0.0), (2493, 0.0), (2495, 0.0), (2496, 0.0), (2497, 0.0), (2498, 0.0), (2499, 0.0), (2500, 0.0), (2501, 0.0), (2502, 0.0), (2504, 0.0), (2506, 0.0), (2507, 0.0), (2508, 0.0), (2509, 0.0), (2511, 0.0), (2512, 0.0), (2514, 0.0), (2515, 0.0), (2516, 0.0), (2518, 0.0), (2519, 0.0), (2520, 0.0), (2521, 0.0), (2522, 0.0), (2523, 0.0), (2525, 0.0), (2526, 0.0), (2527, 0.0), (2528, 0.0), (2529, 0.0), (2531, 0.0), (2532, 0.0), (2533, 0.0), (2534, 0.0), (2535, 0.0), (2536, 0.0), (2537, 0.0), (2539, 0.0), (2541, 0.0), (2542, 0.0), (2543, 0.0), (2544, 0.0), (2546, 0.0), (2547, 0.0), (2548, 0.0), (2549, 0.0), (2551, 0.0), (2552, 0.0), (2554, 0.0), (2555, 0.0), (2556, 0.0), (2557, 0.0), (2559, 0.0), (2561, 0.0), (2562, 0.0), (2564, 0.0), (2566, 0.0), (2567, 0.0), (2569, 0.0), (2570, 0.0), (2571, 0.0), (2573, 0.0), (2574, 0.0), (2575, 0.0), (2576, 0.0), (2577, 0.0), (2578, 0.0), (2580, 0.0), (2581, 0.0), (2583, 0.0), (2584, 0.0), (2585, 0.0), (2586, 0.0), (2588, 0.0), (2589, 0.0), (2590, 0.0), (2591, 0.0), (2592, 0.0), (2593, 0.0), (2594, 0.0), (2595, 0.0), (2596, 0.0), (2597, 0.0), (2599, 0.0), (2600, 0.0), (2602, 0.0), (2604, 0.0), (2605, 0.0), (2606, 0.0), (2608, 0.0), (2609, 0.0), (2610, 0.0), (2611, 0.0), (2612, 0.0), (2613, 0.0), (2614, 0.0), (2615, 0.0), (2616, 0.0), (2617, 0.0), (2619, 0.0), (2620, 0.0), (2623, 0.0), (2624, 0.0), (2625, 0.0), (2626, 0.0), (2627, 0.0), (2628, 0.0), (2629, 0.0), (2631, 0.0), (2634, 0.0), (2635, 0.0), (2636, 0.0), (2637, 0.0), (2641, 0.0), (2642, 0.0), (2643, 0.0), (2645, 0.0), (2648, 0.0), (2649, 0.0), (2651, 0.0), (2652, 0.0), (2655, 0.0), (2656, 0.0), (2657, 0.0), (2658, 0.0), (2659, 0.0), (2661, 0.0), (2662, 0.0), (2663, 0.0), (2664, 0.0), (2666, 0.0), (2667, 0.0), (2669, 0.0), (2670, 0.0), (2671, 0.0), (2672, 0.0), (2673, 0.0), (2674, 0.0), (2675, 0.0), (2676, 0.0), (2677, 0.0), (2678, 0.0), (2679, 0.0), (2681, 0.0), (2682, 0.0), (2683, 0.0), (2684, 0.0), (2685, 0.0), (2686, 0.0), (2690, 0.0), (2693, 0.0), (2695, 0.0), (2696, 0.0), (2697, 0.0), (2699, 0.0), (2700, 0.0), (2701, 0.0), (2702, 0.0), (2703, 0.0), (2704, 0.0), (2705, 0.0), (2707, 0.0), (2709, 0.0), (2711, 0.0), (2713, 0.0), (2714, 0.0), (2715, 0.0), (2717, 0.0), (2719, 0.0), (2720, 0.0), (2721, 0.0), (2722, 0.0), (2724, 0.0), (2725, 0.0), (2727, 0.0), (2728, 0.0), (2729, 0.0), (2730, 0.0), (2731, 0.0), (2733, 0.0), (2734, 0.0), (2735, 0.0), (2736, 0.0), (2737, 0.0), (2738, 0.0), (2739, 0.0), (2741, 0.0), (2743, 0.0), (2746, 0.0), (2747, 0.0), (2748, 0.0), (2749, 0.0), (2750, 0.0), (2752, 0.0), (2753, 0.0), (2754, 0.0), (2755, 0.0), (2756, 0.0), (2757, 0.0), (2758, 0.0), (2761, 0.0), (2763, 0.0), (2764, 0.0), (2765, 0.0), (2766, 0.0), (2768, 0.0), (2770, 0.0), (2771, 0.0), (2772, 0.0), (2773, 0.0), (2775, 0.0), (2776, 0.0), (2778, 0.0), (2779, 0.0), (2780, 0.0), (2781, 0.0), (2783, 0.0), (2784, 0.0), (2785, 0.0), (2786, 0.0), (2787, 0.0), (2788, 0.0), (2790, 0.0), (2792, 0.0), (2793, 0.0), (2794, 0.0), (2795, 0.0), (2796, 0.0), (2797, 0.0), (2799, 0.0), (2800, 0.0), (2801, 0.0), (2802, 0.0), (2804, 0.0), (2806, 0.0), (2809, 0.0), (2810, 0.0), (2811, 0.0), (2813, 0.0), (2814, 0.0), (2815, 0.0), (2817, 0.0), (2818, 0.0), (2819, 0.0), (2821, 0.0), (2822, 0.0), (2824, 0.0), (2825, 0.0), (2826, 0.0), (2827, 0.0), (2828, 0.0), (2829, 0.0), (2830, 0.0), (2832, 0.0), (2833, 0.0), (2834, 0.0), (2835, 0.0), (2836, 0.0), (2837, 0.0), (2838, 0.0), (2839, 0.0), (2840, 0.0), (2842, 0.0), (2845, 0.0), (2847, 0.0), (2848, 0.0), (2849, 0.0), (2850, 0.0), (2851, 0.0), (2852, 0.0), (2853, 0.0), (2854, 0.0), (2855, 0.0), (2856, 0.0), (2857, 0.0), (2858, 0.0), (2860, 0.0), (2861, 0.0), (2862, 0.0), (2863, 0.0), (2864, 0.0), (2865, 0.0), (2866, 0.0), (2870, 0.0), (2871, 0.0), (2872, 0.0), (2875, 0.0), (2877, 0.0), (2878, 0.0), (2879, 0.0), (2880, 0.0), (2881, 0.0), (2882, 0.0), (2883, 0.0), (2884, 0.0), (2886, 0.0), (2888, 0.0), (2889, 0.0), (2890, 0.0), (2891, 0.0), (2892, 0.0), (2894, 0.0), (2895, 0.0), (2896, 0.0), (2897, 0.0), (2898, 0.0), (2899, 0.0), (2900, 0.0), (2901, 0.0), (2902, 0.0), (2904, 0.0), (2905, 0.0), (2906, 0.0), (2907, 0.0), (2909, 0.0), (2910, 0.0), (2911, 0.0), (2912, 0.0), (2913, 0.0), (2914, 0.0), (2916, 0.0), (2918, 0.0), (2919, 0.0), (2921, 0.0), (2922, 0.0), (2923, 0.0), (2924, 0.0), (2925, 0.0), (2926, 0.0), (2927, 0.0), (2928, 0.0), (2930, 0.0), (2932, 0.0), (2934, 0.0), (2937, 0.0), (2938, 0.0), (2939, 0.0), (2940, 0.0), (2941, 0.0), (2943, 0.0), (2945, 0.0), (2946, 0.0), (2947, 0.0), (2948, 0.0), (2949, 0.0), (2950, 0.0), (2951, 0.0), (2952, 0.0), (2953, 0.0), (2954, 0.0), (2955, 0.0), (2956, 0.0), (2957, 0.0), (2958, 0.0), (2959, 0.0), (2960, 0.0), (2961, 0.0), (2962, 0.0), (2963, 0.0), (2965, 0.0), (2966, 0.0), (2967, 0.0), (2968, 0.0), (2970, 0.0), (2972, 0.0), (2973, 0.0), (2974, 0.0), (2976, 0.0), (2978, 0.0), (2979, 0.0), (2982, 0.0), (2983, 0.0), (2984, 0.0), (2986, 0.0), (2987, 0.0), (2989, 0.0), (2990, 0.0), (2991, 0.0), (2993, 0.0), (2994, 0.0), (2996, 0.0), (2997, 0.0), (2998, 0.0), (2999, 0.0), (3001, 0.0), (3002, 0.0), (3003, 0.0), (3005, 0.0), (3006, 0.0), (3007, 0.0), (3009, 0.0), (3011, 0.0), (3012, 0.0), (3013, 0.0), (3014, 0.0), (3015, 0.0), (3016, 0.0), (3018, 0.0), (3019, 0.0), (3020, 0.0), (3021, 0.0), (3022, 0.0), (3024, 0.0), (3025, 0.0), (3026, 0.0), (3027, 0.0), (3028, 0.0), (3029, 0.0), (3030, 0.0), (3031, 0.0), (3032, 0.0), (3034, 0.0), (3035, 0.0), (3037, 0.0), (3038, 0.0), (3040, 0.0), (3041, 0.0), (3042, 0.0), (3043, 0.0), (3044, 0.0), (3047, 0.0), (3048, 0.0), (3049, 0.0), (3050, 0.0), (3051, 0.0), (3052, 0.0), (3054, 0.0), (3055, 0.0), (3056, 0.0), (3057, 0.0), (3058, 0.0), (3059, 0.0), (3060, 0.0), (3061, 0.0), (3062, 0.0), (3063, 0.0), (3064, 0.0), (3068, 0.0), (3069, 0.0), (3070, 0.0), (3071, 0.0), (3072, 0.0), (3073, 0.0), (3074, 0.0), (3075, 0.0), (3076, 0.0), (3077, 0.0), (3078, 0.0), (3079, 0.0), (3080, 0.0), (3081, 0.0), (3082, 0.0), (3084, 0.0), (3086, 0.0), (3087, 0.0), (3088, 0.0), (3089, 0.0), (3090, 0.0), (3092, 0.0), (3093, 0.0), (3097, 0.0), (3099, 0.0), (3100, 0.0), (3101, 0.0), (3103, 0.0), (3104, 0.0), (3105, 0.0), (3106, 0.0), (3107, 0.0), (3109, 0.0), (3110, 0.0), (3112, 0.0), (3113, 0.0), (3115, 0.0), (3116, 0.0), (3117, 0.0), (3118, 0.0), (3119, 0.0), (3120, 0.0), (3121, 0.0), (3122, 0.0), (3123, 0.0), (3124, 0.0), (3125, 0.0), (3126, 0.0), (3128, 0.0), (3130, 0.0), (3131, 0.0), (3132, 0.0), (3133, 0.0), (3134, 0.0), (3135, 0.0), (3136, 0.0), (3138, 0.0), (3139, 0.0), (3140, 0.0), (3141, 0.0), (3142, 0.0), (3143, 0.0), (3145, 0.0), (3146, 0.0), (3147, 0.0), (3148, 0.0), (3149, 0.0), (3150, 0.0), (3154, 0.0), (3155, 0.0), (3158, 0.0), (3159, 0.0), (3160, 0.0), (3161, 0.0), (3162, 0.0), (3163, 0.0), (3165, 0.0), (3166, 0.0), (3168, 0.0), (3169, 0.0), (3170, 0.0), (3171, 0.0), (3172, 0.0), (3173, 0.0), (3174, 0.0), (3175, 0.0), (3176, 0.0), (3177, 0.0), (3178, 0.0), (3179, 0.0), (3180, 0.0), (3181, 0.0), (3182, 0.0), (3183, 0.0), (3184, 0.0), (3185, 0.0), (3186, 0.0), (3187, 0.0), (3188, 0.0), (3189, 0.0), (3190, 0.0), (3191, 0.0), (3192, 0.0), (3193, 0.0), (3194, 0.0), (3195, 0.0), (3196, 0.0), (3197, 0.0), (3198, 0.0), (3199, 0.0), (3200, 0.0), (3201, 0.0), (3202, 0.0), (3204, 0.0), (3206, 0.0), (3207, 0.0), (3208, 0.0), (3210, 0.0), (3211, 0.0), (3212, 0.0), (3214, 0.0), (3216, 0.0), (3217, 0.0), (3219, 0.0), (3220, 0.0), (3221, 0.0), (3223, 0.0), (3224, 0.0), (3225, 0.0), (3227, 0.0), (3229, 0.0), (3230, 0.0), (3231, 0.0), (3232, 0.0), (3233, 0.0), (3234, 0.0), (3235, 0.0), (3236, 0.0), (3238, 0.0), (3239, 0.0), (3241, 0.0), (3242, 0.0), (3243, 0.0), (3245, 0.0), (3247, 0.0), (3250, 0.0), (3251, 0.0), (3252, 0.0), (3254, 0.0), (3257, 0.0), (3258, 0.0), (3259, 0.0), (3261, 0.0), (3262, 0.0), (3263, 0.0), (3266, 0.0), (3267, 0.0), (3268, 0.0), (3269, 0.0), (3270, 0.0), (3271, 0.0), (3272, 0.0), (3273, 0.0), (3274, 0.0), (3275, 0.0), (3277, 0.0), (3278, 0.0), (3281, 0.0), (3282, 0.0), (3283, 0.0), (3286, 0.0), (3287, 0.0), (3289, 0.0), (3290, 0.0), (3291, 0.0), (3292, 0.0), (3293, 0.0), (3296, 0.0), (3297, 0.0), (3298, 0.0), (3300, 0.0), (3301, 0.0), (3302, 0.0), (3303, 0.0), (3304, 0.0), (3305, 0.0), (3306, 0.0), (3307, 0.0), (3308, 0.0), (3310, 0.0), (3311, 0.0), (3312, 0.0), (3314, 0.0), (3317, 0.0), (3318, 0.0), (3320, 0.0), (3321, 0.0), (3322, 0.0), (3323, 0.0), (3324, 0.0), (3325, 0.0), (3326, 0.0), (3327, 0.0), (3330, 0.0), (3331, 0.0), (3332, 0.0), (3333, 0.0), (3335, 0.0), (3336, 0.0), (3337, 0.0), (3338, 0.0), (3339, 0.0), (3340, 0.0), (3341, 0.0), (3342, 0.0), (3343, 0.0), (3347, 0.0), (3348, 0.0), (3349, 0.0), (3350, 0.0), (3353, 0.0), (3354, 0.0), (3355, 0.0), (3357, 0.0), (3358, 0.0), (3359, 0.0), (3361, 0.0), (3363, 0.0), (3364, 0.0), (3365, 0.0), (3366, 0.0), (3367, 0.0), (3368, 0.0), (3369, 0.0), (3370, 0.0), (3371, 0.0), (3372, 0.0), (3373, 0.0), (3374, 0.0), (3378, 0.0), (3379, 0.0), (3380, 0.0), (3381, 0.0), (3382, 0.0), (3383, 0.0), (3388, 0.0), (3390, 0.0), (3391, 0.0), (3392, 0.0), (3393, 0.0), (3394, 0.0), (3396, 0.0), (3397, 0.0), (3398, 0.0), (3400, 0.0), (3401, 0.0), (3402, 0.0), (3403, 0.0), (3404, 0.0), (3405, 0.0), (3406, 0.0), (3411, 0.0), (3412, 0.0), (3413, 0.0), (3414, 0.0), (3415, 0.0), (3417, 0.0), (3418, 0.0), (3419, 0.0), (3422, 0.0), (3424, 0.0), (3425, 0.0), (3429, 0.0), (3431, 0.0), (3432, 0.0), (3434, 0.0), (3435, 0.0), (3436, 0.0), (3437, 0.0), (3438, 0.0), (3439, 0.0), (3440, 0.0), (3441, 0.0), (3442, 0.0), (3443, 0.0), (3444, 0.0), (3445, 0.0), (3448, 0.0), (3449, 0.0), (3451, 0.0), (3452, 0.0), (3453, 0.0), (3454, 0.0), (3455, 0.0), (3459, 0.0), (3460, 0.0), (3461, 0.0), (3464, 0.0), (3465, 0.0), (3467, 0.0), (3468, 0.0), (3472, 0.0), (3473, 0.0), (3474, 0.0), (3475, 0.0), (3476, 0.0), (3477, 0.0), (3478, 0.0), (3479, 0.0), (3481, 0.0), (3482, 0.0), (3484, 0.0), (3485, 0.0), (3487, 0.0), (3489, 0.0), (3490, 0.0), (3491, 0.0), (3493, 0.0), (3494, 0.0), (3495, 0.0), (3496, 0.0), (3497, 0.0), (3499, 0.0), (3500, 0.0), (3501, 0.0), (3502, 0.0), (3503, 0.0), (3505, 0.0), (3506, 0.0), (3507, 0.0), (3510, 0.0), (3512, 0.0), (3513, 0.0), (3514, 0.0), (3516, 0.0), (3517, 0.0), (3519, 0.0), (3520, 0.0), (3521, 0.0), (3522, 0.0), (3523, 0.0), (3525, 0.0), (3526, 0.0), (3527, 0.0), (3529, 0.0), (3530, 0.0), (3531, 0.0), (3532, 0.0), (3533, 0.0), (3534, 0.0), (3535, 0.0), (3537, 0.0), (3538, 0.0), (3539, 0.0), (3540, 0.0), (3542, 0.0), (3543, 0.0), (3544, 0.0), (3545, 0.0), (3546, 0.0), (3547, 0.0), (3548, 0.0), (3549, 0.0), (3550, 0.0), (3551, 0.0), (3554, 0.0), (3555, 0.0), (3557, 0.0), (3560, 0.0), (3561, 0.0), (3562, 0.0), (3563, 0.0), (3564, 0.0), (3565, 0.0), (3567, 0.0), (3568, 0.0), (3569, 0.0), (3570, 0.0), (3571, 0.0), (3573, 0.0), (3575, 0.0), (3576, 0.0), (3577, 0.0), (3578, 0.0), (3581, 0.0), (3582, 0.0), (3583, 0.0), (3584, 0.0), (3585, 0.0), (3586, 0.0), (3587, 0.0), (3588, 0.0), (3589, 0.0), (3590, 0.0), (3591, 0.0), (3592, 0.0), (3593, 0.0), (3595, 0.0), (3600, 0.0), (3601, 0.0), (3602, 0.0), (3603, 0.0), (3604, 0.0), (3605, 0.0), (3606, 0.0), (3607, 0.0), (3608, 0.0), (3609, 0.0), (3610, 0.0), (3611, 0.0), (3612, 0.0), (3613, 0.0), (3614, 0.0), (3615, 0.0), (3616, 0.0), (3617, 0.0), (3618, 0.0), (3619, 0.0), (3620, 0.0), (3621, 0.0), (3622, 0.0), (3623, 0.0), (3624, 0.0), (3625, 0.0), (3626, 0.0), (3627, 0.0), (3628, 0.0), (3629, 0.0), (3631, 0.0), (3633, 0.0), (3635, 0.0), (3636, 0.0), (3637, 0.0), (3638, 0.0), (3639, 0.0), (3640, 0.0), (3641, 0.0), (3642, 0.0), (3644, 0.0), (3645, 0.0), (3646, 0.0), (3647, 0.0), (3649, 0.0), (3650, 0.0), (3651, 0.0), (3653, 0.0), (3654, 0.0), (3657, 0.0), (3658, 0.0), (3659, 0.0), (3660, 0.0), (3662, 0.0), (3663, 0.0), (3664, 0.0), (3666, 0.0), (3668, 0.0), (3669, 0.0), (3670, 0.0), (3671, 0.0), (3672, 0.0), (3673, 0.0), (3674, 0.0), (3675, 0.0), (3676, 0.0), (3677, 0.0), (3678, 0.0), (3679, 0.0), (3680, 0.0), (3681, 0.0), (3682, 0.0), (3683, 0.0), (3685, 0.0), (3686, 0.0), (3687, 0.0), (3688, 0.0), (3690, 0.0), (3691, 0.0), (3693, 0.0), (3694, 0.0), (3695, 0.0), (3696, 0.0), (3697, 0.0), (3698, 0.0), (3699, 0.0), (3700, 0.0), (3701, 0.0), (3702, 0.0), (3703, 0.0), (3704, 0.0), (3705, 0.0), (3706, 0.0), (3707, 0.0), (3708, 0.0), (3709, 0.0), (3710, 0.0), (3712, 0.0), (3714, 0.0), (3715, 0.0), (3716, 0.0), (3717, 0.0), (3718, 0.0), (3719, 0.0), (3721, 0.0), (3722, 0.0), (3723, 0.0), (3724, 0.0), (3725, 0.0), (3726, 0.0), (3727, 0.0), (3729, 0.0), (3730, 0.0), (3732, 0.0), (3734, 0.0), (3735, 0.0), (3736, 0.0), (3737, 0.0), (3738, 0.0), (3739, 0.0), (3740, 0.0), (3741, 0.0), (3742, 0.0), (3743, 0.0), (3744, 0.0), (3745, 0.0), (3746, 0.0), (3749, 0.0), (3754, 0.0), (3755, 0.0), (3756, 0.0), (3757, 0.0), (3758, 0.0), (3759, 0.0), (3760, 0.0), (3761, 0.0), (3762, 0.0), (3763, 0.0), (3764, 0.0), (3765, 0.0), (3766, 0.0), (3768, 0.0), (3769, 0.0), (3770, 0.0), (3771, 0.0), (3772, 0.0), (3773, 0.0), (3774, 0.0), (3775, 0.0), (3776, 0.0), (3777, 0.0), (3780, 0.0), (3781, 0.0), (3782, 0.0), (3783, 0.0), (3785, 0.0), (3786, 0.0), (3787, 0.0), (3788, 0.0), (3789, 0.0), (3790, 0.0), (3791, 0.0), (3792, 0.0), (3794, 0.0), (3795, 0.0), (3796, 0.0), (3798, 0.0), (3799, 0.0), (3800, 0.0), (3802, 0.0), (3803, 0.0), (3804, 0.0), (3805, 0.0), (3806, 0.0), (3807, 0.0), (3808, 0.0), (3809, 0.0), (3811, 0.0), (3812, 0.0), (3813, 0.0), (3814, 0.0), (3815, 0.0), (3816, 0.0), (3817, 0.0), (3818, 0.0), (3819, 0.0), (3820, 0.0), (3823, 0.0), (3824, 0.0), (3827, 0.0), (3828, 0.0), (3830, 0.0), (3831, 0.0), (3832, 0.0), (3833, 0.0), (3834, 0.0), (3836, 0.0), (3837, 0.0), (3838, 0.0), (3840, 0.0), (3841, 0.0), (3842, 0.0), (3843, 0.0), (3844, 0.0), (3845, 0.0), (3846, 0.0), (3847, 0.0), (3848, 0.0), (3849, 0.0), (3851, 0.0), (3854, 0.0), (3855, 0.0), (3856, 0.0), (3858, 0.0), (3859, 0.0), (3860, 0.0), (3862, 0.0), (3863, 0.0), (3866, 0.0), (3869, 0.0), (3870, 0.0), (3872, 0.0), (3873, 0.0), (3874, 0.0), (3876, 0.0), (3877, 0.0), (3878, 0.0), (3879, 0.0), (3881, 0.0), (3882, 0.0), (3883, 0.0), (3884, 0.0), (3885, 0.0), (3886, 0.0), (3887, 0.0), (3888, 0.0), (3889, 0.0), (3890, 0.0), (3891, 0.0), (3892, 0.0), (3893, 0.0), (3894, 0.0), (3896, 0.0), (3897, 0.0), (3898, 0.0), (3899, 0.0), (3900, 0.0), (3901, 0.0), (3902, 0.0), (3905, 0.0), (3906, 0.0), (3907, 0.0), (3908, 0.0), (3910, 0.0), (3911, 0.0), (3912, 0.0), (3914, 0.0), (3915, 0.0), (3916, 0.0), (3917, 0.0), (3918, 0.0), (3920, 0.0), (3921, 0.0), (3922, 0.0), (3924, 0.0), (3925, 0.0), (3928, 0.0), (3929, 0.0), (3930, 0.0), (3931, 0.0), (3932, 0.0), (3933, 0.0), (3935, 0.0), (3936, 0.0), (3937, 0.0), (3938, 0.0), (3939, 0.0), (3941, 0.0), (3942, 0.0), (3943, 0.0), (3944, 0.0), (3945, 0.0), (3948, 0.0), (3949, 0.0), (3950, 0.0), (3952, 0.0), (3953, 0.0), (3956, 0.0), (3959, 0.0), (3960, 0.0), (3962, 0.0), (3963, 0.0), (3964, 0.0), (3965, 0.0), (3966, 0.0), (3967, 0.0), (3968, 0.0), (3969, 0.0), (3970, 0.0), (3971, 0.0), (3972, 0.0), (3974, 0.0), (3975, 0.0), (3977, 0.0), (3978, 0.0), (3979, 0.0), (3980, 0.0), (3981, 0.0), (3982, 0.0), (3984, 0.0), (3985, 0.0), (3986, 0.0), (3987, 0.0), (3988, 0.0), (3989, 0.0), (3990, 0.0), (3991, 0.0), (3992, 0.0), (3993, 0.0), (3994, 0.0), (3995, 0.0), (3996, 0.0), (3997, 0.0), (3999, 0.0), (4000, 0.0), (4002, 0.0), (4003, 0.0), (4006, 0.0), (4010, 0.0), (4011, 0.0), (4013, 0.0), (4014, 0.0), (4015, 0.0), (4017, 0.0), (4018, 0.0), (4019, 0.0), (4020, 0.0), (4021, 0.0), (4022, 0.0), (4024, 0.0), (4026, 0.0), (4027, 0.0), (4029, 0.0), (4030, 0.0), (4031, 0.0), (4033, 0.0), (4034, 0.0), (4036, 0.0), (4037, 0.0), (4038, 0.0), (4039, 0.0), (4040, 0.0), (4041, 0.0), (4042, 0.0), (4043, 0.0), (4044, 0.0), (4045, 0.0), (4046, 0.0), (4047, 0.0), (4048, 0.0), (4049, 0.0), (4051, 0.0), (4054, 0.0), (4056, 0.0), (4058, 0.0), (4059, 0.0), (4060, 0.0), (4063, 0.0), (4065, 0.0), (4066, 0.0), (4067, 0.0), (4068, 0.0), (4069, 0.0), (4070, 0.0), (4071, 0.0), (4072, 0.0), (4073, 0.0), (4074, 0.0), (4075, 0.0), (4076, 0.0), (4078, 0.0), (4079, 0.0), (4080, 0.0), (4082, 0.0), (4083, 0.0), (4084, 0.0), (4085, 0.0), (4086, 0.0), (4087, 0.0), (4088, 0.0), (4089, 0.0), (4090, 0.0), (4091, 0.0), (4092, 0.0), (4093, 0.0), (4094, 0.0), (4095, 0.0), (4096, 0.0), (4097, 0.0), (4098, 0.0), (4100, 0.0), (4101, 0.0), (4102, 0.0), (4103, 0.0), (4105, 0.0), (4107, 0.0), (4108, 0.0), (4109, 0.0), (4111, 0.0), (4112, 0.0), (4113, 0.0), (4114, 0.0), (4115, 0.0), (4116, 0.0), (4117, 0.0), (4118, 0.0), (4119, 0.0), (4120, 0.0), (4121, 0.0), (4122, 0.0), (4123, 0.0), (4124, 0.0), (4125, 0.0), (4126, 0.0), (4127, 0.0), (4129, 0.0), (4130, 0.0), (4131, 0.0), (4132, 0.0), (4133, 0.0), (4135, 0.0), (4136, 0.0), (4138, 0.0), (4139, 0.0), (4140, 0.0), (4142, 0.0), (4143, 0.0), (4144, 0.0), (4145, 0.0), (4146, 0.0), (4147, 0.0), (4148, 0.0), (4150, 0.0), (4151, 0.0), (4153, 0.0), (4154, 0.0), (4155, 0.0), (4157, 0.0), (4159, 0.0), (4160, 0.0), (4161, 0.0), (4162, 0.0), (4163, 0.0), (4164, 0.0), (4166, 0.0), (4167, 0.0), (4168, 0.0), (4169, 0.0), (4170, 0.0), (4171, 0.0), (4172, 0.0), (4173, 0.0), (4174, 0.0), (4175, 0.0), (4178, 0.0), (4179, 0.0), (4180, 0.0), (4181, 0.0), (4183, 0.0), (4184, 0.0), (4185, 0.0), (4186, 0.0), (4187, 0.0), (4188, 0.0), (4190, 0.0), (4191, 0.0), (4192, 0.0), (4193, 0.0), (4194, 0.0), (4197, 0.0), (4198, 0.0), (4199, 0.0), (4200, 0.0), (4201, 0.0), (4202, 0.0), (4204, 0.0), (4206, 0.0), (4207, 0.0), (4208, 0.0), (4209, 0.0), (4211, 0.0), (4212, 0.0), (4213, 0.0), (4214, 0.0), (4215, 0.0), (4216, 0.0), (4218, 0.0), (4219, 0.0), (4220, 0.0), (4221, 0.0), (4222, 0.0), (4223, 0.0), (4224, 0.0), (4225, 0.0), (4227, 0.0), (4228, 0.0), (4229, 0.0), (4230, 0.0), (4231, 0.0), (4232, 0.0), (4233, 0.0), (4234, 0.0), (4235, 0.0), (4237, 0.0), (4238, 0.0), (4239, 0.0), (4240, 0.0), (4241, 0.0), (4242, 0.0), (4243, 0.0), (4244, 0.0), (4245, 0.0), (4246, 0.0), (4247, 0.0), (4248, 0.0), (4249, 0.0), (4250, 0.0), (4251, 0.0), (4253, 0.0), (4254, 0.0), (4256, 0.0), (4258, 0.0), (4259, 0.0), (4260, 0.0), (4261, 0.0), (4262, 0.0), (4263, 0.0), (4264, 0.0), (4265, 0.0), (4266, 0.0), (4267, 0.0), (4269, 0.0), (4270, 0.0), (4271, 0.0), (4273, 0.0), (4274, 0.0), (4275, 0.0), (4276, 0.0), (4277, 0.0), (4278, 0.0), (4279, 0.0), (4280, 0.0), (4282, 0.0), (4284, 0.0), (4285, 0.0), (4286, 0.0), (4287, 0.0), (4288, 0.0), (4289, 0.0), (4290, 0.0), (4291, 0.0), (4292, 0.0), (4293, 0.0), (4294, 0.0), (4295, 0.0), (4296, 0.0), (4297, 0.0), (4298, 0.0), (4299, 0.0), (4300, 0.0), (4301, 0.0), (4302, 0.0), (4304, 0.0), (4305, 0.0), (4306, 0.0), (4307, 0.0), (4308, 0.0), (4309, 0.0), (4310, 0.0), (4311, 0.0), (4312, 0.0), (4313, 0.0), (4315, 0.0), (4316, 0.0), (4317, 0.0), (4318, 0.0), (4319, 0.0), (4320, 0.0), (4322, 0.0), (4323, 0.0), (4324, 0.0), (4325, 0.0), (4326, 0.0), (4327, 0.0), (4328, 0.0), (4329, 0.0), (4330, 0.0), (4331, 0.0), (4332, 0.0), (4333, 0.0), (4334, 0.0), (4335, 0.0), (4338, 0.0), (4339, 0.0), (4340, 0.0), (4341, 0.0), (4343, 0.0), (4345, 0.0), (4346, 0.0), (4347, 0.0), (4348, 0.0), (4350, 0.0), (4352, 0.0), (4353, 0.0), (4354, 0.0), (4355, 0.0), (4356, 0.0), (4357, 0.0), (4358, 0.0), (4359, 0.0), (4360, 0.0), (4361, 0.0), (4363, 0.0), (4364, 0.0), (4365, 0.0), (4366, 0.0), (4368, 0.0), (4369, 0.0), (4370, 0.0), (4372, 0.0), (4374, 0.0), (4376, 0.0), (4377, 0.0), (4379, 0.0), (4380, 0.0), (4381, 0.0), (4383, 0.0), (4384, 0.0), (4386, 0.0), (4387, 0.0), (4390, 0.0), (4391, 0.0), (4392, 0.0), (4393, 0.0), (4394, 0.0), (4396, 0.0), (4397, 0.0), (4400, 0.0), (4401, 0.0), (4403, 0.0), (4404, 0.0), (4405, 0.0), (4406, 0.0), (4407, 0.0), (4408, 0.0), (4409, 0.0), (4410, 0.0), (4411, 0.0), (4412, 0.0), (4413, 0.0), (4414, 0.0), (4415, 0.0), (4416, 0.0), (4417, 0.0), (4418, 0.0), (4419, 0.0), (4420, 0.0), (4421, 0.0), (4422, 0.0), (4423, 0.0), (4424, 0.0), (4425, 0.0), (4426, 0.0), (4427, 0.0), (4428, 0.0), (4429, 0.0), (4430, 0.0), (4431, 0.0), (4432, 0.0), (4433, 0.0), (4434, 0.0), (4435, 0.0), (4437, 0.0), (4438, 0.0), (4439, 0.0), (4441, 0.0), (4442, 0.0), (4444, 0.0), (4445, 0.0), (4446, 0.0), (4447, 0.0), (4448, 0.0), (4449, 0.0), (4451, 0.0), (4453, 0.0), (4454, 0.0), (4455, 0.0), (4457, 0.0), (4458, 0.0), (4460, 0.0), (4461, 0.0), (4462, 0.0), (4463, 0.0), (4464, 0.0), (4465, 0.0), (4468, 0.0), (4469, 0.0), (4470, 0.0), (4471, 0.0), (4472, 0.0), (4473, 0.0), (4474, 0.0), (4475, 0.0), (4476, 0.0), (4477, 0.0), (4478, 0.0), (4479, 0.0), (4480, 0.0), (4481, 0.0), (4483, 0.0), (4484, 0.0), (4485, 0.0), (4487, 0.0), (4489, 0.0), (4490, 0.0), (4491, 0.0), (4493, 0.0), (4494, 0.0), (4495, 0.0), (4496, 0.0), (4497, 0.0), (4498, 0.0), (4499, 0.0), (4500, 0.0), (4501, 0.0), (4502, 0.0), (4503, 0.0), (4505, 0.0), (4506, 0.0), (4507, 0.0), (4508, 0.0), (4509, 0.0), (4510, 0.0), (4512, 0.0), (4513, 0.0), (4514, 0.0), (4515, 0.0), (4516, 0.0), (4517, 0.0), (4518, 0.0), (4519, 0.0), (4520, 0.0), (4521, 0.0), (4522, 0.0), (4523, 0.0), (4525, 0.0), (4526, 0.0), (4527, 0.0), (4528, 0.0), (4529, 0.0), (4530, 0.0), (4531, 0.0), (4532, 0.0), (4535, 0.0), (4536, 0.0), (4537, 0.0), (4538, 0.0), (4539, 0.0), (4540, 0.0), (4541, 0.0), (4542, 0.0), (4543, 0.0), (4544, 0.0), (4545, 0.0), (4546, 0.0), (4547, 0.0), (4549, 0.0), (4550, 0.0), (4551, 0.0), (4552, 0.0), (4553, 0.0), (4555, 0.0), (4556, 0.0), (4557, 0.0), (4558, 0.0), (4559, 0.0), (4560, 0.0), (4561, 0.0), (4562, 0.0), (4563, 0.0), (4565, 0.0), (4566, 0.0), (4567, 0.0), (4568, 0.0), (4569, 0.0), (4570, 0.0), (4571, 0.0), (4572, 0.0), (4573, 0.0), (4574, 0.0), (4575, 0.0), (4577, 0.0), (4578, 0.0), (4579, 0.0), (4580, 0.0), (4581, 0.0), (4582, 0.0), (4584, 0.0), (4585, 0.0), (4586, 0.0), (4587, 0.0), (4589, 0.0), (4591, 0.0), (4592, 0.0), (4593, 0.0), (4595, 0.0), (4597, 0.0), (4598, 0.0), (4599, 0.0), (4600, 0.0), (4601, 0.0), (4604, 0.0), (4606, 0.0), (4607, 0.0), (4609, 0.0), (4611, 0.0), (4612, 0.0), (4613, 0.0), (4615, 0.0), (4616, 0.0), (4617, 0.0), (4618, 0.0), (4619, 0.0), (4620, 0.0), (4621, 0.0), (4622, 0.0), (4623, 0.0), (4624, 0.0), (4625, 0.0), (4626, 0.0), (4628, 0.0), (4629, 0.0), (4630, 0.0), (4631, 0.0), (4632, 0.0), (4633, 0.0), (4634, 0.0), (4635, 0.0), (4636, 0.0), (4637, 0.0), (4638, 0.0), (4639, 0.0), (4640, 0.0), (4641, 0.0), (4642, 0.0), (4643, 0.0), (4644, 0.0), (4645, 0.0), (4646, 0.0), (4647, 0.0), (4648, 0.0), (4650, 0.0), (4651, 0.0), (4653, 0.0), (4654, 0.0), (4655, 0.0), (4656, 0.0), (4657, 0.0), (4659, 0.0), (4660, 0.0), (4661, 0.0), (4662, 0.0), (4663, 0.0), (4664, 0.0), (4665, 0.0), (4666, 0.0), (4667, 0.0), (4668, 0.0), (4669, 0.0), (4670, 0.0), (4671, 0.0), (4672, 0.0), (4673, 0.0), (4674, 0.0), (4675, 0.0), (4676, 0.0), (4677, 0.0), (4678, 0.0), (4679, 0.0), (4680, 0.0), (4681, 0.0), (4683, 0.0), (4686, 0.0), (4687, 0.0), (4688, 0.0), (4690, 0.0), (4691, 0.0), (4692, 0.0), (4693, 0.0), (4694, 0.0), (4696, 0.0), (4697, 0.0), (4698, 0.0), (4699, 0.0), (4700, 0.0), (4702, 0.0), (4704, 0.0), (4705, 0.0), (4706, 0.0), (4707, 0.0), (4708, 0.0), (4709, 0.0), (4710, 0.0), (4711, 0.0), (4712, 0.0), (4713, 0.0), (4714, 0.0), (4715, 0.0), (4716, 0.0), (4717, 0.0), (4718, 0.0), (4719, 0.0), (4720, 0.0), (4722, 0.0), (4723, 0.0), (4724, 0.0), (4725, 0.0), (4728, 0.0), (4729, 0.0), (4730, 0.0), (4732, 0.0), (4733, 0.0), (4734, 0.0), (4735, 0.0), (4736, 0.0), (4737, 0.0), (4740, 0.0), (4741, 0.0), (4742, 0.0), (4743, 0.0), (4744, 0.0), (4745, 0.0), (4746, 0.0), (4747, 0.0), (4749, 0.0), (4750, 0.0), (4751, 0.0), (4752, 0.0), (4753, 0.0), (4754, 0.0), (4755, 0.0), (4756, 0.0), (4757, 0.0), (4758, 0.0), (4759, 0.0)]\n"
          ]
        }
      ]
    },
    {
      "cell_type": "code",
      "source": [
        "#print the name of similar movie based on the index\n",
        "print('Top 30 Movies Suggested for you: \\n')\n",
        "i=1\n",
        "for Movie in Sorted_Similar_Movies:\n",
        "  index=Movie[0]\n",
        "  title_from_index= df[df.index==index]['Movie_Title'].values[0]\n",
        "  if(i<31):\n",
        "    print(i,'.',title_from_index)\n",
        "    i+=1"
      ],
      "metadata": {
        "colab": {
          "base_uri": "https://localhost:8080/"
        },
        "id": "9EMQ-wEjNAR5",
        "outputId": "721796fa-6a5d-4116-cee6-df2e8c77a67d"
      },
      "execution_count": 32,
      "outputs": [
        {
          "output_type": "stream",
          "name": "stdout",
          "text": [
            "Top 30 Movies Suggested for you: \n",
            "\n",
            "1 . Niagara\n",
            "2 . Back to the Future\n",
            "3 . The Curse of Downers Grove\n",
            "4 . Welcome to the Sticks\n",
            "5 . Some Like It Hot\n",
            "6 . Harry Brown\n",
            "7 . The Kentucky Fried Movie\n",
            "8 . Alice Through the Looking Glass\n",
            "9 . Duel in the Sun\n",
            "10 . Superman III\n",
            "11 . The Juror\n",
            "12 . Small Soldiers\n",
            "13 . The Misfits\n",
            "14 . Enough\n",
            "15 . Beyond the Black Rainbow\n",
            "16 . Eye for an Eye\n",
            "17 . Camping Sauvage\n",
            "18 . All That Jazz\n",
            "19 . Brokeback Mountain\n",
            "20 . Tora! Tora! Tora!\n",
            "21 . Master and Commander: The Far Side of the World\n",
            "22 . Running with Scissors\n",
            "23 . Minority Report\n",
            "24 . World Trade Center\n",
            "25 . Mad Max 2: The Road Warrior\n",
            "26 . Source Code\n",
            "27 . The Odd Life of Timothy Green\n",
            "28 . The Lazarus Effect\n",
            "29 . Song One\n",
            "30 . The Boy Next Door\n"
          ]
        }
      ]
    },
    {
      "cell_type": "markdown",
      "source": [
        "Top 10 Movies Recommendation System"
      ],
      "metadata": {
        "id": "8_Qux4HbOFqk"
      }
    },
    {
      "cell_type": "code",
      "source": [
        "Movie_Name=input('Enter your Favourite Movie Name:')\n",
        "list_of_all_titles= df['Movie_Title'].tolist()\n",
        "find_CSlose_match= difflib.get_close_matches(Movie_Name,list_of_all_titles)\n",
        "Close_match= find_Close_match[0]\n",
        "Index_of_Movie=df[df.Movie_Title==Close_match]['Movie_ID'].values[0]\n",
        "Recommendation_score=list(enumerate(similarity_score[Index_of_Movie]))\n",
        "Sorted_Similar_Movies=sorted(Recommendation_score,key=lambda x:x[1],reverse=True)\n",
        "print('Top 10 Movies Suggested for you: \\n')\n",
        "i=1\n",
        "for Movie in Sorted_Similar_Movies:\n",
        "  index=Movie[0]\n",
        "  title_from_index=df[df.Movie_ID==index]['Movie_Title'].values\n",
        "  if(i<11):\n",
        "    print(i,'.',title_from_index)\n",
        "    i+=1"
      ],
      "metadata": {
        "colab": {
          "base_uri": "https://localhost:8080/"
        },
        "id": "uBo06sf_OKTl",
        "outputId": "8cd9d7c4-9008-4bd7-842a-ab38ee894ff5"
      },
      "execution_count": 35,
      "outputs": [
        {
          "output_type": "stream",
          "name": "stdout",
          "text": [
            "Enter your Favourite Movie Name:avatar\n",
            "Top 10 Movies Suggested for you: \n",
            "\n",
            "1 . ['Avatar']\n",
            "2 . ['Run Lola Run']\n",
            "3 . ['The Opposite Sex']\n",
            "4 . ['Jumper']\n",
            "5 . ['The Godfather']\n",
            "6 . ['Precious']\n",
            "7 . ['New Nightmare']\n",
            "8 . ['The Purge: Anarchy']\n",
            "9 . ['Cradle Will Rock']\n",
            "10 . ['A Prairie Home Companion']\n"
          ]
        }
      ]
    }
  ]
}